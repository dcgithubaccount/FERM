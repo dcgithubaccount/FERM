{
 "cells": [
  {
   "cell_type": "code",
   "execution_count": 43,
   "metadata": {},
   "outputs": [],
   "source": [
    "import pandas as pd\n",
    "import numpy as np\n",
    "\n",
    "def short_rate_tree(n,init_rate,u,d):\n",
    "    tree = np.zeros((n+1,n+1))\n",
    "    for i in range(n+1):\n",
    "        for j in range(i+1):\n",
    "            tree[i][j]=r00*u**j*d**(i-j)\n",
    "    rate_df = pd.DataFrame(data=tree, columns=np.arange(tree.shape[0]))\n",
    "    return rate_df\n",
    "\n",
    "def swap_price_lattice(short_rate,notional=1000000.0,fixed_rate = 0.045):\n",
    "    n = short_rate.shape[0]-1\n",
    "    rate_tree= short_rate.to_numpy()\n",
    "    \n",
    "    payoff = np.zeros((n+1,n+1))\n",
    "    for i in range(n+1):\n",
    "        payoff[n,i]=(rate_tree[n,i]-fixed_rate)/(1+rate_tree[n,i])\n",
    "    for i in range(n-1,-1,-1):\n",
    "        for j in range(i+1):\n",
    "            payoff[i,j]= (rate_tree[i,j]-fixed_rate+q*payoff[i+1,j+1]+(1-q)*payoff[i+1,j])/(1+rate_tree[i,j])\n",
    "    df = pd.DataFrame(data=payoff, columns=np.arange(payoff.shape[0]))\n",
    "    return df\n",
    "\n",
    "def swaption_price(short_df,notional_principal = 1000000.0,fixed_rate = 0.045,t=5,K=0.0):\n",
    "    lattice = swap_price_lattice(short_rate=short_df, notional=notional_principal, fixed_rate=fixed_rate).to_numpy()\n",
    "    rate_tree= short_df.to_numpy()\n",
    "    f= np.vectorize(lambda x: max(x-K,0.0))\n",
    "    payoff = f(lattice)[0:t+1,0:t+1]\n",
    "    for i in range(t-1,-1,-1):\n",
    "        for j in range(i+1):\n",
    "            payoff[i,j]=(q*payoff[i+1,j+1]+(1-q)*payoff[i+1,j])/(1+rate_tree[i,j])\n",
    "    return payoff[0,0]*notional_principal"
   ]
  },
  {
   "cell_type": "code",
   "execution_count": 44,
   "metadata": {},
   "outputs": [
    {
     "data": {
      "text/plain": "          0         1         2         3         4         5         6   \\\n0   0.050000  0.000000  0.000000  0.000000  0.000000  0.000000  0.000000   \n1   0.045000  0.055000  0.000000  0.000000  0.000000  0.000000  0.000000   \n2   0.040500  0.049500  0.060500  0.000000  0.000000  0.000000  0.000000   \n3   0.036450  0.044550  0.054450  0.066550  0.000000  0.000000  0.000000   \n4   0.032805  0.040095  0.049005  0.059895  0.073205  0.000000  0.000000   \n5   0.029525  0.036086  0.044105  0.053906  0.065885  0.080526  0.000000   \n6   0.026572  0.032477  0.039694  0.048515  0.059296  0.072473  0.088578   \n7   0.023915  0.029229  0.035725  0.043663  0.053366  0.065226  0.079720   \n8   0.021523  0.026306  0.032152  0.039297  0.048030  0.058703  0.071748   \n9   0.019371  0.023676  0.028937  0.035367  0.043227  0.052833  0.064573   \n10  0.017434  0.021308  0.026043  0.031831  0.038904  0.047550  0.058116   \n\n          7         8         9         10  \n0   0.000000  0.000000  0.000000  0.000000  \n1   0.000000  0.000000  0.000000  0.000000  \n2   0.000000  0.000000  0.000000  0.000000  \n3   0.000000  0.000000  0.000000  0.000000  \n4   0.000000  0.000000  0.000000  0.000000  \n5   0.000000  0.000000  0.000000  0.000000  \n6   0.000000  0.000000  0.000000  0.000000  \n7   0.097436  0.000000  0.000000  0.000000  \n8   0.087692  0.107179  0.000000  0.000000  \n9   0.078923  0.096461  0.117897  0.000000  \n10  0.071031  0.086815  0.106108  0.129687  ",
      "text/html": "<div>\n<style scoped>\n    .dataframe tbody tr th:only-of-type {\n        vertical-align: middle;\n    }\n\n    .dataframe tbody tr th {\n        vertical-align: top;\n    }\n\n    .dataframe thead th {\n        text-align: right;\n    }\n</style>\n<table border=\"1\" class=\"dataframe\">\n  <thead>\n    <tr style=\"text-align: right;\">\n      <th></th>\n      <th>0</th>\n      <th>1</th>\n      <th>2</th>\n      <th>3</th>\n      <th>4</th>\n      <th>5</th>\n      <th>6</th>\n      <th>7</th>\n      <th>8</th>\n      <th>9</th>\n      <th>10</th>\n    </tr>\n  </thead>\n  <tbody>\n    <tr>\n      <th>0</th>\n      <td>0.050000</td>\n      <td>0.000000</td>\n      <td>0.000000</td>\n      <td>0.000000</td>\n      <td>0.000000</td>\n      <td>0.000000</td>\n      <td>0.000000</td>\n      <td>0.000000</td>\n      <td>0.000000</td>\n      <td>0.000000</td>\n      <td>0.000000</td>\n    </tr>\n    <tr>\n      <th>1</th>\n      <td>0.045000</td>\n      <td>0.055000</td>\n      <td>0.000000</td>\n      <td>0.000000</td>\n      <td>0.000000</td>\n      <td>0.000000</td>\n      <td>0.000000</td>\n      <td>0.000000</td>\n      <td>0.000000</td>\n      <td>0.000000</td>\n      <td>0.000000</td>\n    </tr>\n    <tr>\n      <th>2</th>\n      <td>0.040500</td>\n      <td>0.049500</td>\n      <td>0.060500</td>\n      <td>0.000000</td>\n      <td>0.000000</td>\n      <td>0.000000</td>\n      <td>0.000000</td>\n      <td>0.000000</td>\n      <td>0.000000</td>\n      <td>0.000000</td>\n      <td>0.000000</td>\n    </tr>\n    <tr>\n      <th>3</th>\n      <td>0.036450</td>\n      <td>0.044550</td>\n      <td>0.054450</td>\n      <td>0.066550</td>\n      <td>0.000000</td>\n      <td>0.000000</td>\n      <td>0.000000</td>\n      <td>0.000000</td>\n      <td>0.000000</td>\n      <td>0.000000</td>\n      <td>0.000000</td>\n    </tr>\n    <tr>\n      <th>4</th>\n      <td>0.032805</td>\n      <td>0.040095</td>\n      <td>0.049005</td>\n      <td>0.059895</td>\n      <td>0.073205</td>\n      <td>0.000000</td>\n      <td>0.000000</td>\n      <td>0.000000</td>\n      <td>0.000000</td>\n      <td>0.000000</td>\n      <td>0.000000</td>\n    </tr>\n    <tr>\n      <th>5</th>\n      <td>0.029525</td>\n      <td>0.036086</td>\n      <td>0.044105</td>\n      <td>0.053906</td>\n      <td>0.065885</td>\n      <td>0.080526</td>\n      <td>0.000000</td>\n      <td>0.000000</td>\n      <td>0.000000</td>\n      <td>0.000000</td>\n      <td>0.000000</td>\n    </tr>\n    <tr>\n      <th>6</th>\n      <td>0.026572</td>\n      <td>0.032477</td>\n      <td>0.039694</td>\n      <td>0.048515</td>\n      <td>0.059296</td>\n      <td>0.072473</td>\n      <td>0.088578</td>\n      <td>0.000000</td>\n      <td>0.000000</td>\n      <td>0.000000</td>\n      <td>0.000000</td>\n    </tr>\n    <tr>\n      <th>7</th>\n      <td>0.023915</td>\n      <td>0.029229</td>\n      <td>0.035725</td>\n      <td>0.043663</td>\n      <td>0.053366</td>\n      <td>0.065226</td>\n      <td>0.079720</td>\n      <td>0.097436</td>\n      <td>0.000000</td>\n      <td>0.000000</td>\n      <td>0.000000</td>\n    </tr>\n    <tr>\n      <th>8</th>\n      <td>0.021523</td>\n      <td>0.026306</td>\n      <td>0.032152</td>\n      <td>0.039297</td>\n      <td>0.048030</td>\n      <td>0.058703</td>\n      <td>0.071748</td>\n      <td>0.087692</td>\n      <td>0.107179</td>\n      <td>0.000000</td>\n      <td>0.000000</td>\n    </tr>\n    <tr>\n      <th>9</th>\n      <td>0.019371</td>\n      <td>0.023676</td>\n      <td>0.028937</td>\n      <td>0.035367</td>\n      <td>0.043227</td>\n      <td>0.052833</td>\n      <td>0.064573</td>\n      <td>0.078923</td>\n      <td>0.096461</td>\n      <td>0.117897</td>\n      <td>0.000000</td>\n    </tr>\n    <tr>\n      <th>10</th>\n      <td>0.017434</td>\n      <td>0.021308</td>\n      <td>0.026043</td>\n      <td>0.031831</td>\n      <td>0.038904</td>\n      <td>0.047550</td>\n      <td>0.058116</td>\n      <td>0.071031</td>\n      <td>0.086815</td>\n      <td>0.106108</td>\n      <td>0.129687</td>\n    </tr>\n  </tbody>\n</table>\n</div>"
     },
     "execution_count": 44,
     "metadata": {},
     "output_type": "execute_result"
    }
   ],
   "source": [
    "r00 = 0.05\n",
    "n = 10\n",
    "u = 1.1\n",
    "d = 0.9\n",
    "q = 0.5\n",
    "short_df = short_rate_tree(n=n, init_rate=r00, u=u, d=d)\n",
    "short_df"
   ]
  },
  {
   "cell_type": "code",
   "execution_count": 45,
   "metadata": {},
   "outputs": [
    {
     "data": {
      "text/plain": "          0         1         2         3         4         5         6   \\\n0   0.038136  0.000000  0.000000  0.000000  0.000000  0.000000  0.000000   \n1  -0.002269  0.072354  0.000000  0.000000  0.000000  0.000000  0.000000   \n2  -0.034831  0.030090  0.102578  0.000000  0.000000  0.000000  0.000000   \n3  -0.059296 -0.004187  0.058345  0.128223  0.000000  0.000000  0.000000   \n4  -0.075683 -0.030133  0.022286  0.081858  0.148555  0.000000  0.000000   \n5  -0.084232 -0.047710 -0.005162  0.043908  0.099823  0.162627  0.000000   \n6  -0.085355 -0.057132 -0.023902  0.014914  0.059826  0.111204  0.169191   \n7  -0.079583 -0.058807 -0.034121 -0.004968  0.029213  0.068941  0.114640   \n8  -0.067521 -0.053281 -0.036229 -0.015901  0.008204  0.036607  0.069818   \n9  -0.049810 -0.041186 -0.030791 -0.018301 -0.003345  0.014482  0.035623   \n10 -0.027094 -0.023198 -0.018476 -0.012763 -0.005868  0.002434  0.012396   \n\n          7         8         9         10  \n0   0.000000  0.000000  0.000000  0.000000  \n1   0.000000  0.000000  0.000000  0.000000  \n2   0.000000  0.000000  0.000000  0.000000  \n3   0.000000  0.000000  0.000000  0.000000  \n4   0.000000  0.000000  0.000000  0.000000  \n5   0.000000  0.000000  0.000000  0.000000  \n6   0.000000  0.000000  0.000000  0.000000  \n7   0.166559  0.000000  0.000000  0.000000  \n8   0.108299  0.152405  0.000000  0.000000  \n9   0.060535  0.089672  0.123449  0.000000  \n10  0.024304  0.038475  0.055246  0.074965  ",
      "text/html": "<div>\n<style scoped>\n    .dataframe tbody tr th:only-of-type {\n        vertical-align: middle;\n    }\n\n    .dataframe tbody tr th {\n        vertical-align: top;\n    }\n\n    .dataframe thead th {\n        text-align: right;\n    }\n</style>\n<table border=\"1\" class=\"dataframe\">\n  <thead>\n    <tr style=\"text-align: right;\">\n      <th></th>\n      <th>0</th>\n      <th>1</th>\n      <th>2</th>\n      <th>3</th>\n      <th>4</th>\n      <th>5</th>\n      <th>6</th>\n      <th>7</th>\n      <th>8</th>\n      <th>9</th>\n      <th>10</th>\n    </tr>\n  </thead>\n  <tbody>\n    <tr>\n      <th>0</th>\n      <td>0.038136</td>\n      <td>0.000000</td>\n      <td>0.000000</td>\n      <td>0.000000</td>\n      <td>0.000000</td>\n      <td>0.000000</td>\n      <td>0.000000</td>\n      <td>0.000000</td>\n      <td>0.000000</td>\n      <td>0.000000</td>\n      <td>0.000000</td>\n    </tr>\n    <tr>\n      <th>1</th>\n      <td>-0.002269</td>\n      <td>0.072354</td>\n      <td>0.000000</td>\n      <td>0.000000</td>\n      <td>0.000000</td>\n      <td>0.000000</td>\n      <td>0.000000</td>\n      <td>0.000000</td>\n      <td>0.000000</td>\n      <td>0.000000</td>\n      <td>0.000000</td>\n    </tr>\n    <tr>\n      <th>2</th>\n      <td>-0.034831</td>\n      <td>0.030090</td>\n      <td>0.102578</td>\n      <td>0.000000</td>\n      <td>0.000000</td>\n      <td>0.000000</td>\n      <td>0.000000</td>\n      <td>0.000000</td>\n      <td>0.000000</td>\n      <td>0.000000</td>\n      <td>0.000000</td>\n    </tr>\n    <tr>\n      <th>3</th>\n      <td>-0.059296</td>\n      <td>-0.004187</td>\n      <td>0.058345</td>\n      <td>0.128223</td>\n      <td>0.000000</td>\n      <td>0.000000</td>\n      <td>0.000000</td>\n      <td>0.000000</td>\n      <td>0.000000</td>\n      <td>0.000000</td>\n      <td>0.000000</td>\n    </tr>\n    <tr>\n      <th>4</th>\n      <td>-0.075683</td>\n      <td>-0.030133</td>\n      <td>0.022286</td>\n      <td>0.081858</td>\n      <td>0.148555</td>\n      <td>0.000000</td>\n      <td>0.000000</td>\n      <td>0.000000</td>\n      <td>0.000000</td>\n      <td>0.000000</td>\n      <td>0.000000</td>\n    </tr>\n    <tr>\n      <th>5</th>\n      <td>-0.084232</td>\n      <td>-0.047710</td>\n      <td>-0.005162</td>\n      <td>0.043908</td>\n      <td>0.099823</td>\n      <td>0.162627</td>\n      <td>0.000000</td>\n      <td>0.000000</td>\n      <td>0.000000</td>\n      <td>0.000000</td>\n      <td>0.000000</td>\n    </tr>\n    <tr>\n      <th>6</th>\n      <td>-0.085355</td>\n      <td>-0.057132</td>\n      <td>-0.023902</td>\n      <td>0.014914</td>\n      <td>0.059826</td>\n      <td>0.111204</td>\n      <td>0.169191</td>\n      <td>0.000000</td>\n      <td>0.000000</td>\n      <td>0.000000</td>\n      <td>0.000000</td>\n    </tr>\n    <tr>\n      <th>7</th>\n      <td>-0.079583</td>\n      <td>-0.058807</td>\n      <td>-0.034121</td>\n      <td>-0.004968</td>\n      <td>0.029213</td>\n      <td>0.068941</td>\n      <td>0.114640</td>\n      <td>0.166559</td>\n      <td>0.000000</td>\n      <td>0.000000</td>\n      <td>0.000000</td>\n    </tr>\n    <tr>\n      <th>8</th>\n      <td>-0.067521</td>\n      <td>-0.053281</td>\n      <td>-0.036229</td>\n      <td>-0.015901</td>\n      <td>0.008204</td>\n      <td>0.036607</td>\n      <td>0.069818</td>\n      <td>0.108299</td>\n      <td>0.152405</td>\n      <td>0.000000</td>\n      <td>0.000000</td>\n    </tr>\n    <tr>\n      <th>9</th>\n      <td>-0.049810</td>\n      <td>-0.041186</td>\n      <td>-0.030791</td>\n      <td>-0.018301</td>\n      <td>-0.003345</td>\n      <td>0.014482</td>\n      <td>0.035623</td>\n      <td>0.060535</td>\n      <td>0.089672</td>\n      <td>0.123449</td>\n      <td>0.000000</td>\n    </tr>\n    <tr>\n      <th>10</th>\n      <td>-0.027094</td>\n      <td>-0.023198</td>\n      <td>-0.018476</td>\n      <td>-0.012763</td>\n      <td>-0.005868</td>\n      <td>0.002434</td>\n      <td>0.012396</td>\n      <td>0.024304</td>\n      <td>0.038475</td>\n      <td>0.055246</td>\n      <td>0.074965</td>\n    </tr>\n  </tbody>\n</table>\n</div>"
     },
     "execution_count": 45,
     "metadata": {},
     "output_type": "execute_result"
    }
   ],
   "source": [
    "swap_df = swap_price_lattice(short_rate=short_df, notional=1000000,fixed_rate=0.045)\n",
    "swap_df"
   ]
  },
  {
   "cell_type": "markdown",
   "source": [
    "### Question 1\n",
    "(Pricing swaps using term structure model)\n",
    "\n",
    "Consider an $n=10$ -period binomial model for the short-rate, $r_{i,j}$. The lattice parameters are: $r_{0,0} = 5\\%$, $u=1.1$, $d=0.9$ and $q = 1-q = \\frac{1}{2}$. Compute the initial value of a forward-starting swap that begins at $t=1$, with maturity $t=10$ and a fixed rate of 4.5%. The first payment then takes place at $t=2$ and the final payment takes place at $t=11$ as we are assuming, as usual, that payments take place in arrears. You should assume a swap notional of 1 million and assume that you receive floating and pay fixed.\n",
    "\n",
    "Submission Guideline: Give your answer rounded to the nearest integer. For example, if you compute the answer to be -220,432.23, submit -220432."
   ],
   "metadata": {
    "collapsed": false
   }
  },
  {
   "cell_type": "code",
   "execution_count": 46,
   "outputs": [
    {
     "name": "stdout",
     "output_type": "stream",
     "text": [
      "Inital value of forward starting swap is 33374.24\n"
     ]
    }
   ],
   "source": [
    "def short_rate_tree(n,r00,u,d):\n",
    "    tree = np.zeros((n+1,n+1))\n",
    "    for i in range(n+1):\n",
    "        for j in range(i+1):\n",
    "            tree[i][j]=r00*u**j*d**(i-j)\n",
    "    return tree\n",
    "\n",
    "def forward_equation_lattice(n,r00,u,d,q=.5):\n",
    "    tree = np.zeros((n+1,n+1))\n",
    "    tree[0][0]=1\n",
    "    rate_tree= short_rate_tree(n,r00,u,d)\n",
    "    for i in range(1,n+1):\n",
    "        tree[i][0]=1/(1+rate_tree[i-1][0])*(1-q)*tree[i-1][0]\n",
    "        tree[i][i]=1/(1+rate_tree[i-1][i-1])*q*tree[i-1][i-1]\n",
    "    for i in range(2,n+1):\n",
    "        for j in range(1,i):\n",
    "            tree[i,j]=(1-q)*1/(1+rate_tree[i-1,j])*tree[i-1,j]+q*1/(1+rate_tree[i-1,j-1])*tree[i-1,j-1]\n",
    "    return tree\n",
    "\n",
    "def forward_starting_swap_price(n,r00,u,d,q=.5,notional_principal = 1000000.0,fixed_rate = 0.045):\n",
    "    lattice = forward_equation_lattice(n,r00,u,d,q=.5)\n",
    "    # print(lattice)\n",
    "    rate_tree= short_rate_tree(n,r00,u,d)\n",
    "    s = 0\n",
    "    for i in range(1,n+1):\n",
    "        for j in range(i+1):\n",
    "            s += -(fixed_rate - rate_tree[i][j])/(1+rate_tree[i][j])*lattice[i,j]\n",
    "    return s*notional_principal\n",
    "fp = forward_starting_swap_price(n=10, r00=0.05, u=1.1,d=0.9, q=0.5, notional_principal=1000000, fixed_rate=0.045)\n",
    "print(f\"Inital value of forward starting swap is {np.round(fp, 2)}\")"
   ],
   "metadata": {
    "collapsed": false
   }
  },
  {
   "cell_type": "markdown",
   "source": [
    "### Question 2\n",
    "(Pricing swaptions using term structure model)\n",
    "\n",
    "Consider an $n=10-period$ binomial model for the short-rate,$r_{i,j}$. The lattice parameters are: $r_{0,0} = 5\\%$, $u=1.1$, $d=0.9$ and $q = 1-q = \\frac{1}{2}$.\n",
    "Compute the initial price of a swaption that matures at time $t=5$ and has a strike of 0. The underlying swap is the same swap as described in the previous question with a notional of 1 million. To be clear, you should assume that if the swaption is exercised at $t=5$ then the owner of the swaption will receive all cash-flows from the underlying swap from times $t=6$ to $t=11$ inclusive. (The swaption strike of 0 should also not be confused with the fixed rate of 4.5% on the underlying swap.)\n",
    "\n",
    "Submission Guideline: Give your answer rounded to the nearest integer. For example, if you compute the answer to be -220,432.23, submit -220432."
   ],
   "metadata": {
    "collapsed": false
   }
  },
  {
   "cell_type": "code",
   "execution_count": 47,
   "outputs": [
    {
     "data": {
      "text/plain": "26311.08"
     },
     "execution_count": 47,
     "metadata": {},
     "output_type": "execute_result"
    }
   ],
   "source": [
    "np.round(swaption_price(short_df=short_df, notional_principal= 1000000, fixed_rate=0.045,t=5,K=0), 2)"
   ],
   "metadata": {
    "collapsed": false
   }
  },
  {
   "cell_type": "markdown",
   "source": [
    "### Question 3\n",
    "(Calibration of term structure model)\n",
    "\n",
    "Refer to the material on defaultable bonds and credit-default swaps (CDS).\n",
    "\n",
    "The true price of 5 different defaultable coupon paying bonds with non-zero recovery are specified in  worksheet Calibration in the workbook Assignment5_cds.xlsx. The interest rate is $r=5\\%$ per annum. Calibrate the six month hazard rates A6 to A16 by minimizing the SumError ensuring that the term structure of hazard rates are non-decreasing. You can model the non-decreasing hazard rates by adding constraints of the form A6≤A7,…,A15≤A16. Report the hazard rate at time 0 as a percentage.\n",
    "\n",
    "Submission Guideline: Give your answer in percent rounded to two decimal places. For example, if you compute the answer to be 73.2367%, submit 73.24."
   ],
   "metadata": {
    "collapsed": false
   }
  },
  {
   "cell_type": "code",
   "execution_count": 48,
   "outputs": [
    {
     "name": "stdout",
     "output_type": "stream",
     "text": [
      "The t0 Hazard Rate is 1.76%\n"
     ]
    }
   ],
   "source": [
    "# The answer for this question comes from the Assignment5_CDS.xlsx and the answer is in the cell A6 which is t0 hazard rate\n",
    "t0 = 1.76\n",
    "print(f\"The t0 Hazard Rate is {t0}%\")"
   ],
   "metadata": {
    "collapsed": false
   }
  },
  {
   "cell_type": "markdown",
   "source": [
    "### Question 4\n",
    "(Pricing Credit Default Swaps)\n",
    "\n",
    "Refer to the material on defaultable bonds and credit-default swaps (CDS).\n",
    "\n",
    "Modify the data on the CDS pricing worksheet in the workbook bonds_and_cds.xlsx to compute a par spread in basis points for a 5yr CDS with notional principal N=10 million assuming that the expected recovery rate R=25%, the 3-month hazard rate is a flat 1%, and the interest rate is 5% per annum.\n",
    "\n",
    "Submission Guideline: Give your answer in basis points rounded to two decimal places (1 bps = 0.01%). For example, if you compute the answer to be 73.2367 bps, submit 73.24.\n"
   ],
   "metadata": {
    "collapsed": false
   }
  },
  {
   "cell_type": "code",
   "execution_count": 49,
   "outputs": [
    {
     "name": "stdout",
     "output_type": "stream",
     "text": [
      "The Par value of the 5 Yr spread with interest rate 5% and hazard Rate 1% and recovery rate 25% is 301.51 bps\n"
     ]
    }
   ],
   "source": [
    "# The value of the Par value of 5 Yrs CDS is coming from the tab CDS Pricing using solve to make value of CDS = 0 so that spread is calculated\n",
    "spread = 301.51\n",
    "rate = 5\n",
    "hazard_rate = 1\n",
    "recovery_rate = 25\n",
    "print(f\"The Par value of the 5 Yr spread with interest rate {rate}% and hazard Rate {hazard_rate}% and recovery rate {recovery_rate}% is {spread} bps\")"
   ],
   "metadata": {
    "collapsed": false
   }
  },
  {
   "cell_type": "markdown",
   "source": [],
   "metadata": {
    "collapsed": false
   }
  }
 ],
 "metadata": {
  "kernelspec": {
   "display_name": "Python 3 (ipykernel)",
   "language": "python",
   "name": "python3"
  },
  "language_info": {
   "codemirror_mode": {
    "name": "ipython",
    "version": 3
   },
   "file_extension": ".py",
   "mimetype": "text/x-python",
   "name": "python",
   "nbconvert_exporter": "python",
   "pygments_lexer": "ipython3",
   "version": "3.10.9"
  }
 },
 "nbformat": 4,
 "nbformat_minor": 1
}
