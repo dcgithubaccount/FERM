{
 "cells": [
  {
   "cell_type": "code",
   "execution_count": 539,
   "metadata": {
    "collapsed": true
   },
   "outputs": [],
   "source": [
    "import os\n",
    "\n",
    "import pandas as pd\n",
    "import numpy as np\n",
    "import scipy.optimize as opt\n",
    "import matplotlib\n",
    "pd.set_option('display.float_format', lambda x: '%.6f' % x)\n",
    "\n",
    "def sample_cov(r, **kwargs):\n",
    "    \"\"\"\n",
    "    Returns the sample covariance of the supplied returns\n",
    "    \"\"\"\n",
    "    return r.cov()\n",
    "\n",
    "def portfolio_returns(weights, returns):\n",
    "    '''\n",
    "    Weights --> Returns\n",
    "    '''\n",
    "    return weights.T @ returns\n",
    "\n",
    "\n",
    "def portfolio_vol(weights, covmat):\n",
    "    '''\n",
    "    Weights --> Vol\n",
    "    '''\n",
    "    return (weights.T @ covmat @ weights) ** 0.5\n",
    "\n",
    "def minimise_vol(er, cov):\n",
    "    '''\n",
    "    target_return --> W\n",
    "    '''\n",
    "    n = er.shape[0]\n",
    "    init_guess = np.repeat(1 / n, n)\n",
    "    # bounds = ((0.0, 1.0),) * n\n",
    "\n",
    "    weights_sum_to_1 = {\n",
    "        'type': 'eq',\n",
    "        'fun': lambda weights: np.sum(weights) - 1\n",
    "    }\n",
    "    results = opt.minimize(portfolio_vol, init_guess, args=(cov,), method='SLSQP',\n",
    "                           options={'disp': False},\n",
    "                           constraints=weights_sum_to_1\n",
    "                           # bounds=bounds\n",
    "                           )\n",
    "    return results.x\n",
    "\n",
    "def target_return_minimise_vol(target_return, er, cov):\n",
    "    '''\n",
    "    target_return --> W\n",
    "    '''\n",
    "    n = er.shape[0]\n",
    "    init_guess = np.repeat(1 / n, n)\n",
    "    # bounds = ((0.0, 1.0),) * n\n",
    "    return_is_target = {\n",
    "        'type': 'eq',\n",
    "        'args': (er,),\n",
    "        'fun': lambda weights, er: target_return - portfolio_returns(weights, er)\n",
    "    }\n",
    "    weights_sum_to_1 = {\n",
    "        'type': 'eq',\n",
    "        'fun': lambda weights: np.sum(weights) - 1\n",
    "    }\n",
    "    results = opt.minimize(portfolio_vol, init_guess, args=(cov,), method='SLSQP',\n",
    "                           options={'disp': False},\n",
    "                           constraints=(weights_sum_to_1, return_is_target)\n",
    "                           # bounds=bounds\n",
    "                           )\n",
    "    return results.x\n",
    "\n",
    "def msr(riskfree_rate, er, cov):\n",
    "    '''\n",
    "    RiskFree rate + ER + COV --> W\n",
    "    '''\n",
    "    n = er.shape[0]\n",
    "    init_guess = np.repeat(1 / n, n)\n",
    "    # bounds = ((0.0, 1.0),) * n\n",
    "    weights_sum_to_1 = {\n",
    "        'type': 'eq',\n",
    "        'fun': lambda weights: np.sum(weights) - 1\n",
    "    }\n",
    "\n",
    "    def negative_sharpe_ratio(weights, riskfree_rate, er, cov):\n",
    "        '''\n",
    "        Returns the negative of the sharpe ratio, given weights\n",
    "        '''\n",
    "        r = portfolio_returns(weights, er)\n",
    "        vol = portfolio_vol(weights, cov)\n",
    "        return -(r - riskfree_rate) / vol\n",
    "\n",
    "    results = opt.minimize(negative_sharpe_ratio,\n",
    "                       init_guess,\n",
    "                       args=(riskfree_rate, er, cov,), method='SLSQP',\n",
    "                       options={'disp': False},\n",
    "                       constraints=(weights_sum_to_1)\n",
    "                       # bounds=bounds\n",
    "                       )\n",
    "    return results.x\n",
    "\n",
    "def optimal_weights(n_points, er, cov):\n",
    "    '''\n",
    "    --> list of weights to run the optimiser on to minimise the vol\n",
    "    '''\n",
    "    target_rs = np.linspace(er.min(), er.max(), n_points)\n",
    "    weights = [target_return_minimise_vol(target_return, er, cov) for target_return in target_rs]\n",
    "    return weights\n",
    "\n",
    "def plot_ef(n_points, er, cov, style=\".-\", show_cml=False, riskfree_rate=0, show_ew=False, show_gmv=False):\n",
    "    '''\n",
    "    Plots the n asset efficient frontier\n",
    "    '''\n",
    "\n",
    "    #     weights = [np.array([w, 1-w]) for w in np.linspace(0,1,n_points)]\n",
    "    weights = optimal_weights(n_points, er, cov)\n",
    "    rets = [portfolio_returns(w, er) for w in weights]\n",
    "    vols = [portfolio_vol(w, cov) for w in weights]\n",
    "    ef = pd.DataFrame({\n",
    "        \"Returns\": rets,\n",
    "        \"Volatility\": vols\n",
    "    })\n",
    "    ax = ef.plot.line(x=\"Volatility\", y=\"Returns\", style=style)\n",
    "    if show_cml:\n",
    "        ax.set_xlim(left=0)\n",
    "        w_msr = msr(riskfree_rate, er, cov)\n",
    "        r_msr = portfolio_returns(w_msr, er)\n",
    "        vol_msr = portfolio_vol(w_msr, cov)\n",
    "        # Add CML\n",
    "        cml_x = [0, vol_msr]\n",
    "        cml_y = [riskfree_rate, r_msr]\n",
    "        ax.plot(cml_x, cml_y, color=\"green\", marker=\"o\", linestyle=\"dashed\", markersize=12, linewidth=2)\n",
    "    if show_gmv:\n",
    "        w_gmv = gmv(cov)\n",
    "        r_gmv = portfolio_returns(w_gmv, er)\n",
    "        vol_gmv = portfolio_vol(w_gmv, cov)\n",
    "        ax.plot([vol_gmv], [r_gmv], color=\"midnightblue\", marker=\"o\", markersize=10)\n",
    "    if show_ew:\n",
    "        n = er.shape[0]\n",
    "        w_ew = np.repeat(1 / n, n)\n",
    "        r_ew = portfolio_returns(w_ew, er)\n",
    "        vol_ew = portfolio_vol(w_ew, cov)\n",
    "        ax.plot([vol_ew], [r_ew], color='goldenrod', marker=\"o\", markersize=10)\n",
    "    return ax"
   ]
  },
  {
   "cell_type": "markdown",
   "source": [
    "### Question 1\n",
    "Please download the Excel spread sheet \"Assignment 1\", and then solve questions\n",
    "\n",
    "Compute the mean return on the portfolio $x=\\frac{1}{3}(1, 1, 1)$ consisting of only the risky assets.\n",
    "\n",
    "Submission Guideline: Give your answer in % rounded to 2 decimal places. For example, if you compute the answer to be 2.67%, submit 2.67.\n",
    "\n",
    "The file attached below provides excel instructions if needed."
   ],
   "metadata": {
    "collapsed": false
   }
  },
  {
   "cell_type": "code",
   "execution_count": 540,
   "outputs": [
    {
     "name": "stdout",
     "output_type": "stream",
     "text": [
      "The portfolio return of equal weight portfolio is 4.0%\n"
     ]
    }
   ],
   "source": [
    "n = 3\n",
    "wt = np.ones(n) / n\n",
    "rf = 0.01\n",
    "rets = np.array([0.06, 0.02, 0.04])\n",
    "vols = np.array([8.94/100, 4.47/100, 8.94/100])\n",
    "covmat = np.array([[0.00800,\t-0.00200, 0.00400], [-0.00200, 0.00200, -0.00200], [0.00400,-0.00200, 0.00800]])\n",
    "portfolio_rets = portfolio_returns(weights=wt, returns=rets)\n",
    "print(f\"The portfolio return of equal weight portfolio is {np.round(portfolio_rets*100, 2)}%\")\n"
   ],
   "metadata": {
    "collapsed": false
   }
  },
  {
   "cell_type": "markdown",
   "source": [
    "### Question 2\n",
    "Compute the volatility of the return on the portfolio $x=\\frac{1}{3}(1, 1, 1)$ consisting only of the risky assets (i.e. same portfolio as Question 1).\n",
    "\n",
    "Submission Guideline: Give your answer in % rounded to 2 decimal places. For example, if you compute the answer to be 2.67%, submit 2.67."
   ],
   "metadata": {
    "collapsed": false
   }
  },
  {
   "cell_type": "code",
   "execution_count": 541,
   "outputs": [
    {
     "name": "stdout",
     "output_type": "stream",
     "text": [
      "The portfolio vol of equal weight portfolio is 4.47%\n"
     ]
    }
   ],
   "source": [
    "portfolio_vols = portfolio_vol(weights=wt, covmat=covmat)\n",
    "print(f\"The portfolio vol of equal weight portfolio is {np.round(portfolio_vols* 100, 2)}%\")\n"
   ],
   "metadata": {
    "collapsed": false
   }
  },
  {
   "cell_type": "markdown",
   "source": [
    "### Question 3\n",
    "Compute the mean return on the minimum variance portfolio of just the risky assets.\n",
    "\n",
    "The minimum variance portfolio is defined as the portfolio of risky assets that has the least volatility among all possible portfolios of just the risky assets. This portfolio is the solution to the optimization problem\n",
    "$min \\ \\sigma_{x}^2$  $ = $  $min \\ x^TVx $\n",
    "$s.t \\ \\sum_{i=1}^d \\ x_i = 1$  $s.t \\ \\sum_{i=1}^d \\ x_i = 1$\n",
    "\n",
    "\n",
    "In the data sheet in the workbook Assignment1.xlsx we have set up all the relevant variables - you just have to set up and solve the optimization problem. In particular, you have to set the objective to minimize volatility cell B24 with only the portfolio constraint J20=L20.\n",
    "\n",
    "Submission Guideline: Give your answer in % rounded to 2 decimal places. For example, if you compute the answer to be 2.67%, submit 2.67."
   ],
   "metadata": {
    "collapsed": false
   }
  },
  {
   "cell_type": "code",
   "execution_count": 542,
   "outputs": [
    {
     "name": "stdout",
     "output_type": "stream",
     "text": [
      "The mean return is 3.04% on the minimum vol of 2.61%\n"
     ]
    },
    {
     "data": {
      "text/plain": "0.026080644163823868"
     },
     "execution_count": 542,
     "metadata": {},
     "output_type": "execute_result"
    }
   ],
   "source": [
    "min_vol_wts = np.round(minimise_vol(er=rets, cov=covmat), 2)\n",
    "min_vol_port_return = portfolio_returns(weights=min_vol_wts, returns=rets)\n",
    "min_vol_port = portfolio_vol(weights=min_vol_wts, covmat=covmat)\n",
    "\n",
    "print(f\"The mean return is {np.round(min_vol_port_return* 100, 2)}% on the minimum vol of {np.round(min_vol_port* 100, 2)}%\")\n",
    "min_vol_port"
   ],
   "metadata": {
    "collapsed": false
   }
  },
  {
   "cell_type": "markdown",
   "source": [
    "### Question 4\n",
    "Compute the mean return on the Sharpe optimal portfolio for this market.\n",
    "\n",
    "Recall that we can compute the Sharpe optimal portfolio by taking only the risky positions and re-scaling them so that the components add up to 1. This procedure can be done by using the functions in following worksheet \"Sheet 1\". Another way to compute the Sharpe portfolio is to use the formulas of the Sharpe portfolio.\n",
    "\n",
    "Submission Guideline: Give your answer in % rounded to 2 decimal places. For example, if you compute the answer to be 2.67%, submit 2.67\n",
    "\n",
    "### Question 5\n",
    "Compute the volatility of the Sharpe optimal portfolio for this market.\n",
    "\n",
    "Recall that we can compute the Sharpe optimal portfolio by taking the risky positions corresponding to any risk aversion parameter and re-scaling them so that the components add up to 1.\n",
    "\n",
    "Submission Guideline: Give your answer in % rounded to 2 decimal places. For example, if you compute the answer to be 2.67%, submit 2.67.\n",
    "\n",
    "\n"
   ],
   "metadata": {
    "collapsed": false
   }
  },
  {
   "cell_type": "code",
   "execution_count": 543,
   "outputs": [
    {
     "name": "stdout",
     "output_type": "stream",
     "text": [
      "The MSR mean return is 3.42% on the minimum vol of 2.84%\n"
     ]
    }
   ],
   "source": [
    "msr_port_wt = np.round(msr(riskfree_rate=rf, er=rets, cov=covmat), 3)\n",
    "msr_port_return = portfolio_returns(weights=msr_port_wt, returns=rets)\n",
    "msr_port_vol = portfolio_vol(weights=msr_port_wt, covmat=covmat)\n",
    "print(f\"The MSR mean return is {np.round(msr_port_return* 100, 2)}% on the minimum vol of {np.round(msr_port_vol* 100, 2)}%\")"
   ],
   "metadata": {
    "collapsed": false
   }
  },
  {
   "cell_type": "markdown",
   "source": [
    "### Question 6\n",
    "Using the results in the previous question, compute the slope of the capital market line.\n",
    "\n",
    "Submission Guideline: Give your answer rounded to 2 decimal places. For example, if you compute the answer to be 2.67123, submit 2.67.\n",
    "\n",
    "### Notes\n",
    "The portfolio $s^*$ is the Maximum Sharpe Ration portfolio whose angle $\\theta$ is maximum hence $tan(\\theta) = \\frac{MSR\\ Expected\\ Excess\\ Return}{MSR\\ Volatility}$\n"
   ],
   "metadata": {
    "collapsed": false
   }
  },
  {
   "cell_type": "code",
   "execution_count": 544,
   "outputs": [
    {
     "name": "stdout",
     "output_type": "stream",
     "text": [
      "The slope of CML is 0.85 \n"
     ]
    }
   ],
   "source": [
    "msr_excess_return = msr_port_return - rf\n",
    "theta_angle = msr_excess_return/msr_port_vol\n",
    "print(f\"The slope of CML is {np.round(theta_angle, 2)} \")"
   ],
   "metadata": {
    "collapsed": false
   }
  },
  {
   "cell_type": "markdown",
   "source": [
    "### Question 7\n",
    "\n",
    "Suppose the volatility of an efficient investment opportunity is $\\sigma = 5\\%$ What is the return on this opportunity?\n",
    "\n",
    "Recall that the mean return and volatility of all efficient investment opportunities must lie on the capital market line.\n",
    "\n",
    "Submission Guideline: Give your answer in % rounded to 2 decimal places. For example, if you answer the return to be 2.67%, submit 2.67."
   ],
   "metadata": {
    "collapsed": false
   }
  },
  {
   "cell_type": "code",
   "execution_count": 545,
   "outputs": [
    {
     "name": "stdout",
     "output_type": "stream",
     "text": [
      "The Efficient Return given 5.0% Vol is 5.26%\n"
     ]
    }
   ],
   "source": [
    "given_vol = 5/100\n",
    "return_given_vol = theta_angle * given_vol\n",
    "print(f\"The Efficient Return given {np.round(given_vol* 100, 2)}% Vol is {np.round((return_given_vol + rf)*100, 2)}%\")"
   ],
   "metadata": {
    "collapsed": false
   }
  },
  {
   "cell_type": "code",
   "execution_count": 546,
   "outputs": [
    {
     "data": {
      "text/plain": "          date       IBM        GE       LLY         F       BAC        KR  \\\n0   2016-01-04 -0.000736  0.000976  0.014852 -0.018058  0.000000  0.022343   \n1   2016-01-05 -0.005018 -0.016069 -0.006321 -0.045479 -0.021533 -0.000951   \n2   2016-01-06 -0.017237 -0.043235 -0.026306 -0.031773 -0.036736 -0.023581   \n3   2016-01-07 -0.009301 -0.018113 -0.001967 -0.012678 -0.019545 -0.006596   \n4   2016-01-08  0.012082  0.004559 -0.012135  0.018175  0.007211  0.011696   \n..         ...       ...       ...       ...       ...       ...       ...   \n497 2017-12-21  0.006579  0.001716 -0.006328 -0.003967  0.002010  0.025091   \n498 2017-12-22  0.002162 -0.004008 -0.000941  0.001589 -0.003352 -0.016057   \n499 2017-12-26  0.001961 -0.002873  0.001763 -0.007968 -0.001680 -0.003243   \n500 2017-12-27  0.005925 -0.001151 -0.001058  0.006380  0.002352 -0.002168   \n501 2017-12-28 -0.004033  0.005171 -0.006961 -0.007180 -0.009440 -0.007260   \n\n         ITUB        GG      SIRI  ...         T       ECA      ABEV  \\\n0    0.008006 -0.023029 -0.010178  ...  0.006963  0.026925  0.013954   \n1   -0.008006  0.018804 -0.005128  ... -0.015441 -0.062643 -0.011614   \n2   -0.031023  0.074229 -0.012937  ... -0.016280 -0.049700 -0.040530   \n3    0.000000 -0.018247 -0.007843  ...  0.000895  0.037504  0.016888   \n4   -0.001660 -0.055982  0.002621  ...  0.012150 -0.035384 -0.016888   \n..        ...       ...       ...  ...       ...       ...       ...   \n497 -0.006211  0.007981  0.018798  ...  0.001542  0.004773  0.001596   \n498  0.004662  0.011067  0.009268  ...  0.003077  0.039678  0.012678   \n499 -0.006221 -0.003150 -0.005550  ... -0.004362  0.001524  0.003145   \n500  0.008544  0.002363 -0.001857  ...  0.007429  0.014367  0.007819   \n501  0.005399  0.004710 -0.003724  ... -0.007686  0.000750  0.006211   \n\n          CVS      MRVL      CSCO        MO       BMY       WFC      HBAN  \n0    0.002899 -0.032335 -0.004554  0.020011  0.019501 -0.000378  0.001867  \n1   -0.012273 -0.056744 -0.010708  0.010534 -0.017713 -0.019281 -0.015985  \n2   -0.014546  0.009889 -0.023338 -0.017561 -0.028090 -0.028942 -0.030801  \n3   -0.006605  0.011009 -0.025106  0.001719 -0.025754 -0.016807 -0.017752  \n4    0.014431  0.012092  0.019581  0.020731 -0.010268  0.010637  0.004963  \n..        ...       ...       ...       ...       ...       ...       ...  \n497 -0.016616 -0.001816  0.000519  0.002776 -0.008819 -0.000974 -0.004051  \n498  0.003671 -0.007754 -0.001817 -0.000832  0.004909 -0.006847 -0.010201  \n499 -0.012565  0.009569  0.002077  0.004844  0.006833 -0.002949 -0.002738  \n500  0.003978 -0.007283  0.000778 -0.016145  0.001458  0.005726  0.010228  \n501 -0.007558 -0.019373 -0.007543  0.001963 -0.007964 -0.010331 -0.012287  \n\n[502 rows x 24 columns]",
      "text/html": "<div>\n<style scoped>\n    .dataframe tbody tr th:only-of-type {\n        vertical-align: middle;\n    }\n\n    .dataframe tbody tr th {\n        vertical-align: top;\n    }\n\n    .dataframe thead th {\n        text-align: right;\n    }\n</style>\n<table border=\"1\" class=\"dataframe\">\n  <thead>\n    <tr style=\"text-align: right;\">\n      <th></th>\n      <th>date</th>\n      <th>IBM</th>\n      <th>GE</th>\n      <th>LLY</th>\n      <th>F</th>\n      <th>BAC</th>\n      <th>KR</th>\n      <th>ITUB</th>\n      <th>GG</th>\n      <th>SIRI</th>\n      <th>...</th>\n      <th>T</th>\n      <th>ECA</th>\n      <th>ABEV</th>\n      <th>CVS</th>\n      <th>MRVL</th>\n      <th>CSCO</th>\n      <th>MO</th>\n      <th>BMY</th>\n      <th>WFC</th>\n      <th>HBAN</th>\n    </tr>\n  </thead>\n  <tbody>\n    <tr>\n      <th>0</th>\n      <td>2016-01-04</td>\n      <td>-0.000736</td>\n      <td>0.000976</td>\n      <td>0.014852</td>\n      <td>-0.018058</td>\n      <td>0.000000</td>\n      <td>0.022343</td>\n      <td>0.008006</td>\n      <td>-0.023029</td>\n      <td>-0.010178</td>\n      <td>...</td>\n      <td>0.006963</td>\n      <td>0.026925</td>\n      <td>0.013954</td>\n      <td>0.002899</td>\n      <td>-0.032335</td>\n      <td>-0.004554</td>\n      <td>0.020011</td>\n      <td>0.019501</td>\n      <td>-0.000378</td>\n      <td>0.001867</td>\n    </tr>\n    <tr>\n      <th>1</th>\n      <td>2016-01-05</td>\n      <td>-0.005018</td>\n      <td>-0.016069</td>\n      <td>-0.006321</td>\n      <td>-0.045479</td>\n      <td>-0.021533</td>\n      <td>-0.000951</td>\n      <td>-0.008006</td>\n      <td>0.018804</td>\n      <td>-0.005128</td>\n      <td>...</td>\n      <td>-0.015441</td>\n      <td>-0.062643</td>\n      <td>-0.011614</td>\n      <td>-0.012273</td>\n      <td>-0.056744</td>\n      <td>-0.010708</td>\n      <td>0.010534</td>\n      <td>-0.017713</td>\n      <td>-0.019281</td>\n      <td>-0.015985</td>\n    </tr>\n    <tr>\n      <th>2</th>\n      <td>2016-01-06</td>\n      <td>-0.017237</td>\n      <td>-0.043235</td>\n      <td>-0.026306</td>\n      <td>-0.031773</td>\n      <td>-0.036736</td>\n      <td>-0.023581</td>\n      <td>-0.031023</td>\n      <td>0.074229</td>\n      <td>-0.012937</td>\n      <td>...</td>\n      <td>-0.016280</td>\n      <td>-0.049700</td>\n      <td>-0.040530</td>\n      <td>-0.014546</td>\n      <td>0.009889</td>\n      <td>-0.023338</td>\n      <td>-0.017561</td>\n      <td>-0.028090</td>\n      <td>-0.028942</td>\n      <td>-0.030801</td>\n    </tr>\n    <tr>\n      <th>3</th>\n      <td>2016-01-07</td>\n      <td>-0.009301</td>\n      <td>-0.018113</td>\n      <td>-0.001967</td>\n      <td>-0.012678</td>\n      <td>-0.019545</td>\n      <td>-0.006596</td>\n      <td>0.000000</td>\n      <td>-0.018247</td>\n      <td>-0.007843</td>\n      <td>...</td>\n      <td>0.000895</td>\n      <td>0.037504</td>\n      <td>0.016888</td>\n      <td>-0.006605</td>\n      <td>0.011009</td>\n      <td>-0.025106</td>\n      <td>0.001719</td>\n      <td>-0.025754</td>\n      <td>-0.016807</td>\n      <td>-0.017752</td>\n    </tr>\n    <tr>\n      <th>4</th>\n      <td>2016-01-08</td>\n      <td>0.012082</td>\n      <td>0.004559</td>\n      <td>-0.012135</td>\n      <td>0.018175</td>\n      <td>0.007211</td>\n      <td>0.011696</td>\n      <td>-0.001660</td>\n      <td>-0.055982</td>\n      <td>0.002621</td>\n      <td>...</td>\n      <td>0.012150</td>\n      <td>-0.035384</td>\n      <td>-0.016888</td>\n      <td>0.014431</td>\n      <td>0.012092</td>\n      <td>0.019581</td>\n      <td>0.020731</td>\n      <td>-0.010268</td>\n      <td>0.010637</td>\n      <td>0.004963</td>\n    </tr>\n    <tr>\n      <th>...</th>\n      <td>...</td>\n      <td>...</td>\n      <td>...</td>\n      <td>...</td>\n      <td>...</td>\n      <td>...</td>\n      <td>...</td>\n      <td>...</td>\n      <td>...</td>\n      <td>...</td>\n      <td>...</td>\n      <td>...</td>\n      <td>...</td>\n      <td>...</td>\n      <td>...</td>\n      <td>...</td>\n      <td>...</td>\n      <td>...</td>\n      <td>...</td>\n      <td>...</td>\n      <td>...</td>\n    </tr>\n    <tr>\n      <th>497</th>\n      <td>2017-12-21</td>\n      <td>0.006579</td>\n      <td>0.001716</td>\n      <td>-0.006328</td>\n      <td>-0.003967</td>\n      <td>0.002010</td>\n      <td>0.025091</td>\n      <td>-0.006211</td>\n      <td>0.007981</td>\n      <td>0.018798</td>\n      <td>...</td>\n      <td>0.001542</td>\n      <td>0.004773</td>\n      <td>0.001596</td>\n      <td>-0.016616</td>\n      <td>-0.001816</td>\n      <td>0.000519</td>\n      <td>0.002776</td>\n      <td>-0.008819</td>\n      <td>-0.000974</td>\n      <td>-0.004051</td>\n    </tr>\n    <tr>\n      <th>498</th>\n      <td>2017-12-22</td>\n      <td>0.002162</td>\n      <td>-0.004008</td>\n      <td>-0.000941</td>\n      <td>0.001589</td>\n      <td>-0.003352</td>\n      <td>-0.016057</td>\n      <td>0.004662</td>\n      <td>0.011067</td>\n      <td>0.009268</td>\n      <td>...</td>\n      <td>0.003077</td>\n      <td>0.039678</td>\n      <td>0.012678</td>\n      <td>0.003671</td>\n      <td>-0.007754</td>\n      <td>-0.001817</td>\n      <td>-0.000832</td>\n      <td>0.004909</td>\n      <td>-0.006847</td>\n      <td>-0.010201</td>\n    </tr>\n    <tr>\n      <th>499</th>\n      <td>2017-12-26</td>\n      <td>0.001961</td>\n      <td>-0.002873</td>\n      <td>0.001763</td>\n      <td>-0.007968</td>\n      <td>-0.001680</td>\n      <td>-0.003243</td>\n      <td>-0.006221</td>\n      <td>-0.003150</td>\n      <td>-0.005550</td>\n      <td>...</td>\n      <td>-0.004362</td>\n      <td>0.001524</td>\n      <td>0.003145</td>\n      <td>-0.012565</td>\n      <td>0.009569</td>\n      <td>0.002077</td>\n      <td>0.004844</td>\n      <td>0.006833</td>\n      <td>-0.002949</td>\n      <td>-0.002738</td>\n    </tr>\n    <tr>\n      <th>500</th>\n      <td>2017-12-27</td>\n      <td>0.005925</td>\n      <td>-0.001151</td>\n      <td>-0.001058</td>\n      <td>0.006380</td>\n      <td>0.002352</td>\n      <td>-0.002168</td>\n      <td>0.008544</td>\n      <td>0.002363</td>\n      <td>-0.001857</td>\n      <td>...</td>\n      <td>0.007429</td>\n      <td>0.014367</td>\n      <td>0.007819</td>\n      <td>0.003978</td>\n      <td>-0.007283</td>\n      <td>0.000778</td>\n      <td>-0.016145</td>\n      <td>0.001458</td>\n      <td>0.005726</td>\n      <td>0.010228</td>\n    </tr>\n    <tr>\n      <th>501</th>\n      <td>2017-12-28</td>\n      <td>-0.004033</td>\n      <td>0.005171</td>\n      <td>-0.006961</td>\n      <td>-0.007180</td>\n      <td>-0.009440</td>\n      <td>-0.007260</td>\n      <td>0.005399</td>\n      <td>0.004710</td>\n      <td>-0.003724</td>\n      <td>...</td>\n      <td>-0.007686</td>\n      <td>0.000750</td>\n      <td>0.006211</td>\n      <td>-0.007558</td>\n      <td>-0.019373</td>\n      <td>-0.007543</td>\n      <td>0.001963</td>\n      <td>-0.007964</td>\n      <td>-0.010331</td>\n      <td>-0.012287</td>\n    </tr>\n  </tbody>\n</table>\n<p>502 rows × 24 columns</p>\n</div>"
     },
     "execution_count": 546,
     "metadata": {},
     "output_type": "execute_result"
    }
   ],
   "source": [
    "script_dr = os.getcwd()\n",
    "df = pd.read_excel(os.path.abspath(os.path.join(script_dr, '..', 'Data', 'FERM_3_Assignment_1.xlsx')), sheet_name='Daily_Returns_Q1_Q2')\n",
    "df"
   ],
   "metadata": {
    "collapsed": false
   }
  },
  {
   "cell_type": "markdown",
   "source": [
    "### Question 1\n",
    "A file of the stocks daily returns (Calculated as $\\frac{P_{i+1} - P_i}{P_i}$) from January 4th 2016- December 28th 2017 is provided below. Please download this file to answer the questions.\n",
    "\n",
    "There are 23 stocks' daily returns from January 4th, 2016 to December 28th, 2017 from Yahoo Finance. Suppose these 23 stocks are the only risky assets available in the market. Please compute the mean daily returns of each stock, and the covariance matrix of those stocks' returns. Please enter the average daily return of Stock 'GE' from from January, 4th 2016 to December 28th, 2017. (Round to the fourth decimal place.)"
   ],
   "metadata": {
    "collapsed": false
   }
  },
  {
   "cell_type": "code",
   "execution_count": 547,
   "outputs": [
    {
     "name": "stdout",
     "output_type": "stream",
     "text": [
      "The Average daily return of GE is -0.0011\n"
     ]
    }
   ],
   "source": [
    "ticker = 'GE'\n",
    "df[ticker].mean()\n",
    "print(f\"The Average daily return of {ticker} is {np.round(df[ticker].mean(), 4)}\")"
   ],
   "metadata": {
    "collapsed": false
   }
  },
  {
   "cell_type": "markdown",
   "source": [
    "### Question 2\n",
    "Continued from Question 1\n",
    "\n",
    "Please enter the covariance between daily returns of IBM and GE from from January, 4th 2016 to December 28th, 2017. (Round to the sixth decimal place.)\n"
   ],
   "metadata": {
    "collapsed": false
   }
  },
  {
   "cell_type": "code",
   "execution_count": 548,
   "outputs": [
    {
     "name": "stdout",
     "output_type": "stream",
     "text": [
      "The covariance between IBM and GE is 4.7e-05\n"
     ]
    }
   ],
   "source": [
    "tics = ['IBM', 'GE']\n",
    "cov = sample_cov(df[tics])[tics[0]][tics[1]]\n",
    "print(f\"The covariance between {tics[0]} and {tics[1]} is {np.round(cov, 6)}\")"
   ],
   "metadata": {
    "collapsed": false
   }
  },
  {
   "cell_type": "markdown",
   "source": [
    "### Question 3\n",
    "Continued from Question 2\n",
    "\n",
    "Suppose we want to minimize the risk of the portfolio with the constraint that average daily return should be greater than or equal to 0.05%. i.e. :\n",
    "$minimise\\ x^TVx$\n",
    "$s.t. \\mu^Tx\\ > 0.0005$\n",
    "$1^Tx = 1$\n",
    "where $\\mu$ is the daily return vector of stocks, x is weight vector of stocks in the portfolio, and V is the covariance matrix of stocks daily return\n",
    "What is the optimal value?\n",
    "Let $x_1$ be your optimal portfolio in this problem\n",
    "\n",
    "### Question 4\n",
    "Continued from Question 3\n",
    "\n",
    "What is the expected return of the portfolio $x_1$? (Round your answer to the fourth decimal place.)\n",
    "\n",
    "Think about if it is greater than 0.05%, smaller than 0.05% or equal to 0.05%.\n"
   ],
   "metadata": {
    "collapsed": false
   }
  },
  {
   "cell_type": "code",
   "execution_count": 549,
   "outputs": [
    {
     "name": "stderr",
     "output_type": "stream",
     "text": [
      "/var/folders/gw/hq2jnpl90jjfpr7ymdkq6k580000gn/T/ipykernel_21088/2615507740.py:13: FutureWarning: The default value of numeric_only in DataFrame.cov is deprecated. In a future version, it will default to False. Select only valid columns or specify the value of numeric_only to silence this warning.\n",
      "  return r.cov()\n",
      "/var/folders/gw/hq2jnpl90jjfpr7ymdkq6k580000gn/T/ipykernel_21088/661419433.py:3: FutureWarning: DataFrame.mean and DataFrame.median with numeric_only=None will include datetime64 and datetime64tz columns in a future version.\n",
      "  returns = df.mean()\n"
     ]
    },
    {
     "name": "stdout",
     "output_type": "stream",
     "text": [
      "The optimal portfolio variance is 3.329176913853645e-05 with target return of 0.0005 is 0.0005\n"
     ]
    }
   ],
   "source": [
    "target_return_x1 = 0.0005\n",
    "cov = sample_cov(df)\n",
    "returns = df.mean()\n",
    "weights1 = target_return_minimise_vol(target_return=target_return_x1, er=returns, cov=cov)\n",
    "portfolio_ret1 = portfolio_returns(weights=weights1, returns=returns)\n",
    "portfolio_vol1 = portfolio_vol(weights=weights1, covmat=cov)\n",
    "x1= portfolio_vol1**2\n",
    "\n",
    "print(f\"The optimal portfolio variance is {x1} with target return of {target_return_x1} is {np.round(portfolio_ret1, 4)}\")"
   ],
   "metadata": {
    "collapsed": false
   }
  },
  {
   "cell_type": "markdown",
   "source": [
    "### Question 5\n",
    "Continued from Question 4\n",
    "\n",
    "Suppose we now want to change the previous constraint so that the average daily return should be greater than or equal to 0.08%.\n",
    "\n",
    "What is the new optimal value of the problem? (Round your solution to the sixth decimal place.) Let $x_2$ be your optimal portfolio in this problem.\n"
   ],
   "metadata": {
    "collapsed": false
   }
  },
  {
   "cell_type": "code",
   "execution_count": 550,
   "outputs": [
    {
     "name": "stdout",
     "output_type": "stream",
     "text": [
      "The optimal portfolio variance is 3.8e-05 with target return of 0.0008 is 0.0008\n"
     ]
    }
   ],
   "source": [
    "target_return_x2 = 0.0008\n",
    "weights2 = target_return_minimise_vol(target_return=target_return_x2, er=returns, cov=cov)\n",
    "portfolio_ret2 = portfolio_returns(weights=weights2, returns=returns)\n",
    "portfolio_vol2 = portfolio_vol(weights=weights2, covmat=cov)\n",
    "x2 = portfolio_vol2**2\n",
    "\n",
    "print(f\"The optimal portfolio variance is {np.round(x2, 6)} with target return of {target_return_x2} is {np.round(portfolio_ret2, 4)}\")"
   ],
   "metadata": {
    "collapsed": false
   }
  },
  {
   "cell_type": "markdown",
   "source": [
    "### Question 6\n",
    "Suppose we now want to change the previous constraint so that the average daily return should be greater than or equal to 0.1%.\n",
    "\n",
    "Solve for the optimal solution $x_3$ by solving the mean variance problem.\n",
    "\n",
    "Compute $z = \\phi x_1 + (1-\\phi) x_2$ where $\\phi = \\frac{0.08\\% - 0.1\\%}{0.08\\% - 0.05\\%}$\n",
    "\n",
    "Compare $z$ and $x_3$, test two fund theorem:"
   ],
   "metadata": {
    "collapsed": false
   }
  },
  {
   "cell_type": "code",
   "execution_count": 551,
   "outputs": [
    {
     "name": "stdout",
     "output_type": "stream",
     "text": [
      "The z and x3 is Same\n"
     ]
    }
   ],
   "source": [
    "target_return_x3 = 0.001\n",
    "phi = (target_return_x2 - target_return_x3)/(target_return_x2 - target_return_x1)\n",
    "z = phi * x1 + (1-phi)*x2\n",
    "weights3 = target_return_minimise_vol(target_return=target_return_x3, er=returns, cov=cov)\n",
    "portfolio_ret3 = portfolio_returns(weights=weights3, returns=returns)\n",
    "portfolio_vol3 = portfolio_vol(weights=weights3, covmat=cov)\n",
    "x3 = portfolio_vol3**2\n",
    "diff = z - x3\n",
    "verdict ='Same' if abs(diff) > 0.0000001 else 'Not Same'\n",
    "print(f\"The z and x3 is {verdict}\")"
   ],
   "metadata": {
    "collapsed": false
   }
  },
  {
   "cell_type": "markdown",
   "source": [
    "### Question 9\n",
    "Assume the risk free rate of daily return $r_f = 0.01\\%$. We want to maximize the Sharpe ratio problem:\n",
    "$minimise  \\frac{(\\mu- r_f)^T x}{sqrt{(x^TVx)}}$\n",
    "$s.t. 1^Tx = 1$\n",
    "The problem is now equivalent to maximize the return of unit risk, which is also called the market price of risk.  We can rewrite maximization of the Sharpe ratio as minimizing the risk of unit return.\n",
    "$minimise x^TVx$\n",
    "$s.t.(\\mu - r_f)^Tx = 1$\n",
    "Now the $x$ from the optimal solution is no longer the weight vector of our portfolio.\n",
    "\n",
    "So our sharp portfolio should be\n",
    "$x_{sharpe}^* = \\frac{x}{1^T x}$\n",
    "\n",
    "Compute the Sharpe ratio for these stocks and round your answer to the  third decimal place.\n"
   ],
   "metadata": {
    "collapsed": false
   }
  },
  {
   "cell_type": "code",
   "execution_count": 552,
   "outputs": [
    {
     "name": "stdout",
     "output_type": "stream",
     "text": [
      "The MSR mean return is 3.42% on the minimum vol of 2.84%\n",
      "The sharpe ratio is the portfolio is 0.26\n"
     ]
    }
   ],
   "source": [
    "risk_free = 0.01/100\n",
    "msr_port_wt1 = np.round(msr(riskfree_rate=risk_free, er=returns, cov=cov), 3)\n",
    "msr_port_return1 = portfolio_returns(weights=msr_port_wt1, returns=returns)\n",
    "msr_port_vol1 = portfolio_vol(weights=msr_port_wt1, covmat=cov)\n",
    "print(f\"The MSR mean return is {np.round(msr_port_return* 100, 2)}% on the minimum vol of {np.round(msr_port_vol* 100, 2)}%\")\n",
    "# print(msr_port_return1, msr_port_vol1)\n",
    "\n",
    "sharpe_ratio = (msr_port_return1 - risk_free)/msr_port_vol1\n",
    "print(f\"The sharpe ratio is the portfolio is {np.round(sharpe_ratio, 3)}\")\n"
   ],
   "metadata": {
    "collapsed": false
   }
  },
  {
   "cell_type": "markdown",
   "source": [
    "### When Market Performs Badly\n",
    "\n",
    "In this part, the market has a very low yearly return. The Capital Asset Pricing Model will give you a negative Sharpe Ratio and the Capital Market Line will have a negative slope.  In this situation, how will you interpret the results from CAPM?  Will you still invest in the Sharpe optimal portfolio?\n",
    "\n",
    "We are going to explore the limitations of simple Mean-Variance optimization models with a use case from stocks data from January 1st 2018 to January 1st 2019. You will discuss how to approach more complicated scenarios in the real world.\n",
    "\n",
    "Think about the following questions:\n",
    "\n",
    "Compute average daily returns and covariance matrix for those risky assets.\n",
    "\n",
    "Get the efficient frontier of the market.\n",
    "\n",
    "Compute Sharpe optimal portfolio and draw the Capital Market Line.\n",
    "\n",
    "Compare the risk free rate and the return of Sharpe optimal portfolio.\n",
    "\n",
    "You will find that the Sharpe optimal portfolio has a lower return but a higher risk than the risk free asset. Does CAPM show you an arbitrage opportunity?\n",
    "\n",
    "Is it reasonable to use average daily return and sample covariance to be the parameters of CAPM?  How will you fine-tune the parameters?"
   ],
   "metadata": {
    "collapsed": false
   }
  },
  {
   "cell_type": "code",
   "execution_count": 553,
   "outputs": [
    {
     "name": "stderr",
     "output_type": "stream",
     "text": [
      "/var/folders/gw/hq2jnpl90jjfpr7ymdkq6k580000gn/T/ipykernel_21088/1959044954.py:2: FutureWarning: The default value of numeric_only in DataFrame.mean is deprecated. In a future version, it will default to False. In addition, specifying 'numeric_only=None' is deprecated. Select only valid columns or specify the value of numeric_only to silence this warning.\n",
      "  r_2018 = ndf.mean()\n",
      "/var/folders/gw/hq2jnpl90jjfpr7ymdkq6k580000gn/T/ipykernel_21088/2615507740.py:13: FutureWarning: The default value of numeric_only in DataFrame.cov is deprecated. In a future version, it will default to False. Select only valid columns or specify the value of numeric_only to silence this warning.\n",
      "  return r.cov()\n"
     ]
    },
    {
     "data": {
      "text/plain": "          IBM       GE       LLY         F      BAC        KR     ITUB  \\\nIBM  0.000249 0.000134  0.000081  0.000087 0.000117  0.000049 0.000086   \nGE   0.000134 0.000626  0.000067  0.000118 0.000125  0.000048 0.000023   \nLLY  0.000081 0.000067  0.000203  0.000075 0.000097  0.000075 0.000090   \nF    0.000087 0.000118  0.000075  0.000307 0.000125  0.000069 0.000085   \nBAC  0.000117 0.000125  0.000097  0.000125 0.000246  0.000075 0.000108   \nKR   0.000049 0.000048  0.000075  0.000069 0.000075  0.000443 0.000092   \nITUB 0.000086 0.000023  0.000090  0.000085 0.000108  0.000092 0.000581   \nGG   0.000005 0.000029 -0.000044 -0.000017 0.000000 -0.000014 0.000074   \nSIRI 0.000096 0.000068  0.000041  0.000083 0.000094  0.000041 0.000106   \nACB  0.000130 0.000014  0.000011  0.000113 0.000099  0.000107 0.000083   \nVALE 0.000090 0.000127  0.000090  0.000110 0.000141  0.000097 0.000272   \nPFE  0.000093 0.000075  0.000133  0.000070 0.000102  0.000062 0.000076   \nCTL  0.000100 0.000115  0.000097  0.000130 0.000131  0.000136 0.000050   \nT    0.000077 0.000072  0.000083  0.000092 0.000090  0.000072 0.000060   \nECA  0.000112 0.000212  0.000126  0.000160 0.000156  0.000137 0.000065   \nABEV 0.000066 0.000036  0.000057  0.000047 0.000081  0.000060 0.000293   \nCVS  0.000104 0.000080  0.000112  0.000088 0.000132  0.000135 0.000098   \nMRVL 0.000142 0.000096  0.000074  0.000109 0.000161  0.000021 0.000122   \nCSCO 0.000154 0.000107  0.000117  0.000103 0.000165  0.000092 0.000105   \nMO   0.000055 0.000088  0.000073  0.000083 0.000051  0.000090 0.000072   \nBMY  0.000083 0.000038  0.000115  0.000057 0.000099  0.000043 0.000097   \nWFC  0.000093 0.000075  0.000091  0.000104 0.000180  0.000086 0.000105   \nHBAN 0.000086 0.000086  0.000090  0.000119 0.000181  0.000096 0.000078   \n\n            GG      SIRI      ACB  ...        T      ECA     ABEV       CVS  \\\nIBM   0.000005  0.000096 0.000130  ... 0.000077 0.000112 0.000066  0.000104   \nGE    0.000029  0.000068 0.000014  ... 0.000072 0.000212 0.000036  0.000080   \nLLY  -0.000044  0.000041 0.000011  ... 0.000083 0.000126 0.000057  0.000112   \nF    -0.000017  0.000083 0.000113  ... 0.000092 0.000160 0.000047  0.000088   \nBAC   0.000000  0.000094 0.000099  ... 0.000090 0.000156 0.000081  0.000132   \nKR   -0.000014  0.000041 0.000107  ... 0.000072 0.000137 0.000060  0.000135   \nITUB  0.000074  0.000106 0.000083  ... 0.000060 0.000065 0.000293  0.000098   \nGG    0.000578 -0.000002 0.000098  ... 0.000018 0.000019 0.000123 -0.000023   \nSIRI -0.000002  0.000270 0.000108  ... 0.000051 0.000102 0.000096  0.000082   \nACB   0.000098  0.000108 0.003354  ... 0.000039 0.000273 0.000060  0.000059   \nVALE  0.000119  0.000112 0.000248  ... 0.000078 0.000235 0.000213  0.000081   \nPFE  -0.000033  0.000057 0.000054  ... 0.000081 0.000102 0.000067  0.000109   \nCTL   0.000021  0.000107 0.000127  ... 0.000180 0.000142 0.000059  0.000171   \nT     0.000018  0.000051 0.000039  ... 0.000227 0.000076 0.000069  0.000104   \nECA   0.000019  0.000102 0.000273  ... 0.000076 0.000790 0.000099  0.000087   \nABEV  0.000123  0.000096 0.000060  ... 0.000069 0.000099 0.000349  0.000091   \nCVS  -0.000023  0.000082 0.000059  ... 0.000104 0.000087 0.000091  0.000342   \nMRVL  0.000034  0.000169 0.000167  ... 0.000059 0.000175 0.000093  0.000059   \nCSCO -0.000013  0.000131 0.000158  ... 0.000093 0.000195 0.000089  0.000119   \nMO   -0.000021  0.000041 0.000048  ... 0.000085 0.000069 0.000032  0.000081   \nBMY   0.000012  0.000074 0.000027  ... 0.000067 0.000099 0.000062  0.000081   \nWFC  -0.000018  0.000087 0.000058  ... 0.000085 0.000116 0.000068  0.000108   \nHBAN -0.000036  0.000084 0.000070  ... 0.000078 0.000120 0.000058  0.000116   \n\n         MRVL      CSCO        MO      BMY       WFC      HBAN  \nIBM  0.000142  0.000154  0.000055 0.000083  0.000093  0.000086  \nGE   0.000096  0.000107  0.000088 0.000038  0.000075  0.000086  \nLLY  0.000074  0.000117  0.000073 0.000115  0.000091  0.000090  \nF    0.000109  0.000103  0.000083 0.000057  0.000104  0.000119  \nBAC  0.000161  0.000165  0.000051 0.000099  0.000180  0.000181  \nKR   0.000021  0.000092  0.000090 0.000043  0.000086  0.000096  \nITUB 0.000122  0.000105  0.000072 0.000097  0.000105  0.000078  \nGG   0.000034 -0.000013 -0.000021 0.000012 -0.000018 -0.000036  \nSIRI 0.000169  0.000131  0.000041 0.000074  0.000087  0.000084  \nACB  0.000167  0.000158  0.000048 0.000027  0.000058  0.000070  \nVALE 0.000187  0.000166  0.000029 0.000109  0.000103  0.000089  \nPFE  0.000106  0.000122  0.000062 0.000096  0.000093  0.000089  \nCTL  0.000103  0.000163  0.000123 0.000076  0.000123  0.000107  \nT    0.000059  0.000093  0.000085 0.000067  0.000085  0.000078  \nECA  0.000175  0.000195  0.000069 0.000099  0.000116  0.000120  \nABEV 0.000093  0.000089  0.000032 0.000062  0.000068  0.000058  \nCVS  0.000059  0.000119  0.000081 0.000081  0.000108  0.000116  \nMRVL 0.000505  0.000214  0.000029 0.000116  0.000130  0.000116  \nCSCO 0.000214  0.000279  0.000053 0.000115  0.000132  0.000120  \nMO   0.000029  0.000053  0.000237 0.000054  0.000055  0.000045  \nBMY  0.000116  0.000115  0.000054 0.000273  0.000094  0.000097  \nWFC  0.000130  0.000132  0.000055 0.000094  0.000224  0.000162  \nHBAN 0.000116  0.000120  0.000045 0.000097  0.000162  0.000212  \n\n[23 rows x 23 columns]",
      "text/html": "<div>\n<style scoped>\n    .dataframe tbody tr th:only-of-type {\n        vertical-align: middle;\n    }\n\n    .dataframe tbody tr th {\n        vertical-align: top;\n    }\n\n    .dataframe thead th {\n        text-align: right;\n    }\n</style>\n<table border=\"1\" class=\"dataframe\">\n  <thead>\n    <tr style=\"text-align: right;\">\n      <th></th>\n      <th>IBM</th>\n      <th>GE</th>\n      <th>LLY</th>\n      <th>F</th>\n      <th>BAC</th>\n      <th>KR</th>\n      <th>ITUB</th>\n      <th>GG</th>\n      <th>SIRI</th>\n      <th>ACB</th>\n      <th>...</th>\n      <th>T</th>\n      <th>ECA</th>\n      <th>ABEV</th>\n      <th>CVS</th>\n      <th>MRVL</th>\n      <th>CSCO</th>\n      <th>MO</th>\n      <th>BMY</th>\n      <th>WFC</th>\n      <th>HBAN</th>\n    </tr>\n  </thead>\n  <tbody>\n    <tr>\n      <th>IBM</th>\n      <td>0.000249</td>\n      <td>0.000134</td>\n      <td>0.000081</td>\n      <td>0.000087</td>\n      <td>0.000117</td>\n      <td>0.000049</td>\n      <td>0.000086</td>\n      <td>0.000005</td>\n      <td>0.000096</td>\n      <td>0.000130</td>\n      <td>...</td>\n      <td>0.000077</td>\n      <td>0.000112</td>\n      <td>0.000066</td>\n      <td>0.000104</td>\n      <td>0.000142</td>\n      <td>0.000154</td>\n      <td>0.000055</td>\n      <td>0.000083</td>\n      <td>0.000093</td>\n      <td>0.000086</td>\n    </tr>\n    <tr>\n      <th>GE</th>\n      <td>0.000134</td>\n      <td>0.000626</td>\n      <td>0.000067</td>\n      <td>0.000118</td>\n      <td>0.000125</td>\n      <td>0.000048</td>\n      <td>0.000023</td>\n      <td>0.000029</td>\n      <td>0.000068</td>\n      <td>0.000014</td>\n      <td>...</td>\n      <td>0.000072</td>\n      <td>0.000212</td>\n      <td>0.000036</td>\n      <td>0.000080</td>\n      <td>0.000096</td>\n      <td>0.000107</td>\n      <td>0.000088</td>\n      <td>0.000038</td>\n      <td>0.000075</td>\n      <td>0.000086</td>\n    </tr>\n    <tr>\n      <th>LLY</th>\n      <td>0.000081</td>\n      <td>0.000067</td>\n      <td>0.000203</td>\n      <td>0.000075</td>\n      <td>0.000097</td>\n      <td>0.000075</td>\n      <td>0.000090</td>\n      <td>-0.000044</td>\n      <td>0.000041</td>\n      <td>0.000011</td>\n      <td>...</td>\n      <td>0.000083</td>\n      <td>0.000126</td>\n      <td>0.000057</td>\n      <td>0.000112</td>\n      <td>0.000074</td>\n      <td>0.000117</td>\n      <td>0.000073</td>\n      <td>0.000115</td>\n      <td>0.000091</td>\n      <td>0.000090</td>\n    </tr>\n    <tr>\n      <th>F</th>\n      <td>0.000087</td>\n      <td>0.000118</td>\n      <td>0.000075</td>\n      <td>0.000307</td>\n      <td>0.000125</td>\n      <td>0.000069</td>\n      <td>0.000085</td>\n      <td>-0.000017</td>\n      <td>0.000083</td>\n      <td>0.000113</td>\n      <td>...</td>\n      <td>0.000092</td>\n      <td>0.000160</td>\n      <td>0.000047</td>\n      <td>0.000088</td>\n      <td>0.000109</td>\n      <td>0.000103</td>\n      <td>0.000083</td>\n      <td>0.000057</td>\n      <td>0.000104</td>\n      <td>0.000119</td>\n    </tr>\n    <tr>\n      <th>BAC</th>\n      <td>0.000117</td>\n      <td>0.000125</td>\n      <td>0.000097</td>\n      <td>0.000125</td>\n      <td>0.000246</td>\n      <td>0.000075</td>\n      <td>0.000108</td>\n      <td>0.000000</td>\n      <td>0.000094</td>\n      <td>0.000099</td>\n      <td>...</td>\n      <td>0.000090</td>\n      <td>0.000156</td>\n      <td>0.000081</td>\n      <td>0.000132</td>\n      <td>0.000161</td>\n      <td>0.000165</td>\n      <td>0.000051</td>\n      <td>0.000099</td>\n      <td>0.000180</td>\n      <td>0.000181</td>\n    </tr>\n    <tr>\n      <th>KR</th>\n      <td>0.000049</td>\n      <td>0.000048</td>\n      <td>0.000075</td>\n      <td>0.000069</td>\n      <td>0.000075</td>\n      <td>0.000443</td>\n      <td>0.000092</td>\n      <td>-0.000014</td>\n      <td>0.000041</td>\n      <td>0.000107</td>\n      <td>...</td>\n      <td>0.000072</td>\n      <td>0.000137</td>\n      <td>0.000060</td>\n      <td>0.000135</td>\n      <td>0.000021</td>\n      <td>0.000092</td>\n      <td>0.000090</td>\n      <td>0.000043</td>\n      <td>0.000086</td>\n      <td>0.000096</td>\n    </tr>\n    <tr>\n      <th>ITUB</th>\n      <td>0.000086</td>\n      <td>0.000023</td>\n      <td>0.000090</td>\n      <td>0.000085</td>\n      <td>0.000108</td>\n      <td>0.000092</td>\n      <td>0.000581</td>\n      <td>0.000074</td>\n      <td>0.000106</td>\n      <td>0.000083</td>\n      <td>...</td>\n      <td>0.000060</td>\n      <td>0.000065</td>\n      <td>0.000293</td>\n      <td>0.000098</td>\n      <td>0.000122</td>\n      <td>0.000105</td>\n      <td>0.000072</td>\n      <td>0.000097</td>\n      <td>0.000105</td>\n      <td>0.000078</td>\n    </tr>\n    <tr>\n      <th>GG</th>\n      <td>0.000005</td>\n      <td>0.000029</td>\n      <td>-0.000044</td>\n      <td>-0.000017</td>\n      <td>0.000000</td>\n      <td>-0.000014</td>\n      <td>0.000074</td>\n      <td>0.000578</td>\n      <td>-0.000002</td>\n      <td>0.000098</td>\n      <td>...</td>\n      <td>0.000018</td>\n      <td>0.000019</td>\n      <td>0.000123</td>\n      <td>-0.000023</td>\n      <td>0.000034</td>\n      <td>-0.000013</td>\n      <td>-0.000021</td>\n      <td>0.000012</td>\n      <td>-0.000018</td>\n      <td>-0.000036</td>\n    </tr>\n    <tr>\n      <th>SIRI</th>\n      <td>0.000096</td>\n      <td>0.000068</td>\n      <td>0.000041</td>\n      <td>0.000083</td>\n      <td>0.000094</td>\n      <td>0.000041</td>\n      <td>0.000106</td>\n      <td>-0.000002</td>\n      <td>0.000270</td>\n      <td>0.000108</td>\n      <td>...</td>\n      <td>0.000051</td>\n      <td>0.000102</td>\n      <td>0.000096</td>\n      <td>0.000082</td>\n      <td>0.000169</td>\n      <td>0.000131</td>\n      <td>0.000041</td>\n      <td>0.000074</td>\n      <td>0.000087</td>\n      <td>0.000084</td>\n    </tr>\n    <tr>\n      <th>ACB</th>\n      <td>0.000130</td>\n      <td>0.000014</td>\n      <td>0.000011</td>\n      <td>0.000113</td>\n      <td>0.000099</td>\n      <td>0.000107</td>\n      <td>0.000083</td>\n      <td>0.000098</td>\n      <td>0.000108</td>\n      <td>0.003354</td>\n      <td>...</td>\n      <td>0.000039</td>\n      <td>0.000273</td>\n      <td>0.000060</td>\n      <td>0.000059</td>\n      <td>0.000167</td>\n      <td>0.000158</td>\n      <td>0.000048</td>\n      <td>0.000027</td>\n      <td>0.000058</td>\n      <td>0.000070</td>\n    </tr>\n    <tr>\n      <th>VALE</th>\n      <td>0.000090</td>\n      <td>0.000127</td>\n      <td>0.000090</td>\n      <td>0.000110</td>\n      <td>0.000141</td>\n      <td>0.000097</td>\n      <td>0.000272</td>\n      <td>0.000119</td>\n      <td>0.000112</td>\n      <td>0.000248</td>\n      <td>...</td>\n      <td>0.000078</td>\n      <td>0.000235</td>\n      <td>0.000213</td>\n      <td>0.000081</td>\n      <td>0.000187</td>\n      <td>0.000166</td>\n      <td>0.000029</td>\n      <td>0.000109</td>\n      <td>0.000103</td>\n      <td>0.000089</td>\n    </tr>\n    <tr>\n      <th>PFE</th>\n      <td>0.000093</td>\n      <td>0.000075</td>\n      <td>0.000133</td>\n      <td>0.000070</td>\n      <td>0.000102</td>\n      <td>0.000062</td>\n      <td>0.000076</td>\n      <td>-0.000033</td>\n      <td>0.000057</td>\n      <td>0.000054</td>\n      <td>...</td>\n      <td>0.000081</td>\n      <td>0.000102</td>\n      <td>0.000067</td>\n      <td>0.000109</td>\n      <td>0.000106</td>\n      <td>0.000122</td>\n      <td>0.000062</td>\n      <td>0.000096</td>\n      <td>0.000093</td>\n      <td>0.000089</td>\n    </tr>\n    <tr>\n      <th>CTL</th>\n      <td>0.000100</td>\n      <td>0.000115</td>\n      <td>0.000097</td>\n      <td>0.000130</td>\n      <td>0.000131</td>\n      <td>0.000136</td>\n      <td>0.000050</td>\n      <td>0.000021</td>\n      <td>0.000107</td>\n      <td>0.000127</td>\n      <td>...</td>\n      <td>0.000180</td>\n      <td>0.000142</td>\n      <td>0.000059</td>\n      <td>0.000171</td>\n      <td>0.000103</td>\n      <td>0.000163</td>\n      <td>0.000123</td>\n      <td>0.000076</td>\n      <td>0.000123</td>\n      <td>0.000107</td>\n    </tr>\n    <tr>\n      <th>T</th>\n      <td>0.000077</td>\n      <td>0.000072</td>\n      <td>0.000083</td>\n      <td>0.000092</td>\n      <td>0.000090</td>\n      <td>0.000072</td>\n      <td>0.000060</td>\n      <td>0.000018</td>\n      <td>0.000051</td>\n      <td>0.000039</td>\n      <td>...</td>\n      <td>0.000227</td>\n      <td>0.000076</td>\n      <td>0.000069</td>\n      <td>0.000104</td>\n      <td>0.000059</td>\n      <td>0.000093</td>\n      <td>0.000085</td>\n      <td>0.000067</td>\n      <td>0.000085</td>\n      <td>0.000078</td>\n    </tr>\n    <tr>\n      <th>ECA</th>\n      <td>0.000112</td>\n      <td>0.000212</td>\n      <td>0.000126</td>\n      <td>0.000160</td>\n      <td>0.000156</td>\n      <td>0.000137</td>\n      <td>0.000065</td>\n      <td>0.000019</td>\n      <td>0.000102</td>\n      <td>0.000273</td>\n      <td>...</td>\n      <td>0.000076</td>\n      <td>0.000790</td>\n      <td>0.000099</td>\n      <td>0.000087</td>\n      <td>0.000175</td>\n      <td>0.000195</td>\n      <td>0.000069</td>\n      <td>0.000099</td>\n      <td>0.000116</td>\n      <td>0.000120</td>\n    </tr>\n    <tr>\n      <th>ABEV</th>\n      <td>0.000066</td>\n      <td>0.000036</td>\n      <td>0.000057</td>\n      <td>0.000047</td>\n      <td>0.000081</td>\n      <td>0.000060</td>\n      <td>0.000293</td>\n      <td>0.000123</td>\n      <td>0.000096</td>\n      <td>0.000060</td>\n      <td>...</td>\n      <td>0.000069</td>\n      <td>0.000099</td>\n      <td>0.000349</td>\n      <td>0.000091</td>\n      <td>0.000093</td>\n      <td>0.000089</td>\n      <td>0.000032</td>\n      <td>0.000062</td>\n      <td>0.000068</td>\n      <td>0.000058</td>\n    </tr>\n    <tr>\n      <th>CVS</th>\n      <td>0.000104</td>\n      <td>0.000080</td>\n      <td>0.000112</td>\n      <td>0.000088</td>\n      <td>0.000132</td>\n      <td>0.000135</td>\n      <td>0.000098</td>\n      <td>-0.000023</td>\n      <td>0.000082</td>\n      <td>0.000059</td>\n      <td>...</td>\n      <td>0.000104</td>\n      <td>0.000087</td>\n      <td>0.000091</td>\n      <td>0.000342</td>\n      <td>0.000059</td>\n      <td>0.000119</td>\n      <td>0.000081</td>\n      <td>0.000081</td>\n      <td>0.000108</td>\n      <td>0.000116</td>\n    </tr>\n    <tr>\n      <th>MRVL</th>\n      <td>0.000142</td>\n      <td>0.000096</td>\n      <td>0.000074</td>\n      <td>0.000109</td>\n      <td>0.000161</td>\n      <td>0.000021</td>\n      <td>0.000122</td>\n      <td>0.000034</td>\n      <td>0.000169</td>\n      <td>0.000167</td>\n      <td>...</td>\n      <td>0.000059</td>\n      <td>0.000175</td>\n      <td>0.000093</td>\n      <td>0.000059</td>\n      <td>0.000505</td>\n      <td>0.000214</td>\n      <td>0.000029</td>\n      <td>0.000116</td>\n      <td>0.000130</td>\n      <td>0.000116</td>\n    </tr>\n    <tr>\n      <th>CSCO</th>\n      <td>0.000154</td>\n      <td>0.000107</td>\n      <td>0.000117</td>\n      <td>0.000103</td>\n      <td>0.000165</td>\n      <td>0.000092</td>\n      <td>0.000105</td>\n      <td>-0.000013</td>\n      <td>0.000131</td>\n      <td>0.000158</td>\n      <td>...</td>\n      <td>0.000093</td>\n      <td>0.000195</td>\n      <td>0.000089</td>\n      <td>0.000119</td>\n      <td>0.000214</td>\n      <td>0.000279</td>\n      <td>0.000053</td>\n      <td>0.000115</td>\n      <td>0.000132</td>\n      <td>0.000120</td>\n    </tr>\n    <tr>\n      <th>MO</th>\n      <td>0.000055</td>\n      <td>0.000088</td>\n      <td>0.000073</td>\n      <td>0.000083</td>\n      <td>0.000051</td>\n      <td>0.000090</td>\n      <td>0.000072</td>\n      <td>-0.000021</td>\n      <td>0.000041</td>\n      <td>0.000048</td>\n      <td>...</td>\n      <td>0.000085</td>\n      <td>0.000069</td>\n      <td>0.000032</td>\n      <td>0.000081</td>\n      <td>0.000029</td>\n      <td>0.000053</td>\n      <td>0.000237</td>\n      <td>0.000054</td>\n      <td>0.000055</td>\n      <td>0.000045</td>\n    </tr>\n    <tr>\n      <th>BMY</th>\n      <td>0.000083</td>\n      <td>0.000038</td>\n      <td>0.000115</td>\n      <td>0.000057</td>\n      <td>0.000099</td>\n      <td>0.000043</td>\n      <td>0.000097</td>\n      <td>0.000012</td>\n      <td>0.000074</td>\n      <td>0.000027</td>\n      <td>...</td>\n      <td>0.000067</td>\n      <td>0.000099</td>\n      <td>0.000062</td>\n      <td>0.000081</td>\n      <td>0.000116</td>\n      <td>0.000115</td>\n      <td>0.000054</td>\n      <td>0.000273</td>\n      <td>0.000094</td>\n      <td>0.000097</td>\n    </tr>\n    <tr>\n      <th>WFC</th>\n      <td>0.000093</td>\n      <td>0.000075</td>\n      <td>0.000091</td>\n      <td>0.000104</td>\n      <td>0.000180</td>\n      <td>0.000086</td>\n      <td>0.000105</td>\n      <td>-0.000018</td>\n      <td>0.000087</td>\n      <td>0.000058</td>\n      <td>...</td>\n      <td>0.000085</td>\n      <td>0.000116</td>\n      <td>0.000068</td>\n      <td>0.000108</td>\n      <td>0.000130</td>\n      <td>0.000132</td>\n      <td>0.000055</td>\n      <td>0.000094</td>\n      <td>0.000224</td>\n      <td>0.000162</td>\n    </tr>\n    <tr>\n      <th>HBAN</th>\n      <td>0.000086</td>\n      <td>0.000086</td>\n      <td>0.000090</td>\n      <td>0.000119</td>\n      <td>0.000181</td>\n      <td>0.000096</td>\n      <td>0.000078</td>\n      <td>-0.000036</td>\n      <td>0.000084</td>\n      <td>0.000070</td>\n      <td>...</td>\n      <td>0.000078</td>\n      <td>0.000120</td>\n      <td>0.000058</td>\n      <td>0.000116</td>\n      <td>0.000116</td>\n      <td>0.000120</td>\n      <td>0.000045</td>\n      <td>0.000097</td>\n      <td>0.000162</td>\n      <td>0.000212</td>\n    </tr>\n  </tbody>\n</table>\n<p>23 rows × 23 columns</p>\n</div>"
     },
     "execution_count": 553,
     "metadata": {},
     "output_type": "execute_result"
    }
   ],
   "source": [
    "ndf = pd.read_csv(os.path.abspath(os.path.join(script_dr, '..', 'Data', 'stock_returns_2018.csv')))\n",
    "r_2018 = ndf.mean()\n",
    "cov_2018 = sample_cov(ndf)\n",
    "cov_2018"
   ],
   "metadata": {
    "collapsed": false
   }
  },
  {
   "cell_type": "code",
   "execution_count": 554,
   "outputs": [
    {
     "name": "stdout",
     "output_type": "stream",
     "text": [
      "The MSR mean return is 143.44% on the minimum vol of 21020.04%\n",
      "The sharpe ratio is the portfolio is 0.007\n"
     ]
    },
    {
     "data": {
      "text/plain": "array([-2328.37 , -1740.254,  8702.201, -2646.876,   349.002,   856.628,\n        1344.421,  2130.622,  6231.148,  -550.319,  3156.764,  7017.031,\n        -296.454, -2460.532, -2304.12 , -7732.224, -1661.205, -3290.328,\n        4437.858, -1988.181, -3554.105, -3546.388,  -125.32 ])"
     },
     "execution_count": 554,
     "metadata": {},
     "output_type": "execute_result"
    }
   ],
   "source": [
    "risk_free = 0.01/100\n",
    "msr_port_wt2018 = np.round(msr(riskfree_rate=risk_free, er=r_2018, cov=cov_2018), 3)\n",
    "msr_port_return2018 = portfolio_returns(weights=msr_port_wt2018, returns=returns)\n",
    "msr_port_vol2018 = portfolio_vol(weights=msr_port_wt2018, covmat=cov_2018)\n",
    "print(f\"The MSR mean return is {np.round(msr_port_return2018* 100, 2)}% on the minimum vol of {np.round(msr_port_vol2018* 100, 2)}%\")\n",
    "# print(msr_port_return1, msr_port_vol1)\n",
    "\n",
    "sharpe_ratio = (msr_port_return2018 - risk_free)/msr_port_vol2018\n",
    "print(f\"The sharpe ratio is the portfolio is {np.round(sharpe_ratio, 3)}\")\n",
    "msr_port_wt2018"
   ],
   "metadata": {
    "collapsed": false
   }
  },
  {
   "cell_type": "code",
   "execution_count": 555,
   "outputs": [
    {
     "data": {
      "text/plain": "<Axes: xlabel='Volatility'>"
     },
     "execution_count": 555,
     "metadata": {},
     "output_type": "execute_result"
    },
    {
     "data": {
      "text/plain": "<Figure size 640x480 with 1 Axes>",
      "image/png": "[encoded data removed]"
     },
     "metadata": {},
     "output_type": "display_data"
    }
   ],
   "source": [
    "plot_ef(n_points=100, er=r_2018, cov=cov_2018, show_cml=True, riskfree_rate=risk_free)"
   ],
   "metadata": {
    "collapsed": false
   }
  },
  {
   "cell_type": "code",
   "execution_count": 555,
   "outputs": [],
   "source": [],
   "metadata": {
    "collapsed": false
   }
  }
 ],
 "metadata": {
  "kernelspec": {
   "display_name": "Python 3",
   "language": "python",
   "name": "python3"
  },
  "language_info": {
   "codemirror_mode": {
    "name": "ipython",
    "version": 2
   },
   "file_extension": ".py",
   "mimetype": "text/x-python",
   "name": "python",
   "nbconvert_exporter": "python",
   "pygments_lexer": "ipython2",
   "version": "2.7.6"
  }
 },
 "nbformat": 4,
 "nbformat_minor": 0
}
