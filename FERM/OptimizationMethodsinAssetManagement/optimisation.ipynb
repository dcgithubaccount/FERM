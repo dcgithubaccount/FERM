{
 "cells": [
  {
   "cell_type": "code",
   "execution_count": 1,
   "metadata": {
    "collapsed": true
   },
   "outputs": [],
   "source": [
    "from pypfopt.efficient_frontier import EfficientCVaR\n",
    "import pandas as pd\n",
    "import os\n",
    "script_dr = os.getcwd()"
   ]
  },
  {
   "cell_type": "code",
   "execution_count": 3,
   "outputs": [
    {
     "data": {
      "text/plain": "                 IBM        GE       LLY         F       BAC        KR  \\\ndate                                                                     \n2016-01-04 -0.000736  0.000976  0.014852 -0.018058  0.000000  0.022343   \n2016-01-05 -0.005018 -0.016069 -0.006321 -0.045479 -0.021533 -0.000951   \n2016-01-06 -0.017237 -0.043235 -0.026306 -0.031773 -0.036736 -0.023581   \n2016-01-07 -0.009301 -0.018113 -0.001967 -0.012678 -0.019545 -0.006596   \n2016-01-08  0.012082  0.004559 -0.012135  0.018175  0.007211  0.011696   \n...              ...       ...       ...       ...       ...       ...   \n2017-12-21  0.006579  0.001716 -0.006328 -0.003967  0.002010  0.025091   \n2017-12-22  0.002162 -0.004008 -0.000941  0.001589 -0.003352 -0.016057   \n2017-12-26  0.001961 -0.002873  0.001763 -0.007968 -0.001680 -0.003243   \n2017-12-27  0.005925 -0.001151 -0.001058  0.006380  0.002352 -0.002168   \n2017-12-28 -0.004033  0.005171 -0.006961 -0.007180 -0.009440 -0.007260   \n\n                ITUB        GG      SIRI       ACB  ...         T       ECA  \\\ndate                                                ...                       \n2016-01-04  0.008006 -0.023029 -0.010178  0.046629  ...  0.006963  0.026925   \n2016-01-05 -0.008006  0.018804 -0.005128 -0.006857  ... -0.015441 -0.062643   \n2016-01-06 -0.031023  0.074229 -0.012937 -0.061485  ... -0.016280 -0.049700   \n2016-01-07  0.000000 -0.018247 -0.007843  0.026476  ...  0.000895  0.037504   \n2016-01-08 -0.001660 -0.055982  0.002621 -0.002378  ...  0.012150 -0.035384   \n...              ...       ...       ...       ...  ...       ...       ...   \n2017-12-21 -0.006211  0.007981  0.018798  0.030441  ...  0.001542  0.004773   \n2017-12-22  0.004662  0.011067  0.009268  0.082888  ...  0.003077  0.039678   \n2017-12-26 -0.006221 -0.003150 -0.005550  0.033523  ... -0.004362  0.001524   \n2017-12-27  0.008544  0.002363 -0.001857  0.118306  ...  0.007429  0.014367   \n2017-12-28  0.005399  0.004710 -0.003724  0.062182  ... -0.007686  0.000750   \n\n                ABEV       CVS      MRVL      CSCO        MO       BMY  \\\ndate                                                                     \n2016-01-04  0.013954  0.002899 -0.032335 -0.004554  0.020011  0.019501   \n2016-01-05 -0.011614 -0.012273 -0.056744 -0.010708  0.010534 -0.017713   \n2016-01-06 -0.040530 -0.014546  0.009889 -0.023338 -0.017561 -0.028090   \n2016-01-07  0.016888 -0.006605  0.011009 -0.025106  0.001719 -0.025754   \n2016-01-08 -0.016888  0.014431  0.012092  0.019581  0.020731 -0.010268   \n...              ...       ...       ...       ...       ...       ...   \n2017-12-21  0.001596 -0.016616 -0.001816  0.000519  0.002776 -0.008819   \n2017-12-22  0.012678  0.003671 -0.007754 -0.001817 -0.000832  0.004909   \n2017-12-26  0.003145 -0.012565  0.009569  0.002077  0.004844  0.006833   \n2017-12-27  0.007819  0.003978 -0.007283  0.000778 -0.016145  0.001458   \n2017-12-28  0.006211 -0.007558 -0.019373 -0.007543  0.001963 -0.007964   \n\n                 WFC      HBAN  \ndate                            \n2016-01-04 -0.000378  0.001867  \n2016-01-05 -0.019281 -0.015985  \n2016-01-06 -0.028942 -0.030801  \n2016-01-07 -0.016807 -0.017752  \n2016-01-08  0.010637  0.004963  \n...              ...       ...  \n2017-12-21 -0.000974 -0.004051  \n2017-12-22 -0.006847 -0.010201  \n2017-12-26 -0.002949 -0.002738  \n2017-12-27  0.005726  0.010228  \n2017-12-28 -0.010331 -0.012287  \n\n[502 rows x 23 columns]",
      "text/html": "<div>\n<style scoped>\n    .dataframe tbody tr th:only-of-type {\n        vertical-align: middle;\n    }\n\n    .dataframe tbody tr th {\n        vertical-align: top;\n    }\n\n    .dataframe thead th {\n        text-align: right;\n    }\n</style>\n<table border=\"1\" class=\"dataframe\">\n  <thead>\n    <tr style=\"text-align: right;\">\n      <th></th>\n      <th>IBM</th>\n      <th>GE</th>\n      <th>LLY</th>\n      <th>F</th>\n      <th>BAC</th>\n      <th>KR</th>\n      <th>ITUB</th>\n      <th>GG</th>\n      <th>SIRI</th>\n      <th>ACB</th>\n      <th>...</th>\n      <th>T</th>\n      <th>ECA</th>\n      <th>ABEV</th>\n      <th>CVS</th>\n      <th>MRVL</th>\n      <th>CSCO</th>\n      <th>MO</th>\n      <th>BMY</th>\n      <th>WFC</th>\n      <th>HBAN</th>\n    </tr>\n    <tr>\n      <th>date</th>\n      <th></th>\n      <th></th>\n      <th></th>\n      <th></th>\n      <th></th>\n      <th></th>\n      <th></th>\n      <th></th>\n      <th></th>\n      <th></th>\n      <th></th>\n      <th></th>\n      <th></th>\n      <th></th>\n      <th></th>\n      <th></th>\n      <th></th>\n      <th></th>\n      <th></th>\n      <th></th>\n      <th></th>\n    </tr>\n  </thead>\n  <tbody>\n    <tr>\n      <th>2016-01-04</th>\n      <td>-0.000736</td>\n      <td>0.000976</td>\n      <td>0.014852</td>\n      <td>-0.018058</td>\n      <td>0.000000</td>\n      <td>0.022343</td>\n      <td>0.008006</td>\n      <td>-0.023029</td>\n      <td>-0.010178</td>\n      <td>0.046629</td>\n      <td>...</td>\n      <td>0.006963</td>\n      <td>0.026925</td>\n      <td>0.013954</td>\n      <td>0.002899</td>\n      <td>-0.032335</td>\n      <td>-0.004554</td>\n      <td>0.020011</td>\n      <td>0.019501</td>\n      <td>-0.000378</td>\n      <td>0.001867</td>\n    </tr>\n    <tr>\n      <th>2016-01-05</th>\n      <td>-0.005018</td>\n      <td>-0.016069</td>\n      <td>-0.006321</td>\n      <td>-0.045479</td>\n      <td>-0.021533</td>\n      <td>-0.000951</td>\n      <td>-0.008006</td>\n      <td>0.018804</td>\n      <td>-0.005128</td>\n      <td>-0.006857</td>\n      <td>...</td>\n      <td>-0.015441</td>\n      <td>-0.062643</td>\n      <td>-0.011614</td>\n      <td>-0.012273</td>\n      <td>-0.056744</td>\n      <td>-0.010708</td>\n      <td>0.010534</td>\n      <td>-0.017713</td>\n      <td>-0.019281</td>\n      <td>-0.015985</td>\n    </tr>\n    <tr>\n      <th>2016-01-06</th>\n      <td>-0.017237</td>\n      <td>-0.043235</td>\n      <td>-0.026306</td>\n      <td>-0.031773</td>\n      <td>-0.036736</td>\n      <td>-0.023581</td>\n      <td>-0.031023</td>\n      <td>0.074229</td>\n      <td>-0.012937</td>\n      <td>-0.061485</td>\n      <td>...</td>\n      <td>-0.016280</td>\n      <td>-0.049700</td>\n      <td>-0.040530</td>\n      <td>-0.014546</td>\n      <td>0.009889</td>\n      <td>-0.023338</td>\n      <td>-0.017561</td>\n      <td>-0.028090</td>\n      <td>-0.028942</td>\n      <td>-0.030801</td>\n    </tr>\n    <tr>\n      <th>2016-01-07</th>\n      <td>-0.009301</td>\n      <td>-0.018113</td>\n      <td>-0.001967</td>\n      <td>-0.012678</td>\n      <td>-0.019545</td>\n      <td>-0.006596</td>\n      <td>0.000000</td>\n      <td>-0.018247</td>\n      <td>-0.007843</td>\n      <td>0.026476</td>\n      <td>...</td>\n      <td>0.000895</td>\n      <td>0.037504</td>\n      <td>0.016888</td>\n      <td>-0.006605</td>\n      <td>0.011009</td>\n      <td>-0.025106</td>\n      <td>0.001719</td>\n      <td>-0.025754</td>\n      <td>-0.016807</td>\n      <td>-0.017752</td>\n    </tr>\n    <tr>\n      <th>2016-01-08</th>\n      <td>0.012082</td>\n      <td>0.004559</td>\n      <td>-0.012135</td>\n      <td>0.018175</td>\n      <td>0.007211</td>\n      <td>0.011696</td>\n      <td>-0.001660</td>\n      <td>-0.055982</td>\n      <td>0.002621</td>\n      <td>-0.002378</td>\n      <td>...</td>\n      <td>0.012150</td>\n      <td>-0.035384</td>\n      <td>-0.016888</td>\n      <td>0.014431</td>\n      <td>0.012092</td>\n      <td>0.019581</td>\n      <td>0.020731</td>\n      <td>-0.010268</td>\n      <td>0.010637</td>\n      <td>0.004963</td>\n    </tr>\n    <tr>\n      <th>...</th>\n      <td>...</td>\n      <td>...</td>\n      <td>...</td>\n      <td>...</td>\n      <td>...</td>\n      <td>...</td>\n      <td>...</td>\n      <td>...</td>\n      <td>...</td>\n      <td>...</td>\n      <td>...</td>\n      <td>...</td>\n      <td>...</td>\n      <td>...</td>\n      <td>...</td>\n      <td>...</td>\n      <td>...</td>\n      <td>...</td>\n      <td>...</td>\n      <td>...</td>\n      <td>...</td>\n    </tr>\n    <tr>\n      <th>2017-12-21</th>\n      <td>0.006579</td>\n      <td>0.001716</td>\n      <td>-0.006328</td>\n      <td>-0.003967</td>\n      <td>0.002010</td>\n      <td>0.025091</td>\n      <td>-0.006211</td>\n      <td>0.007981</td>\n      <td>0.018798</td>\n      <td>0.030441</td>\n      <td>...</td>\n      <td>0.001542</td>\n      <td>0.004773</td>\n      <td>0.001596</td>\n      <td>-0.016616</td>\n      <td>-0.001816</td>\n      <td>0.000519</td>\n      <td>0.002776</td>\n      <td>-0.008819</td>\n      <td>-0.000974</td>\n      <td>-0.004051</td>\n    </tr>\n    <tr>\n      <th>2017-12-22</th>\n      <td>0.002162</td>\n      <td>-0.004008</td>\n      <td>-0.000941</td>\n      <td>0.001589</td>\n      <td>-0.003352</td>\n      <td>-0.016057</td>\n      <td>0.004662</td>\n      <td>0.011067</td>\n      <td>0.009268</td>\n      <td>0.082888</td>\n      <td>...</td>\n      <td>0.003077</td>\n      <td>0.039678</td>\n      <td>0.012678</td>\n      <td>0.003671</td>\n      <td>-0.007754</td>\n      <td>-0.001817</td>\n      <td>-0.000832</td>\n      <td>0.004909</td>\n      <td>-0.006847</td>\n      <td>-0.010201</td>\n    </tr>\n    <tr>\n      <th>2017-12-26</th>\n      <td>0.001961</td>\n      <td>-0.002873</td>\n      <td>0.001763</td>\n      <td>-0.007968</td>\n      <td>-0.001680</td>\n      <td>-0.003243</td>\n      <td>-0.006221</td>\n      <td>-0.003150</td>\n      <td>-0.005550</td>\n      <td>0.033523</td>\n      <td>...</td>\n      <td>-0.004362</td>\n      <td>0.001524</td>\n      <td>0.003145</td>\n      <td>-0.012565</td>\n      <td>0.009569</td>\n      <td>0.002077</td>\n      <td>0.004844</td>\n      <td>0.006833</td>\n      <td>-0.002949</td>\n      <td>-0.002738</td>\n    </tr>\n    <tr>\n      <th>2017-12-27</th>\n      <td>0.005925</td>\n      <td>-0.001151</td>\n      <td>-0.001058</td>\n      <td>0.006380</td>\n      <td>0.002352</td>\n      <td>-0.002168</td>\n      <td>0.008544</td>\n      <td>0.002363</td>\n      <td>-0.001857</td>\n      <td>0.118306</td>\n      <td>...</td>\n      <td>0.007429</td>\n      <td>0.014367</td>\n      <td>0.007819</td>\n      <td>0.003978</td>\n      <td>-0.007283</td>\n      <td>0.000778</td>\n      <td>-0.016145</td>\n      <td>0.001458</td>\n      <td>0.005726</td>\n      <td>0.010228</td>\n    </tr>\n    <tr>\n      <th>2017-12-28</th>\n      <td>-0.004033</td>\n      <td>0.005171</td>\n      <td>-0.006961</td>\n      <td>-0.007180</td>\n      <td>-0.009440</td>\n      <td>-0.007260</td>\n      <td>0.005399</td>\n      <td>0.004710</td>\n      <td>-0.003724</td>\n      <td>0.062182</td>\n      <td>...</td>\n      <td>-0.007686</td>\n      <td>0.000750</td>\n      <td>0.006211</td>\n      <td>-0.007558</td>\n      <td>-0.019373</td>\n      <td>-0.007543</td>\n      <td>0.001963</td>\n      <td>-0.007964</td>\n      <td>-0.010331</td>\n      <td>-0.012287</td>\n    </tr>\n  </tbody>\n</table>\n<p>502 rows × 23 columns</p>\n</div>"
     },
     "execution_count": 3,
     "metadata": {},
     "output_type": "execute_result"
    }
   ],
   "source": [
    "df = pd.read_excel(os.path.abspath(os.path.join(script_dr, '..', 'Data', 'FERM_3_Assignment_2.xlsx')), sheet_name='Daily_Returns_Raw_Data').set_index('date')\n",
    "df"
   ],
   "metadata": {
    "collapsed": false
   }
  },
  {
   "cell_type": "code",
   "execution_count": 10,
   "outputs": [
    {
     "ename": "ValueError",
     "evalue": "Scalar operands are not allowed, use '*' instead",
     "output_type": "error",
     "traceback": [
      "\u001B[0;31m---------------------------------------------------------------------------\u001B[0m",
      "\u001B[0;31mValueError\u001B[0m                                Traceback (most recent call last)",
      "Cell \u001B[0;32mIn[10], line 2\u001B[0m\n\u001B[1;32m      1\u001B[0m ec \u001B[38;5;241m=\u001B[39m EfficientCVaR(\u001B[38;5;28;01mNone\u001B[39;00m, df, beta\u001B[38;5;241m=\u001B[39m\u001B[38;5;241m0.9\u001B[39m)\n\u001B[0;32m----> 2\u001B[0m \u001B[43mec\u001B[49m\u001B[38;5;241;43m.\u001B[39;49m\u001B[43mefficient_risk\u001B[49m\u001B[43m(\u001B[49m\u001B[43mtarget_cvar\u001B[49m\u001B[38;5;241;43m=\u001B[39;49m\u001B[38;5;241;43m0.02\u001B[39;49m\u001B[43m)\u001B[49m\n",
      "File \u001B[0;32m~/anaconda3/envs/MortgageModelling/lib/python3.10/site-packages/pypfopt/efficient_frontier/efficient_cvar.py:197\u001B[0m, in \u001B[0;36mEfficientCVaR.efficient_risk\u001B[0;34m(self, target_cvar, market_neutral)\u001B[0m\n\u001B[1;32m    195\u001B[0m     \u001B[38;5;28mself\u001B[39m\u001B[38;5;241m.\u001B[39mupdate_parameter_value(\u001B[38;5;124m\"\u001B[39m\u001B[38;5;124mtarget_cvar\u001B[39m\u001B[38;5;124m\"\u001B[39m, target_cvar)\n\u001B[1;32m    196\u001B[0m \u001B[38;5;28;01melse\u001B[39;00m:\n\u001B[0;32m--> 197\u001B[0m     \u001B[38;5;28mself\u001B[39m\u001B[38;5;241m.\u001B[39m_objective \u001B[38;5;241m=\u001B[39m \u001B[43mobjective_functions\u001B[49m\u001B[38;5;241;43m.\u001B[39;49m\u001B[43mportfolio_return\u001B[49m\u001B[43m(\u001B[49m\n\u001B[1;32m    198\u001B[0m \u001B[43m        \u001B[49m\u001B[38;5;28;43mself\u001B[39;49m\u001B[38;5;241;43m.\u001B[39;49m\u001B[43m_w\u001B[49m\u001B[43m,\u001B[49m\u001B[43m \u001B[49m\u001B[38;5;28;43mself\u001B[39;49m\u001B[38;5;241;43m.\u001B[39;49m\u001B[43mexpected_returns\u001B[49m\n\u001B[1;32m    199\u001B[0m \u001B[43m    \u001B[49m\u001B[43m)\u001B[49m\n\u001B[1;32m    200\u001B[0m     \u001B[38;5;28;01mfor\u001B[39;00m obj \u001B[38;5;129;01min\u001B[39;00m \u001B[38;5;28mself\u001B[39m\u001B[38;5;241m.\u001B[39m_additional_objectives:\n\u001B[1;32m    201\u001B[0m         \u001B[38;5;28mself\u001B[39m\u001B[38;5;241m.\u001B[39m_objective \u001B[38;5;241m+\u001B[39m\u001B[38;5;241m=\u001B[39m obj\n",
      "File \u001B[0;32m~/anaconda3/envs/MortgageModelling/lib/python3.10/site-packages/pypfopt/objective_functions.py:88\u001B[0m, in \u001B[0;36mportfolio_return\u001B[0;34m(w, expected_returns, negative)\u001B[0m\n\u001B[1;32m     75\u001B[0m \u001B[38;5;124;03m\"\"\"\u001B[39;00m\n\u001B[1;32m     76\u001B[0m \u001B[38;5;124;03mCalculate the (negative) mean return of a portfolio\u001B[39;00m\n\u001B[1;32m     77\u001B[0m \n\u001B[0;32m   (...)\u001B[0m\n\u001B[1;32m     85\u001B[0m \u001B[38;5;124;03m:rtype: float\u001B[39;00m\n\u001B[1;32m     86\u001B[0m \u001B[38;5;124;03m\"\"\"\u001B[39;00m\n\u001B[1;32m     87\u001B[0m sign \u001B[38;5;241m=\u001B[39m \u001B[38;5;241m-\u001B[39m\u001B[38;5;241m1\u001B[39m \u001B[38;5;28;01mif\u001B[39;00m negative \u001B[38;5;28;01melse\u001B[39;00m \u001B[38;5;241m1\u001B[39m\n\u001B[0;32m---> 88\u001B[0m mu \u001B[38;5;241m=\u001B[39m \u001B[43mw\u001B[49m\u001B[43m \u001B[49m\u001B[38;5;241;43m@\u001B[39;49m\u001B[43m \u001B[49m\u001B[43mexpected_returns\u001B[49m\n\u001B[1;32m     89\u001B[0m \u001B[38;5;28;01mreturn\u001B[39;00m _objective_value(w, sign \u001B[38;5;241m*\u001B[39m mu)\n",
      "File \u001B[0;32m~/anaconda3/envs/MortgageModelling/lib/python3.10/site-packages/cvxpy/expressions/expression.py:50\u001B[0m, in \u001B[0;36m_cast_other.<locals>.cast_op\u001B[0;34m(self, other)\u001B[0m\n\u001B[1;32m     47\u001B[0m \u001B[38;5;124;03m\"\"\"A wrapped binary operator that can handle non-Expression arguments.\u001B[39;00m\n\u001B[1;32m     48\u001B[0m \u001B[38;5;124;03m\"\"\"\u001B[39;00m\n\u001B[1;32m     49\u001B[0m other \u001B[38;5;241m=\u001B[39m \u001B[38;5;28mself\u001B[39m\u001B[38;5;241m.\u001B[39mcast_to_const(other)\n\u001B[0;32m---> 50\u001B[0m \u001B[38;5;28;01mreturn\u001B[39;00m \u001B[43mbinary_op\u001B[49m\u001B[43m(\u001B[49m\u001B[38;5;28;43mself\u001B[39;49m\u001B[43m,\u001B[49m\u001B[43m \u001B[49m\u001B[43mother\u001B[49m\u001B[43m)\u001B[49m\n",
      "File \u001B[0;32m~/anaconda3/envs/MortgageModelling/lib/python3.10/site-packages/cvxpy/expressions/expression.py:622\u001B[0m, in \u001B[0;36mExpression.__matmul__\u001B[0;34m(self, other)\u001B[0m\n\u001B[1;32m    619\u001B[0m \u001B[38;5;124;03m\"\"\"Expression : Matrix multiplication of two expressions.\u001B[39;00m\n\u001B[1;32m    620\u001B[0m \u001B[38;5;124;03m\"\"\"\u001B[39;00m\n\u001B[1;32m    621\u001B[0m \u001B[38;5;28;01mif\u001B[39;00m \u001B[38;5;28mself\u001B[39m\u001B[38;5;241m.\u001B[39mshape \u001B[38;5;241m==\u001B[39m () \u001B[38;5;129;01mor\u001B[39;00m other\u001B[38;5;241m.\u001B[39mshape \u001B[38;5;241m==\u001B[39m ():\n\u001B[0;32m--> 622\u001B[0m     \u001B[38;5;28;01mraise\u001B[39;00m \u001B[38;5;167;01mValueError\u001B[39;00m(\u001B[38;5;124m\"\u001B[39m\u001B[38;5;124mScalar operands are not allowed, use \u001B[39m\u001B[38;5;124m'\u001B[39m\u001B[38;5;124m*\u001B[39m\u001B[38;5;124m'\u001B[39m\u001B[38;5;124m instead\u001B[39m\u001B[38;5;124m\"\u001B[39m)\n\u001B[1;32m    624\u001B[0m \u001B[38;5;28;01mif\u001B[39;00m \u001B[38;5;28misinstance\u001B[39m(\u001B[38;5;28mself\u001B[39m, cvxtypes\u001B[38;5;241m.\u001B[39mmatmul_expr()):\n\u001B[1;32m    625\u001B[0m     \u001B[38;5;66;03m# LHS is matrix multiplication expr, so candidate for QuadForm:\u001B[39;00m\n\u001B[1;32m    626\u001B[0m     \u001B[38;5;66;03m# Specifically, iff the matrix multiplication is of the form x.T @ A @ y\u001B[39;00m\n\u001B[1;32m    627\u001B[0m     \u001B[38;5;66;03m# such that x == y, A is constant matrix and x is a variable, then it is a QuadForm.\u001B[39;00m\n\u001B[1;32m    628\u001B[0m     \u001B[38;5;28;01mif\u001B[39;00m \u001B[38;5;28mself\u001B[39m\u001B[38;5;241m.\u001B[39margs[\u001B[38;5;241m0\u001B[39m] \u001B[38;5;129;01mis\u001B[39;00m other \u001B[38;5;129;01mand\u001B[39;00m \u001B[38;5;129;01mnot\u001B[39;00m other\u001B[38;5;241m.\u001B[39mis_constant() \u001B[38;5;129;01mand\u001B[39;00m \u001B[38;5;28mself\u001B[39m\u001B[38;5;241m.\u001B[39margs[\u001B[38;5;241m1\u001B[39m]\u001B[38;5;241m.\u001B[39mis_constant():\n",
      "\u001B[0;31mValueError\u001B[0m: Scalar operands are not allowed, use '*' instead"
     ]
    }
   ],
   "source": [
    "ec = EfficientCVaR(None, df, beta=0.9)\n",
    "ec.efficient_risk(target_cvar=0.02)"
   ],
   "metadata": {
    "collapsed": false
   }
  },
  {
   "cell_type": "code",
   "execution_count": null,
   "outputs": [],
   "source": [],
   "metadata": {
    "collapsed": false
   }
  }
 ],
 "metadata": {
  "kernelspec": {
   "display_name": "Python 3",
   "language": "python",
   "name": "python3"
  },
  "language_info": {
   "codemirror_mode": {
    "name": "ipython",
    "version": 2
   },
   "file_extension": ".py",
   "mimetype": "text/x-python",
   "name": "python",
   "nbconvert_exporter": "python",
   "pygments_lexer": "ipython2",
   "version": "2.7.6"
  }
 },
 "nbformat": 4,
 "nbformat_minor": 0
}
