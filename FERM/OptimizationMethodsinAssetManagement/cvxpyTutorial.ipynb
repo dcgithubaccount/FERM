{
 "cells": [
  {
   "cell_type": "code",
   "execution_count": 59,
   "metadata": {
    "collapsed": true
   },
   "outputs": [],
   "source": [
    "import cvxpy as cp\n",
    "import numpy as np\n",
    "import pandas as pd"
   ]
  },
  {
   "cell_type": "code",
   "execution_count": 69,
   "outputs": [
    {
     "data": {
      "text/plain": "0.02581988897471611"
     },
     "execution_count": 69,
     "metadata": {},
     "output_type": "execute_result"
    }
   ],
   "source": [
    "n = 3\n",
    "rets = np.array([0.06, 0.02, 0.04])\n",
    "vols = np.array([8.94/100, 4.47/100, 8.94/100])\n",
    "covmat = np.array([[0.00800,\t-0.00200, 0.00400], [-0.00200, 0.00200, -0.00200], [0.00400,-0.00200, 0.00800]])\n",
    "w = cp.Variable(n)\n",
    "ret = rets.T @ w\n",
    "risk = (w.T @ covmat @ w)\n",
    "prob = cp.Problem(cp.Minimize(risk), [cp.sum(w) == 1, w>=0 ])\n",
    "result = prob.solve()\n",
    "w.value\n",
    "ret.value\n",
    "risk.value ** 0.5\n"
   ],
   "metadata": {
    "collapsed": false
   }
  },
  {
   "cell_type": "code",
   "execution_count": 70,
   "outputs": [
    {
     "name": "stdout",
     "output_type": "stream",
     "text": [
      "[ 1.00000000e+00 -1.11027819e-22 -1.66518364e-22] 0.06 0.08944271909999159\n"
     ]
    }
   ],
   "source": [
    "n = 3\n",
    "rets = np.array([0.06, 0.02, 0.04])\n",
    "vols = np.array([8.94/100, 4.47/100, 8.94/100])\n",
    "covmat = np.array([[0.00800,\t-0.00200, 0.00400], [-0.00200, 0.00200, -0.00200], [0.00400,-0.00200, 0.00800]])\n",
    "w = cp.Variable(n)\n",
    "ret = rets.T @ w\n",
    "risk = (w.T @ covmat @ w)\n",
    "gamma = cp.Parameter(nonneg=True)\n",
    "gamma.value = 0.05\n",
    "Lmax = cp.Parameter()\n",
    "Lmax.value = 1\n",
    "\n",
    "prob = cp.Problem(cp.Maximize(ret - gamma * risk), [cp.sum(w) == 1, w>=0])\n",
    "prob.solve()\n",
    "print(w.value, ret.value, risk.value**0.5)\n"
   ],
   "metadata": {
    "collapsed": false
   }
  },
  {
   "cell_type": "code",
   "execution_count": 61,
   "outputs": [],
   "source": [],
   "metadata": {
    "collapsed": false
   }
  },
  {
   "cell_type": "code",
   "execution_count": 61,
   "outputs": [],
   "source": [],
   "metadata": {
    "collapsed": false
   }
  }
 ],
 "metadata": {
  "kernelspec": {
   "display_name": "Python 3",
   "language": "python",
   "name": "python3"
  },
  "language_info": {
   "codemirror_mode": {
    "name": "ipython",
    "version": 2
   },
   "file_extension": ".py",
   "mimetype": "text/x-python",
   "name": "python",
   "nbconvert_exporter": "python",
   "pygments_lexer": "ipython2",
   "version": "2.7.6"
  }
 },
 "nbformat": 4,
 "nbformat_minor": 0
}
