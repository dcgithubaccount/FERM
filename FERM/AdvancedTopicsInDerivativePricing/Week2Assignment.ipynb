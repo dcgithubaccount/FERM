{
 "cells": [
  {
   "cell_type": "code",
   "execution_count": 65,
   "metadata": {
    "collapsed": true
   },
   "outputs": [
    {
     "data": {
      "text/plain": "0     50.000000\n1     49.672466\n2     49.625614\n3     49.743893\n4     50.215642\n5     48.356972\n6     48.741614\n7     50.075533\n8     49.634212\n9     48.392042\n10    48.193660\n11    48.954316\n12    48.572178\n13    48.337508\n14    49.020046\n15    48.848217\n16    49.449221\n17    49.460768\n18    48.477946\n19    47.870402\n20    46.505393\n21    48.547953\n22    47.956209\n23    48.256849\n24    47.736248\n25    48.801611\n26    48.310825\n27    49.157910\n28    48.184503\n29    47.645596\n30    46.190907\n31    46.168825\n32    46.047138\n33    46.283890\n34    44.471716\n35    44.022587\n36    43.001733\n37    42.589382\n38    43.226927\n39    43.520265\n40    45.202903\n41    46.112445\n42    46.239706\n43    46.500615\n44    45.637705\n45    46.900960\n46    46.428245\n47    46.673851\n48    46.912451\n49    47.637729\n50    48.208999\nName: Stock Path # 1, dtype: float64"
     },
     "execution_count": 65,
     "metadata": {},
     "output_type": "execute_result"
    }
   ],
   "source": [
    "import pandas as pd\n",
    "import numpy as np\n",
    "from scipy.stats import norm\n",
    "import os\n",
    "T = 0.25\n",
    "n = 50\n",
    "deltaT = T/n\n",
    "r_f = 0.02\n",
    "sigma_0 = 0.3\n",
    "K = 50\n",
    "S_0 = 50\n",
    "c = 0\n",
    "number_of_options = 100000\n",
    "\n",
    "script_dr = os.getcwd()\n",
    "sample = pd.read_excel(os.path.abspath(os.path.join(script_dr, '..', 'Data', 'EquityDerivsPractice_PSet3.xlsx')), sheet_name='StockPricePaths')\n",
    "sample['Stock Path # 1'].to_list\n",
    "\n",
    "\n"
   ]
  },
  {
   "cell_type": "code",
   "execution_count": 92,
   "outputs": [],
   "source": [
    "def bsm_option(S, K, r, sigma, T, q=0, type='c'):\n",
    "    d1 = (np.log(S/K) + (r - q + (np.power(sigma, 2))/2)*T)/(sigma * np.sqrt(T))\n",
    "\n",
    "    d2 = d1 - sigma * np.sqrt(T)\n",
    "    # print(norm.cdf(d1), norm.cdf(d2), norm.cdf(d1) + norm.cdf(d2))\n",
    "    if type == 'c':\n",
    "        price = S * norm.cdf(d1) - K * np.exp(-1*r*T) * norm.cdf(d2)\n",
    "    else:\n",
    "        price = K * np.exp(-1*r*T) * norm.cdf(d2) - norm.cdf(d1) * S\n",
    "    return price\n",
    "\n",
    "def get_d1(S, K, r, sigma, T, q=0):\n",
    "    if T == 0:\n",
    "        d1 = np.nan\n",
    "    else:\n",
    "        d1 = (np.log(S/K) + (r - q + (np.power(sigma, 2))/2)*T)/(sigma * np.sqrt(T))\n",
    "    return d1\n"
   ],
   "metadata": {
    "collapsed": false
   }
  },
  {
   "cell_type": "code",
   "execution_count": 88,
   "outputs": [
    {
     "data": {
      "text/plain": "310815.12"
     },
     "execution_count": 88,
     "metadata": {},
     "output_type": "execute_result"
    }
   ],
   "source": [
    "initial_s_r_PV = np.round(bsm_option(S=S_0, K=K, r=r_f, sigma=sigma_0, T=T)*number_of_options, 2)\n",
    "initial_s_r_PV"
   ],
   "metadata": {
    "collapsed": false
   }
  },
  {
   "cell_type": "code",
   "execution_count": 121,
   "outputs": [
    {
     "name": "stdout",
     "output_type": "stream",
     "text": [
      "25.42\n",
      "46625.24 48.20899898901672 [50, 48.20899898901672, 46625.24, nan, nan, nan]\n",
      "46625.24\n"
     ]
    }
   ],
   "source": [
    "path1 = sample['Stock Path # 1'].values\n",
    "\n",
    "old_stock_held = 0\n",
    "old_cash_held = 0\n",
    "data = []\n",
    "for i in range(51):\n",
    "    d1 = get_d1(S=path1[i], K=K, r=r_f, sigma=sigma_0, T=(1 - i/n)*T, q=0)\n",
    "    n_d1 = norm.cdf(d1)\n",
    "\n",
    "    if i == 0:\n",
    "        s_r_pv = initial_s_r_PV\n",
    "    else:\n",
    "        s_r_pv = np.round(old_stock_held * path1[i] + old_cash_held * (1+r_f*T/n), 2)\n",
    "    stock_held = np.round(n_d1*number_of_options,2)\n",
    "    cash_held = np.round(s_r_pv - path1[i] * stock_held, 2)\n",
    "    old_stock_held = stock_held\n",
    "    old_cash_held = cash_held\n",
    "    data.append([i, path1[i], s_r_pv, d1, np.round(n_d1*number_of_options,2), cash_held])\n",
    "    # print(i, path1[i], s_r_pv, d1, np.round(n_d1*number_of_options,2), cash_held)\n",
    "log_rtn = np.log(sample['Stock Path # 1']) - np.log(sample['Stock Path # 1'].shift(1))\n",
    "print(np.round(log_rtn.dropna().std() * np.sqrt(n/T) * 100, 2))\n",
    "print(data[-1][2], data[-1][1], data[-1])\n",
    "print(data[-1][2] - number_of_options * np.maximum(data[-1][1]-K, 0))\n"
   ],
   "metadata": {
    "collapsed": false
   }
  },
  {
   "cell_type": "code",
   "execution_count": 120,
   "outputs": [
    {
     "name": "stdout",
     "output_type": "stream",
     "text": [
      "30.36\n",
      "435303.61 54.55565769867185 [50, 54.55565769867185, 435303.61, nan, nan, nan]\n",
      "-20262.15986718511\n"
     ]
    }
   ],
   "source": [
    "path2 = sample['Stock Path # 2'].values\n",
    "\n",
    "old_stock_held = 0\n",
    "old_cash_held = 0\n",
    "data = []\n",
    "for i in range(51):\n",
    "    d1 = get_d1(S=path2[i], K=K, r=r_f, sigma=sigma_0, T=(1 - i/n)*T, q=0)\n",
    "    n_d1 = norm.cdf(d1)\n",
    "\n",
    "    if i == 0:\n",
    "        s_r_pv = initial_s_r_PV\n",
    "    else:\n",
    "        s_r_pv = np.round(old_stock_held * path2[i] + old_cash_held * (1+r_f*T/n), 2)\n",
    "    stock_held = np.round(n_d1*number_of_options,2)\n",
    "    cash_held = np.round(s_r_pv - path2[i] * stock_held, 2)\n",
    "    old_stock_held = stock_held\n",
    "    old_cash_held = cash_held\n",
    "    data.append([i, path2[i], s_r_pv, d1, np.round(n_d1*number_of_options,2), cash_held])\n",
    "\n",
    "log_rtn = np.log(sample['Stock Path # 2']) - np.log(sample['Stock Path # 2'].shift(1))\n",
    "print(np.round(log_rtn.dropna().std() * np.sqrt(n/T) * 100, 2))\n",
    "print(data[-1][2], data[-1][1], data[-1])\n",
    "print(data[-1][2] - number_of_options * np.maximum(data[-1][1]-K, 0))"
   ],
   "metadata": {
    "collapsed": false
   }
  },
  {
   "cell_type": "code",
   "execution_count": 119,
   "outputs": [
    {
     "name": "stdout",
     "output_type": "stream",
     "text": [
      "51.57\n",
      "1280824.95 64.03690887362868 [50, 64.03690887362868, 1280824.95, nan, nan, nan]\n",
      "-122865.93736286764\n"
     ]
    }
   ],
   "source": [
    "path1 = sample['Stock Path # 3'].values\n",
    "\n",
    "old_stock_held = 0\n",
    "old_cash_held = 0\n",
    "data = []\n",
    "for i in range(51):\n",
    "    d1 = get_d1(S=path1[i], K=K, r=r_f, sigma=sigma_0, T=(1 - i/n)*T, q=0)\n",
    "    n_d1 = norm.cdf(d1)\n",
    "\n",
    "    if i == 0:\n",
    "        s_r_pv = initial_s_r_PV\n",
    "    else:\n",
    "        s_r_pv = np.round(old_stock_held * path1[i] + old_cash_held * (1+r_f*T/n), 2)\n",
    "    stock_held = np.round(n_d1*number_of_options,2)\n",
    "    cash_held = np.round(s_r_pv - path1[i] * stock_held, 2)\n",
    "    old_stock_held = stock_held\n",
    "    old_cash_held = cash_held\n",
    "    data.append([i, path1[i], s_r_pv, d1, np.round(n_d1*number_of_options,2), cash_held])\n",
    "    # print(i, path1[i], s_r_pv, d1, np.round(n_d1*number_of_options,2), cash_held)\n",
    "log_rtn = np.log(sample['Stock Path # 3']) - np.log(sample['Stock Path # 3'].shift(1))\n",
    "print(np.round(log_rtn.dropna().std() * np.sqrt(n/T) * 100, 2))\n",
    "print(data[-1][2], data[-1][1], data[-1])\n",
    "print(data[-1][2] - number_of_options * np.maximum(data[-1][1]-K, 0))"
   ],
   "metadata": {
    "collapsed": false
   }
  },
  {
   "cell_type": "code",
   "execution_count": 118,
   "outputs": [
    {
     "name": "stdout",
     "output_type": "stream",
     "text": [
      "40.14\n",
      "-104400.61 42.99905188962221 [50, 42.99905188962221, -104400.61, nan, nan, nan]\n",
      "-104400.61\n"
     ]
    }
   ],
   "source": [
    "path1 = sample['Stock Path # 4'].values\n",
    "\n",
    "old_stock_held = 0\n",
    "old_cash_held = 0\n",
    "data = []\n",
    "for i in range(51):\n",
    "    d1 = get_d1(S=path1[i], K=K, r=r_f, sigma=sigma_0, T=(1 - i/n)*T, q=0)\n",
    "    n_d1 = norm.cdf(d1)\n",
    "\n",
    "    if i == 0:\n",
    "        s_r_pv = initial_s_r_PV\n",
    "    else:\n",
    "        s_r_pv = np.round(old_stock_held * path1[i] + old_cash_held * (1+r_f*T/n), 2)\n",
    "    stock_held = np.round(n_d1*number_of_options,2)\n",
    "    cash_held = np.round(s_r_pv - path1[i] * stock_held, 2)\n",
    "    old_stock_held = stock_held\n",
    "    old_cash_held = cash_held\n",
    "    data.append([i, path1[i], s_r_pv, d1, np.round(n_d1*number_of_options,2), cash_held])\n",
    "    # print(i, path1[i], s_r_pv, d1, np.round(n_d1*number_of_options,2), cash_held)\n",
    "log_rtn = np.log(sample['Stock Path # 4']) - np.log(sample['Stock Path # 4'].shift(1))\n",
    "print(np.round(log_rtn.dropna().std() * np.sqrt(n/T) * 100, 2))\n",
    "print(data[-1][2], data[-1][1], data[-1])\n",
    "print(data[-1][2] - number_of_options * np.maximum(data[-1][1]-K, 0))"
   ],
   "metadata": {
    "collapsed": false
   }
  },
  {
   "cell_type": "code",
   "execution_count": null,
   "outputs": [],
   "source": [],
   "metadata": {
    "collapsed": false
   }
  }
 ],
 "metadata": {
  "kernelspec": {
   "display_name": "Python 3",
   "language": "python",
   "name": "python3"
  },
  "language_info": {
   "codemirror_mode": {
    "name": "ipython",
    "version": 2
   },
   "file_extension": ".py",
   "mimetype": "text/x-python",
   "name": "python",
   "nbconvert_exporter": "python",
   "pygments_lexer": "ipython2",
   "version": "2.7.6"
  }
 },
 "nbformat": 4,
 "nbformat_minor": 0
}
