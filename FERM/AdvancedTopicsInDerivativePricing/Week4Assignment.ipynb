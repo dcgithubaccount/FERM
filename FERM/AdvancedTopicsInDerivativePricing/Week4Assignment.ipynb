{
 "cells": [
  {
   "cell_type": "markdown",
   "source": [
    "### Question 1\n",
    "\n",
    "Suppose you are a portfolio manager and you are going to use derivatives to construct certain portfolio. The current stock price for AAPL is $\\$171.01 per share, at 10 am, March 8, 2019. You want to sell 1 unit of European Call on AAPL, with strike of $180 and maturity of 1 year.\n",
    "\n",
    "\n",
    "\n",
    "Suppose the annualized interest rate is 3%, the annualized drift for AAPL is 5%, no dividend, and the annualized volatility is 10%. In order to hedge the potential risk of your option, you are going to calculate several Greeks based on Black-Merton-Scholes model.\n",
    "\n"
   ],
   "metadata": {
    "collapsed": false
   }
  },
  {
   "cell_type": "code",
   "execution_count": 293,
   "outputs": [],
   "source": [
    "import numpy as np\n",
    "from numpy import log, exp, sqrt\n",
    "from scipy import stats\n",
    "from typing import Tuple\n",
    "\n",
    "class BSMOptionValuation:\n",
    "    \"\"\"\n",
    "    Valuation of European call options in Black-Scholes-Merton Model (incl. dividend)\n",
    "    Attributes\n",
    "    ==========\n",
    "    S0: float\n",
    "        initial stock/index level\n",
    "    K: float\n",
    "        strike price\n",
    "    T: float\n",
    "        time to maturity (in year fractions)\n",
    "    r: float\n",
    "        constant risk-free short rate\n",
    "        assume flat term structure\n",
    "    sigma: float\n",
    "        volatility factor in diffusion term\n",
    "    div_yield: float\n",
    "        dividend_yield, in percentage %, default = 0.0%\n",
    "    \"\"\"\n",
    "\n",
    "    def __init__(self, S0: float, K: float, T: float, r: float, sigma: float, div_yield: float = 0.0):\n",
    "        assert sigma >= 0, 'volatility cannot be less than zero'\n",
    "        assert S0 >= 0, 'initial stock price cannot be less than zero'\n",
    "        assert T >= 0, 'time to maturity cannot be less than zero'\n",
    "        assert div_yield >= 0, 'dividend yield cannot be less than zero'\n",
    "\n",
    "        self.S0 = float(S0)\n",
    "        self.K = float(K)\n",
    "        self.T = float(T)\n",
    "        self.r = float(r)\n",
    "        self.sigma = float(sigma)\n",
    "        self.div_yield = float(div_yield)\n",
    "\n",
    "        self._d1, self._d2 = self._calculate_d1_d2()\n",
    "        self._d3 = None\n",
    "        self._d4 = None\n",
    "        self._d5 = None\n",
    "        self._d6 = None\n",
    "        self._d7 = None\n",
    "        self._d8 = None\n",
    "\n",
    "    def _calculate_d1_d2(self):\n",
    "        d1 = ((log(self.S0 / self.K) + (self.r - self.div_yield + 0.5 * self.sigma ** 2) * self.T) / (\n",
    "                self.sigma * sqrt(self.T)))\n",
    "        d2 = d1 - self.sigma * sqrt(self.T)\n",
    "\n",
    "        return d1, d2\n",
    "\n",
    "    def call_value(self, observed_put_price: float = None) -> float:\n",
    "        \"\"\"\n",
    "        :return: call option value\n",
    "        \"\"\"\n",
    "        if observed_put_price is None:\n",
    "            call_value = (self.S0 * exp(-self.div_yield * self.T) * stats.norm.cdf(self._d1, 0.0, 1.0) - self.K * exp(\n",
    "                -self.r * self.T) * stats.norm.cdf(self._d2, 0.0, 1.0))\n",
    "        else:\n",
    "            call_value = observed_put_price + exp(-self.div_yield * self.T) * self.S0 - exp(-self.r * self.T) * self.K\n",
    "\n",
    "        return call_value\n",
    "\n",
    "    def delta(self) -> Tuple[float, float]:\n",
    "        \"\"\"\n",
    "        Delta measures the change in the option price for a $1 change in the stock price\n",
    "        :return: delta of the option\n",
    "        \"\"\"\n",
    "        delta_call = exp(- self.div_yield * self.T) * stats.norm.cdf(self._d1, 0.0, 1.0)\n",
    "        delta_put = -exp(- self.div_yield * self.T) * stats.norm.cdf(-self._d1, 0.0, 1.0)\n",
    "\n",
    "        return delta_call, delta_put\n",
    "\n",
    "    def gamma(self) -> float:\n",
    "        \"\"\"\n",
    "        Gamma measures the change in delta when the stock price changes\n",
    "        :return: gamma of the option\n",
    "        \"\"\"\n",
    "        gamma = exp(-self.div_yield * self.T) * stats.norm.pdf(self._d1) / (self.S0 * self.sigma * sqrt(self.T))\n",
    "\n",
    "        return gamma\n",
    "\n",
    "    def theta(self) -> Tuple[float, float]:\n",
    "        \"\"\"\n",
    "        Theta measures the change in the option price with respect to calendar time (t ),\n",
    "        holding fixed time to expiration (T).\n",
    "\n",
    "        If time to expiration is measured in years, theta will be the annualized change in the option value.\n",
    "        To obtain a per-day theta, divide by 252.\n",
    "        :return: theta of the option\n",
    "        \"\"\"\n",
    "        part1 = self.div_yield * self.S0 * exp(-self.div_yield * self.T) * stats.norm.cdf(self._d1)\n",
    "        part2 = self.r * self.K * exp(-self.r * self.T) * stats.norm.cdf(self._d2)\n",
    "        part3 = (self.S0 * exp(-self.div_yield * self.T) * stats.norm.pdf(self._d1) * self.sigma) / (2 * sqrt(self.T))\n",
    "        # print(part3, exp(-self.div_yield * self.T), part1)\n",
    "        theta_call = part1 - part2 - part3\n",
    "        theta_put = theta_call + self.r * self.K * exp(-self.r * self.T) - self.div_yield * self.S0 * exp(\n",
    "            -self.div_yield * self.T)\n",
    "\n",
    "        return theta_call, theta_put\n",
    "\n",
    "    def vega(self) -> float:\n",
    "        \"\"\"\n",
    "        Vega measures the change in the option price when volatility changes. Some writers also\n",
    "        use the terms lambda or kappa to refer to this measure:\n",
    "        It is common to report vega as the change in the option price per percentage point change\n",
    "        in the volatility. This requires dividing the vega formula above by 100.\n",
    "        :return: vega of option\n",
    "        \"\"\"\n",
    "        vega = self.S0 * exp(-self.div_yield * self.T) * stats.norm.pdf(self._d1, 0.0, 1.0) * sqrt(self.T)\n",
    "\n",
    "        return vega\n",
    "    def put_value(self, observed_call_price: float = None) -> float:\n",
    "        \"\"\"\n",
    "        Use put call parity (incl. continuous dividend) to calculate the put option value\n",
    "\n",
    "        :return: put option value\n",
    "        \"\"\"\n",
    "        if observed_call_price is None:\n",
    "            put_value = self.call_value() + exp(-self.r * self.T) * self.K - exp(-self.div_yield * self.T) * self.S0\n",
    "        else:\n",
    "            put_value = observed_call_price + exp(-self.r * self.T) * self.K - exp(-self.div_yield * self.T) * self.S0\n",
    "\n",
    "        return put_value\n",
    "\n",
    "    def implied_vol(self, observed_call_price: float, num_iterations: int = 1000, tolerance: float = 1e-4) -> float:\n",
    "        \"\"\"\n",
    "        Newton-Raphson iterative approach, assuming black_scholes_merton model\n",
    "        :param observed_call_price: call price from the market\n",
    "        :param num_iterations: no. of iteration\n",
    "        :param tolerance: allows to specify the tolerance level\n",
    "        :return: implied volatility given the observed option price\n",
    "        \"\"\"\n",
    "        sigma_old = self.sigma\n",
    "\n",
    "        for _ in range(num_iterations):\n",
    "            self._d1, self._d2 = self._calculate_d1_d2()\n",
    "            _cal_val = self.call_value()\n",
    "            option_price_diff = _cal_val - observed_call_price\n",
    "\n",
    "            _vega = self.vega()\n",
    "            sigma_new = self.sigma - option_price_diff / (_vega + 1e-10)\n",
    "\n",
    "            if abs(sigma_new - self.sigma) <= tolerance:\n",
    "                break\n",
    "\n",
    "            self.sigma = sigma_new\n",
    "\n",
    "        implied_vol = self.sigma\n",
    "\n",
    "        # restore back the status\n",
    "        self.sigma = sigma_old\n",
    "        self._d1, self._d2 = self._calculate_d1_d2()\n",
    "        return implied_vol"
   ],
   "metadata": {
    "collapsed": false
   }
  },
  {
   "cell_type": "code",
   "execution_count": 294,
   "outputs": [
    {
     "data": {
      "text/plain": "5.21223"
     },
     "execution_count": 294,
     "metadata": {},
     "output_type": "execute_result"
    }
   ],
   "source": [
    "# initialize parameters\n",
    "S0 = 171.01  # e.g. spot price = 35\n",
    "K = 180  # e.g. exercise price = 40\n",
    "T = 1.0  # e.g. six months = 0.5\n",
    "r = 0.03  # e.g. risk free rate = 1%\n",
    "sigma = 0.1  # e.g. volatility = 5%\n",
    "div_yield = 0.0  # e.g. dividend yield = 1%\n",
    "\n",
    "# initialize instance\n",
    "bsm = BSMOptionValuation(S0, K, T, r, sigma, div_yield)\n",
    "np.round(bsm.call_value(), 5)\n"
   ],
   "metadata": {
    "collapsed": false
   }
  },
  {
   "cell_type": "code",
   "execution_count": 295,
   "outputs": [
    {
     "data": {
      "text/plain": "0.43552"
     },
     "execution_count": 295,
     "metadata": {},
     "output_type": "execute_result"
    }
   ],
   "source": [
    "Long = True\n",
    "if Long:\n",
    "   delta = bsm.delta()[0]\n",
    "else:\n",
    "    delta = -1* bsm.delta()[0]\n",
    "\n",
    "np.round(delta, 5)"
   ],
   "metadata": {
    "collapsed": false
   }
  },
  {
   "cell_type": "code",
   "execution_count": 296,
   "outputs": [
    {
     "data": {
      "text/plain": "0.02302"
     },
     "execution_count": 296,
     "metadata": {},
     "output_type": "execute_result"
    }
   ],
   "source": [
    "if Long:\n",
    "   gamma = bsm.gamma()\n",
    "else:\n",
    "    gamma = -1* bsm.gamma()\n",
    "\n",
    "np.round(gamma, 5)"
   ],
   "metadata": {
    "collapsed": false
   }
  },
  {
   "cell_type": "code",
   "execution_count": 297,
   "outputs": [
    {
     "data": {
      "text/plain": "67.32994"
     },
     "execution_count": 297,
     "metadata": {},
     "output_type": "execute_result"
    }
   ],
   "source": [
    "if Long:\n",
    "   vega = bsm.vega()\n",
    "else:\n",
    "    vega = -1* bsm.vega()\n",
    "\n",
    "np.round(vega, 5)"
   ],
   "metadata": {
    "collapsed": false
   }
  },
  {
   "cell_type": "code",
   "execution_count": 298,
   "outputs": [
    {
     "data": {
      "text/plain": "-5.44446"
     },
     "execution_count": 298,
     "metadata": {},
     "output_type": "execute_result"
    }
   ],
   "source": [
    "if Long:\n",
    "   theta = bsm.theta()[0]\n",
    "else:\n",
    "    theta = -1* bsm.theta()[0]\n",
    "\n",
    "np.round(theta, 5)\n",
    "# bsm.theta()"
   ],
   "metadata": {
    "collapsed": false
   }
  },
  {
   "cell_type": "code",
   "execution_count": 299,
   "outputs": [
    {
     "name": "stdout",
     "output_type": "stream",
     "text": [
      "The AAPL Call option was short so the hedging will to buy 0.43552 AAPL shares\n",
      "The net cash flow is -69.2653294783826\n"
     ]
    }
   ],
   "source": [
    "print(f\"The AAPL Call option was short so the hedging will to buy {np.round(delta, 5)} AAPL shares\")\n",
    "print(f\"The net cash flow is {bsm.call_value() - bsm.delta()[0]*S0}\")"
   ],
   "metadata": {
    "collapsed": false
   }
  },
  {
   "cell_type": "code",
   "execution_count": 300,
   "outputs": [
    {
     "data": {
      "text/plain": "5.21223"
     },
     "execution_count": 300,
     "metadata": {},
     "output_type": "execute_result"
    }
   ],
   "source": [
    "S1 = 180.2\n",
    "T1 = 11/12\n",
    "bsm1 = BSMOptionValuation(S1, K, T1, r, sigma, div_yield)\n",
    "np.round(bsm.call_value(), 5)"
   ],
   "metadata": {
    "collapsed": false
   }
  },
  {
   "cell_type": "code",
   "execution_count": 301,
   "outputs": [
    {
     "name": "stdout",
     "output_type": "stream",
     "text": [
      "The AAPL stock has gone up and Sold Call option is bleeding so more 0.2001 shares to be bought\n"
     ]
    }
   ],
   "source": [
    "print(f\"The AAPL stock has gone up and Sold Call option is bleeding so more {np.round(bsm1.delta()[0] - bsm.delta()[0], 4)} shares to be bought\")"
   ],
   "metadata": {
    "collapsed": false
   }
  },
  {
   "cell_type": "code",
   "execution_count": 302,
   "outputs": [
    {
     "name": "stdout",
     "output_type": "stream",
     "text": [
      "9.62488111192711 5.212234921590209 0.43551584351776396 9.189999999999998\n",
      "4.4126461903369005\n",
      "4.00239060192825\n",
      "0.0025031276057951857\n",
      "-0.17337995834183853\n",
      "-35.6432834708359\n"
     ]
    }
   ],
   "source": [
    "print(bsm1.call_value(), bsm.call_value(), bsm.delta()[0], (S1-S0))\n",
    "print(bsm1.call_value() - bsm.call_value())\n",
    "print(bsm.delta()[0] * (S1-S0))\n",
    "old_val = bsm.call_value() - bsm.delta()[0]*S0\n",
    "print(exp(r*1/12) - 1)\n",
    "print((bsm.call_value() - bsm.delta()[0]*S0)*(exp(r*1/12) - 1))\n",
    "new_val = bsm1.call_value() - bsm1.delta()[0] *S1\n",
    "print(new_val - old_val)"
   ],
   "metadata": {
    "collapsed": false
   }
  },
  {
   "cell_type": "code",
   "execution_count": 303,
   "outputs": [
    {
     "data": {
      "text/plain": "1.6742566533948562"
     },
     "execution_count": 303,
     "metadata": {},
     "output_type": "execute_result"
    }
   ],
   "source": [
    "S0 = 171.01  # e.g. spot price = 35\n",
    "K_180 = 180  # e.g. exercise price = 40\n",
    "T = 1.0  # e.g. six months = 0.5\n",
    "r = 0.03  # e.g. risk free rate = 1%\n",
    "sigma = 0.1  # e.g. volatility = 5%\n",
    "div_yield = 0.0  # e.g. dividend yield = 1%\n",
    "K_185 = 185\n",
    "bsm_180 = BSMOptionValuation(S0, K_180, T, r, sigma, div_yield)\n",
    "bsm_185 = BSMOptionValuation(S0, K_185, T, r, sigma, div_yield)\n",
    "\n",
    "port_val = bsm_180.call_value() - bsm_185.call_value()\n",
    "port_val\n",
    "\n"
   ],
   "metadata": {
    "collapsed": false
   }
  },
  {
   "cell_type": "code",
   "execution_count": 304,
   "outputs": [
    {
     "name": "stdout",
     "output_type": "stream",
     "text": [
      "0.1 0.0972972972972973\n"
     ]
    }
   ],
   "source": [
    "sigma_180 = np.minimum(1, 18/180)\n",
    "sigma_185 = np.minimum(1, 18/185)\n",
    "print(sigma_180, sigma_185)"
   ],
   "metadata": {
    "collapsed": false
   }
  },
  {
   "cell_type": "code",
   "execution_count": 305,
   "outputs": [
    {
     "data": {
      "text/plain": "1.8413563495907752"
     },
     "execution_count": 305,
     "metadata": {},
     "output_type": "execute_result"
    }
   ],
   "source": [
    "bsm_180_sig_fun = BSMOptionValuation(S0, K_180, T, r, sigma_180, div_yield)\n",
    "bsm_185_sig_fun = BSMOptionValuation(S0, K_185, T, r, sigma_185, div_yield)\n",
    "\n",
    "port_val_sig_fun = bsm_180_sig_fun.call_value() - bsm_185_sig_fun.call_value()\n",
    "port_val_sig_fun"
   ],
   "metadata": {
    "collapsed": false
   }
  },
  {
   "cell_type": "code",
   "execution_count": 306,
   "outputs": [
    {
     "data": {
      "text/plain": "0.38376904311365273"
     },
     "execution_count": 306,
     "metadata": {},
     "output_type": "execute_result"
    }
   ],
   "source": [
    "S0 = 171.01  # e.g. spot price = 35\n",
    "K_180 = 180  # e.g. exercise price = 40\n",
    "T = 1.0  # e.g. six months = 0.5\n",
    "r = 0.03  # e.g. risk free rate = 1%\n",
    "sigma = 0.1  # e.g. volatility = 5%\n",
    "div_yield = 0.0  # e.g. dividend yield = 1%\n",
    "K_180_1 = 180.1\n",
    "bsm_180 = BSMOptionValuation(S0, K_180, T, r, sigma, div_yield)\n",
    "bsm_180_1 = BSMOptionValuation(S0, K_180_1, T, r, sigma, div_yield)\n",
    "d_180 = (bsm_180.call_value() - bsm_180_1.call_value())/(K_180_1-K_180)\n",
    "d_180"
   ],
   "metadata": {
    "collapsed": false
   }
  },
  {
   "cell_type": "code",
   "execution_count": 307,
   "outputs": [
    {
     "data": {
      "text/plain": "0.2862133177683453"
     },
     "execution_count": 307,
     "metadata": {},
     "output_type": "execute_result"
    }
   ],
   "source": [
    "S0 = 171.01  # e.g. spot price = 35\n",
    "K_185 = 185  # e.g. exercise price = 40\n",
    "T = 1.0  # e.g. six months = 0.5\n",
    "r = 0.03  # e.g. risk free rate = 1%\n",
    "sigma = 0.1  # e.g. volatility = 5%\n",
    "div_yield = 0.0  # e.g. dividend yield = 1%\n",
    "K_185_1 = 185.1\n",
    "bsm_185 = BSMOptionValuation(S0, K_185, T, r, sigma, div_yield)\n",
    "bsm_185_1 = BSMOptionValuation(S0, K_185_1, T, r, sigma, div_yield)\n",
    "d_185 = (bsm_185.call_value() - bsm_185_1.call_value())/(K_185_1-K_185)\n",
    "d_185"
   ],
   "metadata": {
    "collapsed": false
   }
  },
  {
   "cell_type": "code",
   "execution_count": 308,
   "outputs": [
    {
     "data": {
      "text/plain": "0.09755572534530743"
     },
     "execution_count": 308,
     "metadata": {},
     "output_type": "execute_result"
    }
   ],
   "source": [
    "d_180 - d_185"
   ],
   "metadata": {
    "collapsed": false
   }
  },
  {
   "cell_type": "code",
   "execution_count": 309,
   "outputs": [
    {
     "data": {
      "text/plain": "0.38376904311365273"
     },
     "execution_count": 309,
     "metadata": {},
     "output_type": "execute_result"
    }
   ],
   "source": [
    "S0 = 171.01  # e.g. spot price = 35\n",
    "K_180 = 180  # e.g. exercise price = 40\n",
    "T = 1.0  # e.g. six months = 0.5\n",
    "r = 0.03  # e.g. risk free rate = 1%\n",
    "sigma = sigma_180  # e.g. volatility = 5%\n",
    "div_yield = 0.0  # e.g. dividend yield = 1%\n",
    "K_180_1 = 180.1\n",
    "bsm_180 = BSMOptionValuation(S0, K_180, T, r, sigma, div_yield)\n",
    "bsm_180_1 = BSMOptionValuation(S0, K_180_1, T, r, sigma, div_yield)\n",
    "d_180 = (bsm_180.call_value() - bsm_180_1.call_value())/(K_180_1-K_180)\n",
    "d_180"
   ],
   "metadata": {
    "collapsed": false
   }
  },
  {
   "cell_type": "code",
   "execution_count": 310,
   "outputs": [
    {
     "data": {
      "text/plain": "0.2821312634905287"
     },
     "execution_count": 310,
     "metadata": {},
     "output_type": "execute_result"
    }
   ],
   "source": [
    "S0 = 171.01  # e.g. spot price = 35\n",
    "K_185 = 185  # e.g. exercise price = 40\n",
    "T = 1.0  # e.g. six months = 0.5\n",
    "r = 0.03  # e.g. risk free rate = 1%\n",
    "sigma = sigma_185  # e.g. volatility = 5%\n",
    "div_yield = 0.0  # e.g. dividend yield = 1%\n",
    "K_185_1 = 185.1\n",
    "bsm_185 = BSMOptionValuation(S0, K_185, T, r, sigma, div_yield)\n",
    "bsm_185_1 = BSMOptionValuation(S0, K_185_1, T, r, sigma, div_yield)\n",
    "d_185 = (bsm_185.call_value() - bsm_185_1.call_value())/(K_185_1-K_185)\n",
    "d_185"
   ],
   "metadata": {
    "collapsed": false
   }
  },
  {
   "cell_type": "code",
   "execution_count": 311,
   "outputs": [
    {
     "data": {
      "text/plain": "0.10163777962312404"
     },
     "execution_count": 311,
     "metadata": {},
     "output_type": "execute_result"
    }
   ],
   "source": [
    "d_180 - d_185"
   ],
   "metadata": {
    "collapsed": false
   }
  },
  {
   "cell_type": "code",
   "execution_count": 312,
   "outputs": [
    {
     "data": {
      "text/plain": "20.003507456799635"
     },
     "execution_count": 312,
     "metadata": {},
     "output_type": "execute_result"
    }
   ],
   "source": [
    "S0 = 100  # e.g. spot price = 35\n",
    "K = 90  # e.g. exercise price = 40\n",
    "T = 1.0  # e.g. six months = 0.5\n",
    "r = 0.05  # e.g. risk free rate = 1%\n",
    "sigma = 0.1\n",
    "div_yield = 0.0  # e.g. dividend yield = 1%\n",
    "observed_call_price = 16.6994\n",
    "\n",
    "bsm_new = BSMOptionValuation(S0, K, T, r, sigma, div_yield)\n",
    "bsm_new.implied_vol(observed_call_price=observed_call_price) * 100"
   ],
   "metadata": {
    "collapsed": false
   }
  },
  {
   "cell_type": "code",
   "execution_count": 313,
   "outputs": [
    {
     "name": "stdout",
     "output_type": "stream",
     "text": [
      "The put value is 7.474685924232887\n",
      "The portfolio value is -34.66042344298449\n"
     ]
    }
   ],
   "source": [
    "sigma = 0.3 * exp(-2*((K/100)-1))\n",
    "bsm_new_2 = BSMOptionValuation(S0, K, T, r, sigma, div_yield)\n",
    "print(f\"The put value is {bsm_new_2.put_value()}\")\n",
    "# Long 1 Put and short shares so portfolio value is\n",
    "print(f\"The portfolio value is {-1* bsm_new_2.put_value() + bsm_new_2.delta()[1] *S0}\")"
   ],
   "metadata": {
    "collapsed": false
   }
  },
  {
   "cell_type": "code",
   "execution_count": 314,
   "outputs": [
    {
     "data": {
      "text/plain": "-0.271857375187516"
     },
     "execution_count": 314,
     "metadata": {},
     "output_type": "execute_result"
    }
   ],
   "source": [
    "bsm_new_2.delta()[1]"
   ],
   "metadata": {
    "collapsed": false
   }
  },
  {
   "cell_type": "code",
   "execution_count": 315,
   "outputs": [
    {
     "name": "stdout",
     "output_type": "stream",
     "text": [
      "10.199741636659198 -0.3228577199482915\n",
      "The portfolio value is -36.02619227947322\n"
     ]
    }
   ],
   "source": [
    "sigma = sigma * 1.1\n",
    "S0 = 95\n",
    "bsm_new_3 = BSMOptionValuation(S0, K, T, r, sigma, div_yield)\n",
    "print(bsm_new_3.put_value(), bsm_new_3.delta()[1])\n",
    "print(f\"The portfolio value is {-1* bsm_new_3.put_value() + bsm_new_2.delta()[1] * S0}\")"
   ],
   "metadata": {
    "collapsed": false
   }
  },
  {
   "cell_type": "code",
   "execution_count": 316,
   "outputs": [
    {
     "data": {
      "text/plain": "-1.3657688364887335"
     },
     "execution_count": 316,
     "metadata": {},
     "output_type": "execute_result"
    }
   ],
   "source": [
    "-36.02619227947322 - (-34.66042344298449)"
   ],
   "metadata": {
    "collapsed": false
   }
  },
  {
   "cell_type": "code",
   "execution_count": 317,
   "outputs": [
    {
     "name": "stdout",
     "output_type": "stream",
     "text": [
      "8.952211569908599 10.199741636659198 0.877690032631139\n"
     ]
    }
   ],
   "source": [
    "x = bsm_new_3.put_value()\n",
    "sigma = 0.3 * exp(-2*((K/100)-1))\n",
    "bsm_new_4 = BSMOptionValuation(S0, K, T, r, sigma, div_yield)\n",
    "y = bsm_new_4.put_value()\n",
    "print(y, x, y/x)"
   ],
   "metadata": {
    "collapsed": false
   }
  },
  {
   "cell_type": "code",
   "execution_count": 318,
   "outputs": [
    {
     "data": {
      "text/plain": "0.012418000000204177"
     },
     "execution_count": 318,
     "metadata": {},
     "output_type": "execute_result"
    }
   ],
   "source": [
    "c_100 = 14.23125479\n",
    "c_100_1 = 14.16035708\n",
    "c_99_1 = 14.30227668\n",
    "dif = 100.1-100\n",
    "butterfly = (c_100_1 -2 *c_100 + c_99_1)/(dif**2)\n",
    "butterfly"
   ],
   "metadata": {
    "collapsed": false
   }
  },
  {
   "cell_type": "code",
   "execution_count": null,
   "outputs": [],
   "source": [],
   "metadata": {
    "collapsed": false
   }
  }
 ],
 "metadata": {
  "kernelspec": {
   "display_name": "Python 3",
   "language": "python",
   "name": "python3"
  },
  "language_info": {
   "codemirror_mode": {
    "name": "ipython",
    "version": 2
   },
   "file_extension": ".py",
   "mimetype": "text/x-python",
   "name": "python",
   "nbconvert_exporter": "python",
   "pygments_lexer": "ipython2",
   "version": "2.7.6"
  }
 },
 "nbformat": 4,
 "nbformat_minor": 0
}
