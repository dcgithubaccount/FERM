{
 "cells": [
  {
   "cell_type": "code",
   "execution_count": 22,
   "metadata": {
    "collapsed": true
   },
   "outputs": [
    {
     "name": "stderr",
     "output_type": "stream",
     "text": [
      "/Users/deepakchoudhary/anaconda3/envs/MortgageModelling/lib/python3.10/site-packages/openpyxl/worksheet/_read_only.py:79: UserWarning: Unknown extension is not supported and will be removed\n",
      "  for idx, row in parser.parse():\n"
     ]
    },
    {
     "data": {
      "text/plain": "1       0.2\n2       0.2\n3      0.06\n4       0.3\n5       0.4\n6      0.65\n7       0.3\n8      0.23\n9      0.02\n10     0.12\n11    0.134\n12     0.21\n13     0.08\n14      0.1\n15      0.1\n16     0.02\n17      0.3\n18    0.015\n19      0.2\n20     0.03\nName: DefaultProb, dtype: object"
     },
     "execution_count": 22,
     "metadata": {},
     "output_type": "execute_result"
    }
   ],
   "source": [
    "import pandas as pd\n",
    "import os\n",
    "import numpy as np\n",
    "script_dr = os.getcwd()\n",
    "df = pd.read_excel(os.path.abspath(os.path.join(script_dr, '..', 'Data', 'StructuredCredit_PSet4.xlsx')), sheet_name='LossDistributionCalculations')\n",
    "df.columns = ['ToBeRemoved', 'Credit#', 'DefaultProb']\n",
    "df = df[['Credit#', 'DefaultProb']].iloc[1:]\n",
    "df=df['DefaultProb']\n",
    "df"
   ]
  },
  {
   "cell_type": "code",
   "execution_count": 23,
   "outputs": [],
   "source": [
    "def default_distribution(df):\n",
    "    N = len(df)\n",
    "    print(N)\n",
    "    p= np.zeros((N+1))\n",
    "    p[0]=1-df[1]\n",
    "\n",
    "    p[1]=df[1]\n",
    "    print(f\"The p[0] is {p[0]} and p[1] is {p[1]}\")\n",
    "    for i in range(2,N+1):\n",
    "        for j in range(i,0,-1):\n",
    "            print(f\"The {i} and {j}\")\n",
    "            p[j]=p[j-1]*df[i]+p[j]*(1-df[i])\n",
    "            print(f\"The probability p[{j}] is  {p[j]} and df[{i}] is {df[i]} , p[{j}] is {p[j]}\")\n",
    "        p[0]=p[0]*(1-df[i])\n",
    "        print(f\"The p[0] is {p[0]}\")\n",
    "    return p"
   ],
   "metadata": {
    "collapsed": false
   }
  },
  {
   "cell_type": "code",
   "execution_count": 26,
   "outputs": [
    {
     "name": "stdout",
     "output_type": "stream",
     "text": [
      "20\n",
      "The p[0] is 0.8 and p[1] is 0.2\n",
      "The 2 and 2\n",
      "The probability p[2] is  0.04000000000000001 and df[2] is 0.2 , p[2] is 0.04000000000000001\n",
      "The 2 and 1\n",
      "The probability p[1] is  0.32000000000000006 and df[2] is 0.2 , p[1] is 0.32000000000000006\n",
      "The p[0] is 0.6400000000000001\n",
      "The 3 and 3\n",
      "The probability p[3] is  0.0024000000000000002 and df[3] is 0.06 , p[3] is 0.0024000000000000002\n",
      "The 3 and 2\n",
      "The probability p[2] is  0.05680000000000001 and df[3] is 0.06 , p[2] is 0.05680000000000001\n",
      "The 3 and 1\n",
      "The probability p[1] is  0.33920000000000006 and df[3] is 0.06 , p[1] is 0.33920000000000006\n",
      "The p[0] is 0.6016000000000001\n",
      "The 4 and 4\n",
      "The probability p[4] is  0.00072 and df[4] is 0.3 , p[4] is 0.00072\n",
      "The 4 and 3\n",
      "The probability p[3] is  0.018720000000000004 and df[4] is 0.3 , p[3] is 0.018720000000000004\n",
      "The 4 and 2\n",
      "The probability p[2] is  0.14152000000000003 and df[4] is 0.3 , p[2] is 0.14152000000000003\n",
      "The 4 and 1\n",
      "The probability p[1] is  0.41792000000000007 and df[4] is 0.3 , p[1] is 0.41792000000000007\n",
      "The p[0] is 0.42112000000000005\n",
      "The 5 and 5\n",
      "The probability p[5] is  0.000288 and df[5] is 0.4 , p[5] is 0.000288\n",
      "The 5 and 4\n",
      "The probability p[4] is  0.007920000000000002 and df[5] is 0.4 , p[4] is 0.007920000000000002\n",
      "The 5 and 3\n",
      "The probability p[3] is  0.06784000000000003 and df[5] is 0.4 , p[3] is 0.06784000000000003\n",
      "The 5 and 2\n",
      "The probability p[2] is  0.2520800000000001 and df[5] is 0.4 , p[2] is 0.2520800000000001\n",
      "The 5 and 1\n",
      "The probability p[1] is  0.4192000000000001 and df[5] is 0.4 , p[1] is 0.4192000000000001\n",
      "The p[0] is 0.252672\n",
      "The 6 and 6\n",
      "The probability p[6] is  0.00018720000000000002 and df[6] is 0.65 , p[6] is 0.00018720000000000002\n",
      "The 6 and 5\n",
      "The probability p[5] is  0.005248800000000001 and df[6] is 0.65 , p[5] is 0.005248800000000001\n",
      "The 6 and 4\n",
      "The probability p[4] is  0.04686800000000002 and df[6] is 0.65 , p[4] is 0.04686800000000002\n",
      "The 6 and 3\n",
      "The probability p[3] is  0.18759600000000007 and df[6] is 0.65 , p[3] is 0.18759600000000007\n",
      "The 6 and 2\n",
      "The probability p[2] is  0.3607080000000001 and df[6] is 0.65 , p[2] is 0.3607080000000001\n",
      "The 6 and 1\n",
      "The probability p[1] is  0.31095680000000003 and df[6] is 0.65 , p[1] is 0.31095680000000003\n",
      "The p[0] is 0.08843519999999999\n",
      "The 7 and 7\n",
      "The probability p[7] is  5.6160000000000004e-05 and df[7] is 0.3 , p[7] is 5.6160000000000004e-05\n",
      "The 7 and 6\n",
      "The probability p[6] is  0.0017056800000000004 and df[7] is 0.3 , p[6] is 0.0017056800000000004\n",
      "The 7 and 5\n",
      "The probability p[5] is  0.017734560000000007 and df[7] is 0.3 , p[5] is 0.017734560000000007\n",
      "The 7 and 4\n",
      "The probability p[4] is  0.08908640000000004 and df[7] is 0.3 , p[4] is 0.08908640000000004\n",
      "The 7 and 3\n",
      "The probability p[3] is  0.23952960000000006 and df[7] is 0.3 , p[3] is 0.23952960000000006\n",
      "The 7 and 2\n",
      "The probability p[2] is  0.34578264000000003 and df[7] is 0.3 , p[2] is 0.34578264000000003\n",
      "The 7 and 1\n",
      "The probability p[1] is  0.24420032000000003 and df[7] is 0.3 , p[1] is 0.24420032000000003\n",
      "The p[0] is 0.06190463999999999\n",
      "The 8 and 8\n",
      "The probability p[8] is  1.2916800000000001e-05 and df[8] is 0.23 , p[8] is 1.2916800000000001e-05\n",
      "The 8 and 7\n",
      "The probability p[7] is  0.0004355496000000001 and df[8] is 0.23 , p[7] is 0.0004355496000000001\n",
      "The 8 and 6\n",
      "The probability p[6] is  0.005392322400000002 and df[8] is 0.23 , p[6] is 0.005392322400000002\n",
      "The 8 and 5\n",
      "The probability p[5] is  0.034145483200000014 and df[8] is 0.23 , p[5] is 0.034145483200000014\n",
      "The 8 and 4\n",
      "The probability p[4] is  0.12368833600000005 and df[8] is 0.23 , p[4] is 0.12368833600000005\n",
      "The 8 and 3\n",
      "The probability p[3] is  0.2639677992000001 and df[8] is 0.23 , p[3] is 0.2639677992000001\n",
      "The 8 and 2\n",
      "The probability p[2] is  0.3224187064000001 and df[8] is 0.23 , p[2] is 0.3224187064000001\n",
      "The 8 and 1\n",
      "The probability p[1] is  0.20227231360000003 and df[8] is 0.23 , p[1] is 0.20227231360000003\n",
      "The p[0] is 0.047666572799999994\n",
      "The 9 and 9\n",
      "The probability p[9] is  2.58336e-07 and df[9] is 0.02 , p[9] is 2.58336e-07\n",
      "The 9 and 8\n",
      "The probability p[8] is  2.1369456000000006e-05 and df[9] is 0.02 , p[8] is 2.1369456000000006e-05\n",
      "The 9 and 7\n",
      "The probability p[7] is  0.0005346850560000001 and df[9] is 0.02 , p[7] is 0.0005346850560000001\n",
      "The 9 and 6\n",
      "The probability p[6] is  0.005967385616000002 and df[9] is 0.02 , p[6] is 0.005967385616000002\n",
      "The 9 and 5\n",
      "The probability p[5] is  0.03593634025600001 and df[9] is 0.02 , p[5] is 0.03593634025600001\n",
      "The 9 and 4\n",
      "The probability p[4] is  0.12649392526400005 and df[9] is 0.02 , p[4] is 0.12649392526400005\n",
      "The 9 and 3\n",
      "The probability p[3] is  0.265136817344 and df[9] is 0.02 , p[3] is 0.265136817344\n",
      "The 9 and 2\n",
      "The probability p[2] is  0.32001577854400004 and df[9] is 0.02 , p[2] is 0.32001577854400004\n",
      "The 9 and 1\n",
      "The probability p[1] is  0.199180198784 and df[9] is 0.02 , p[1] is 0.199180198784\n",
      "The p[0] is 0.04671324134399999\n",
      "The 10 and 10\n",
      "The probability p[10] is  3.100032e-08 and df[10] is 0.12 , p[10] is 3.100032e-08\n",
      "The 10 and 9\n",
      "The probability p[9] is  2.791670400000001e-06 and df[10] is 0.12 , p[9] is 2.791670400000001e-06\n",
      "The 10 and 8\n",
      "The probability p[8] is  8.296732800000002e-05 and df[10] is 0.12 , p[8] is 8.296732800000002e-05\n",
      "The 10 and 7\n",
      "The probability p[7] is  0.0011866091232000005 and df[10] is 0.12 , p[7] is 0.0011866091232000005\n",
      "The 10 and 6\n",
      "The probability p[6] is  0.009563660172800003 and df[10] is 0.12 , p[6] is 0.009563660172800003\n",
      "The 10 and 5\n",
      "The probability p[5] is  0.046803250456960016 and df[10] is 0.12 , p[5] is 0.046803250456960016\n",
      "The 10 and 4\n",
      "The probability p[4] is  0.14313107231360006 and df[10] is 0.12 , p[4] is 0.14313107231360006\n",
      "The 10 and 3\n",
      "The probability p[3] is  0.271722292688 and df[10] is 0.12 , p[3] is 0.271722292688\n",
      "The 10 and 2\n",
      "The probability p[2] is  0.30551550897280005 and df[10] is 0.12 , p[2] is 0.30551550897280005\n",
      "The 10 and 1\n",
      "The probability p[1] is  0.1808841638912 and df[10] is 0.12 , p[1] is 0.1808841638912\n",
      "The p[0] is 0.04110765238271999\n",
      "The 11 and 11\n",
      "The probability p[11] is  4.15404288e-09 and df[11] is 0.134 , p[11] is 4.15404288e-09\n",
      "The 11 and 10\n",
      "The probability p[10] is  4.0093011072000014e-07 and df[11] is 0.134 , p[10] is 4.0093011072000014e-07\n",
      "The 11 and 9\n",
      "The probability p[9] is  1.3535208518400004e-05 and df[11] is 0.134 , p[9] is 1.3535208518400004e-05\n",
      "The 11 and 8\n",
      "The probability p[8] is  0.00023085532855680012 and df[11] is 0.134 , p[8] is 0.00023085532855680012\n",
      "The 11 and 7\n",
      "The probability p[7] is  0.002309133963846401 and df[11] is 0.134 , p[7] is 0.002309133963846401\n",
      "The 11 and 6\n",
      "The probability p[6] is  0.014553765270877445 and df[11] is 0.134 , p[6] is 0.014553765270877445\n",
      "The 11 and 5\n",
      "The probability p[5] is  0.059711178585749786 and df[11] is 0.134 , p[5] is 0.059711178585749786\n",
      "The 11 and 4\n",
      "The probability p[4] is  0.16036229584376965 and df[11] is 0.134 , p[4] is 0.16036229584376965\n",
      "The 11 and 3\n",
      "The probability p[3] is  0.27625058367016325 and df[11] is 0.134 , p[3] is 0.27625058367016325\n",
      "The 11 and 2\n",
      "The probability p[2] is  0.28881490873186566 and df[11] is 0.134 , p[2] is 0.28881490873186566\n",
      "The 11 and 1\n",
      "The probability p[1] is  0.16215411134906366 and df[11] is 0.134 , p[1] is 0.16215411134906366\n",
      "The p[0] is 0.03559922696343551\n",
      "The 12 and 12\n",
      "The probability p[12] is  8.723490048e-10 and df[12] is 0.21 , p[12] is 8.723490048e-10\n",
      "The 12 and 11\n",
      "The probability p[11] is  8.747701712640002e-08 and df[12] is 0.21 , p[11] is 8.747701712640002e-08\n",
      "The 12 and 10\n",
      "The probability p[10] is  3.159128576332801e-06 and df[12] is 0.21 , p[10] is 3.159128576332801e-06\n",
      "The 12 and 9\n",
      "The probability p[9] is  5.917243372646403e-05 and df[12] is 0.21 , p[9] is 5.917243372646403e-05\n",
      "The 12 and 8\n",
      "The probability p[8] is  0.0006672938419676163 and df[12] is 0.21 , p[8] is 0.0006672938419676163\n",
      "The 12 and 7\n",
      "The probability p[7] is  0.004880506538322921 and df[12] is 0.21 , p[7] is 0.004880506538322921\n",
      "The 12 and 6\n",
      "The probability p[6] is  0.024036822067000637 and df[12] is 0.21 , p[6] is 0.024036822067000637\n",
      "The 12 and 5\n",
      "The probability p[5] is  0.08084791320993395 and df[12] is 0.21 , p[5] is 0.08084791320993395\n",
      "The 12 and 4\n",
      "The probability p[4] is  0.18469883628731232 and df[12] is 0.21 , p[4] is 0.18469883628731232\n",
      "The 12 and 3\n",
      "The probability p[3] is  0.2788890919331208 and df[12] is 0.21 , p[3] is 0.2788890919331208\n",
      "The 12 and 2\n",
      "The probability p[2] is  0.26221614128147724 and df[12] is 0.21 , p[2] is 0.26221614128147724\n",
      "The 12 and 1\n",
      "The probability p[1] is  0.13557758562808175 and df[12] is 0.21 , p[1] is 0.13557758562808175\n",
      "The p[0] is 0.028123389301114052\n",
      "The 13 and 13\n",
      "The probability p[13] is  6.9787920384e-11 and df[13] is 0.08 , p[13] is 6.9787920384e-11\n",
      "The 13 and 12\n",
      "The probability p[12] is  7.800722454528001e-09 and df[13] is 0.08 , p[12] is 7.800722454528001e-09\n",
      "The 13 and 11\n",
      "The probability p[11] is  3.332091418629121e-07 and df[13] is 0.08 , p[11] is 3.332091418629121e-07\n",
      "The 13 and 10\n",
      "The probability p[10] is  7.6401929883433e-06 and df[13] is 0.08 , p[10] is 7.6401929883433e-06\n",
      "The 13 and 9\n",
      "The probability p[9] is  0.00010782214638575622 and df[13] is 0.08 , p[9] is 0.00010782214638575622\n",
      "The 13 and 8\n",
      "The probability p[8] is  0.0010043508576760406 and df[13] is 0.08 , p[8] is 0.0010043508576760406\n",
      "The 13 and 7\n",
      "The probability p[7] is  0.006413011780617138 and df[13] is 0.08 , p[7] is 0.006413011780617138\n",
      "The 13 and 6\n",
      "The probability p[6] is  0.028581709358435306 and df[13] is 0.08 , p[6] is 0.028581709358435306\n",
      "The 13 and 5\n",
      "The probability p[5] is  0.08915598705612422 and df[13] is 0.08 , p[5] is 0.08915598705612422\n",
      "The 13 and 4\n",
      "The probability p[4] is  0.192234056738977 and df[13] is 0.08 , p[4] is 0.192234056738977\n",
      "The 13 and 3\n",
      "The probability p[3] is  0.27755525588098934 and df[13] is 0.08 , p[3] is 0.27755525588098934\n",
      "The 13 and 2\n",
      "The probability p[2] is  0.2520850568292056 and df[13] is 0.08 , p[2] is 0.2520850568292056\n",
      "The 13 and 1\n",
      "The probability p[1] is  0.12698124992192433 and df[13] is 0.08 , p[1] is 0.12698124992192433\n",
      "The p[0] is 0.02587351815702493\n",
      "The 14 and 14\n",
      "The probability p[14] is  6.978792038400001e-12 and df[14] is 0.1 , p[14] is 6.978792038400001e-12\n",
      "The 14 and 13\n",
      "The probability p[13] is  8.428813737984001e-10 and df[14] is 0.1 , p[13] is 8.428813737984001e-10\n",
      "The 14 and 12\n",
      "The probability p[12] is  4.034156439536642e-08 and df[14] is 0.1 , p[12] is 4.034156439536642e-08\n",
      "The 14 and 11\n",
      "The probability p[11] is  1.063907526510951e-06 and df[14] is 0.1 , p[11] is 1.063907526510951e-06\n",
      "The 14 and 10\n",
      "The probability p[10] is  1.7658388328084593e-05 and df[14] is 0.1 , p[10] is 1.7658388328084593e-05\n",
      "The 14 and 9\n",
      "The probability p[9] is  0.00019747501751478467 and df[14] is 0.1 , p[9] is 0.00019747501751478467\n",
      "The 14 and 8\n",
      "The probability p[8] is  0.0015452169499701506 and df[14] is 0.1 , p[8] is 0.0015452169499701506\n",
      "The 14 and 7\n",
      "The probability p[7] is  0.008629881538398956 and df[14] is 0.1 , p[7] is 0.008629881538398956\n",
      "The 14 and 6\n",
      "The probability p[6] is  0.0346391371282042 and df[14] is 0.1 , p[6] is 0.0346391371282042\n",
      "The 14 and 5\n",
      "The probability p[5] is  0.0994637940244095 and df[14] is 0.1 , p[5] is 0.0994637940244095\n",
      "The 14 and 4\n",
      "The probability p[4] is  0.20076617665317825 and df[14] is 0.1 , p[4] is 0.20076617665317825\n",
      "The 14 and 3\n",
      "The probability p[3] is  0.275008235975811 and df[14] is 0.1 , p[3] is 0.275008235975811\n",
      "The 14 and 2\n",
      "The probability p[2] is  0.23957467613847752 and df[14] is 0.1 , p[2] is 0.23957467613847752\n",
      "The 14 and 1\n",
      "The probability p[1] is  0.1168704767454344 and df[14] is 0.1 , p[1] is 0.1168704767454344\n",
      "The p[0] is 0.023286166341322436\n",
      "The 15 and 15\n",
      "The probability p[15] is  6.978792038400001e-13 and df[15] is 0.1 , p[15] is 6.978792038400001e-13\n",
      "The 15 and 14\n",
      "The probability p[14] is  9.056905021440003e-11 and df[15] is 0.1 , p[14] is 9.056905021440003e-11\n",
      "The 15 and 13\n",
      "The probability p[13] is  4.792749675955202e-09 and df[15] is 0.1 , p[13] is 4.792749675955202e-09\n",
      "The 15 and 12\n",
      "The probability p[12] is  1.4269816060692486e-07 and df[15] is 0.1 , p[12] is 1.4269816060692486e-07\n",
      "The 15 and 11\n",
      "The probability p[11] is  2.723355606668315e-06 and df[15] is 0.1 , p[11] is 2.723355606668315e-06\n",
      "The 15 and 10\n",
      "The probability p[10] is  3.5640051246754606e-05 and df[15] is 0.1 , p[10] is 3.5640051246754606e-05\n",
      "The 15 and 9\n",
      "The probability p[9] is  0.00033224921076032126 and df[15] is 0.1 , p[9] is 0.00033224921076032126\n",
      "The 15 and 8\n",
      "The probability p[8] is  0.0022536834088130314 and df[15] is 0.1 , p[8] is 0.0022536834088130314\n",
      "The 15 and 7\n",
      "The probability p[7] is  0.011230807097379482 and df[15] is 0.1 , p[7] is 0.011230807097379482\n",
      "The 15 and 6\n",
      "The probability p[6] is  0.04112160281782473 and df[15] is 0.1 , p[6] is 0.04112160281782473\n",
      "The 15 and 5\n",
      "The probability p[5] is  0.10959403228728637 and df[15] is 0.1 , p[5] is 0.10959403228728637\n",
      "The 15 and 4\n",
      "The probability p[4] is  0.20819038258544154 and df[15] is 0.1 , p[4] is 0.20819038258544154\n",
      "The 15 and 3\n",
      "The probability p[3] is  0.27146487999207763 and df[15] is 0.1 , p[3] is 0.27146487999207763\n",
      "The 15 and 2\n",
      "The probability p[2] is  0.22730425619917322 and df[15] is 0.1 , p[2] is 0.22730425619917322\n",
      "The 15 and 1\n",
      "The probability p[1] is  0.1075120457050232 and df[15] is 0.1 , p[1] is 0.1075120457050232\n",
      "The p[0] is 0.020957549707190194\n",
      "The 16 and 16\n",
      "The probability p[16] is  1.3957584076800002e-14 and df[16] is 0.02 , p[16] is 1.3957584076800002e-14\n",
      "The 16 and 15\n",
      "The probability p[15] is  2.4953026240512008e-12 and df[16] is 0.02 , p[15] is 2.4953026240512008e-12\n",
      "The 16 and 14\n",
      "The probability p[14] is  1.8461266272921606e-10 and df[16] is 0.02 , p[14] is 1.8461266272921606e-10\n",
      "The 16 and 13\n",
      "The probability p[13] is  7.550857894574595e-09 and df[16] is 0.02 , p[13] is 7.550857894574595e-09\n",
      "The 16 and 12\n",
      "The probability p[12] is  1.9431130952815266e-07 and df[16] is 0.02 , p[12] is 1.9431130952815266e-07\n",
      "The 16 and 11\n",
      "The probability p[11] is  3.381689519470041e-06 and df[16] is 0.02 , p[11] is 3.381689519470041e-06\n",
      "The 16 and 10\n",
      "The probability p[10] is  4.157223443702594e-05 and df[16] is 0.02 , p[10] is 4.157223443702594e-05\n",
      "The 16 and 9\n",
      "The probability p[9] is  0.00037067789472137547 and df[16] is 0.02 , p[9] is 0.00037067789472137547\n",
      "The 16 and 8\n",
      "The probability p[8] is  0.0024332258825843604 and df[16] is 0.02 , p[8] is 0.0024332258825843604\n",
      "The 16 and 7\n",
      "The probability p[7] is  0.011828623011788386 and df[16] is 0.02 , p[7] is 0.011828623011788386\n",
      "The 16 and 6\n",
      "The probability p[6] is  0.042491051407213966 and df[16] is 0.02 , p[6] is 0.042491051407213966\n",
      "The 16 and 5\n",
      "The probability p[5] is  0.11156595929324947 and df[16] is 0.02 , p[5] is 0.11156595929324947\n",
      "The 16 and 4\n",
      "The probability p[4] is  0.20945587253357426 and df[16] is 0.02 , p[4] is 0.20945587253357426\n",
      "The 16 and 3\n",
      "The probability p[3] is  0.27058166751621954 and df[16] is 0.02 , p[3] is 0.27058166751621954\n",
      "The 16 and 2\n",
      "The probability p[2] is  0.2249084119892902 and df[16] is 0.02 , p[2] is 0.2249084119892902\n",
      "The 16 and 1\n",
      "The probability p[1] is  0.10578095578506654 and df[16] is 0.02 , p[1] is 0.10578095578506654\n",
      "The p[0] is 0.02053839871304639\n",
      "The 17 and 17\n",
      "The probability p[17] is  4.187275223040001e-15 and df[17] is 0.3 , p[17] is 4.187275223040001e-15\n",
      "The 17 and 16\n",
      "The probability p[16] is  7.583610960691202e-13 and df[17] is 0.3 , p[16] is 7.583610960691202e-13\n",
      "The 17 and 15\n",
      "The probability p[15] is  5.7130510655600656e-11 and df[17] is 0.3 , p[15] is 5.7130510655600656e-11\n",
      "The 17 and 14\n",
      "The probability p[14] is  2.3944862322828295e-09 and df[17] is 0.3 , p[14] is 2.3944862322828295e-09\n",
      "The 17 and 13\n",
      "The probability p[13] is  6.357899338464802e-08 and df[17] is 0.3 , p[13] is 6.357899338464802e-08\n",
      "The 17 and 12\n",
      "The probability p[12] is  1.150524772510719e-06 and df[17] is 0.3 , p[12] is 1.150524772510719e-06\n",
      "The 17 and 11\n",
      "The probability p[11] is  1.4838852994736811e-05 and df[17] is 0.3 , p[11] is 1.4838852994736811e-05\n",
      "The 17 and 10\n",
      "The probability p[10] is  0.0001403039325223308 and df[17] is 0.3 , p[10] is 0.0001403039325223308\n",
      "The 17 and 9\n",
      "The probability p[9] is  0.0009894422910802709 and df[17] is 0.3 , p[9] is 0.0009894422910802709\n",
      "The 17 and 8\n",
      "The probability p[8] is  0.005251845021345568 and df[17] is 0.3 , p[8] is 0.005251845021345568\n",
      "The 17 and 7\n",
      "The probability p[7] is  0.021027351530416058 and df[17] is 0.3 , p[7] is 0.021027351530416058\n",
      "The 17 and 6\n",
      "The probability p[6] is  0.06321352377302461 and df[17] is 0.3 , p[6] is 0.06321352377302461\n",
      "The 17 and 5\n",
      "The probability p[5] is  0.1409329332653469 and df[17] is 0.3 , p[5] is 0.1409329332653469\n",
      "The 17 and 4\n",
      "The probability p[4] is  0.22779361102836784 and df[17] is 0.3 , p[4] is 0.22779361102836784\n",
      "The 17 and 3\n",
      "The probability p[3] is  0.2568796908581407 and df[17] is 0.3 , p[3] is 0.2568796908581407\n",
      "The 17 and 2\n",
      "The probability p[2] is  0.1891701751280231 and df[17] is 0.3 , p[2] is 0.1891701751280231\n",
      "The 17 and 1\n",
      "The probability p[1] is  0.08020818866346048 and df[17] is 0.3 , p[1] is 0.08020818866346048\n",
      "The p[0] is 0.014376879099132472\n",
      "The 18 and 18\n",
      "The probability p[18] is  6.280912834560001e-17 and df[18] is 0.015 , p[18] is 6.280912834560001e-17\n",
      "The 18 and 17\n",
      "The probability p[17] is  1.5499882535731205e-14 and df[18] is 0.015 , p[17] is 1.5499882535731205e-14\n",
      "The 18 and 16\n",
      "The probability p[16] is  1.6039433394620933e-12 and df[18] is 0.015 , p[16] is 1.6039433394620933e-12\n",
      "The 18 and 15\n",
      "The probability p[15] is  9.219084648000909e-11 and df[18] is 0.015 , p[15] is 9.219084648000909e-11\n",
      "The 18 and 14\n",
      "The probability p[14] is  3.312253839568307e-09 and df[18] is 0.015 , p[14] is 3.312253839568307e-09\n",
      "The 18 and 13\n",
      "The probability p[13] is  7.988318007153907e-08 and df[18] is 0.015 , p[13] is 7.988318007153907e-08\n",
      "The 18 and 12\n",
      "The probability p[12] is  1.3558496958441104e-06 and df[18] is 0.015 , p[12] is 1.3558496958441104e-06\n",
      "The 18 and 11\n",
      "The probability p[11] is  1.672082918765072e-05 and df[18] is 0.015 , p[11] is 1.672082918765072e-05\n",
      "The 18 and 10\n",
      "The probability p[10] is  0.0001530410079006999 and df[18] is 0.015 , p[10] is 0.0001530410079006999\n",
      "The 18 and 9\n",
      "The probability p[9] is  0.0010533783320342504 and df[18] is 0.015 , p[9] is 0.0010533783320342504\n",
      "The 18 and 8\n",
      "The probability p[8] is  0.005488477618981625 and df[18] is 0.015 , p[8] is 0.005488477618981625\n",
      "The 18 and 7\n",
      "The probability p[7] is  0.021660144114055188 and df[18] is 0.015 , p[7] is 0.021660144114055188\n",
      "The 18 and 6\n",
      "The probability p[6] is  0.06437931491540944 and df[18] is 0.015 , p[6] is 0.06437931491540944\n",
      "The 18 and 5\n",
      "The probability p[5] is  0.14223584343179219 and df[18] is 0.015 , p[5] is 0.14223584343179219\n",
      "The 18 and 4\n",
      "The probability p[4] is  0.2282299022258144 and df[18] is 0.015 , p[4] is 0.2282299022258144\n",
      "The 18 and 3\n",
      "The probability p[3] is  0.255864048122189 and df[18] is 0.015 , p[3] is 0.255864048122189\n",
      "The 18 and 2\n",
      "The probability p[2] is  0.18753574533105466 and df[18] is 0.015 , p[2] is 0.18753574533105466\n",
      "The 18 and 1\n",
      "The probability p[1] is  0.07922071901999556 and df[18] is 0.015 , p[1] is 0.07922071901999556\n",
      "The p[0] is 0.014161225912645485\n",
      "The 19 and 19\n",
      "The probability p[19] is  1.2561825669120003e-17 and df[19] is 0.2 , p[19] is 1.2561825669120003e-17\n",
      "The 19 and 18\n",
      "The probability p[18] is  3.150223809822721e-15 and df[19] is 0.2 , p[18] is 3.150223809822721e-15\n",
      "The 19 and 17\n",
      "The probability p[17] is  3.3318857392100363e-13 and df[19] is 0.2 , p[17] is 3.3318857392100363e-13\n",
      "The 19 and 16\n",
      "The probability p[16] is  1.9721323967571495e-11 and df[19] is 0.2 , p[16] is 1.9721323967571495e-11\n",
      "The 19 and 15\n",
      "The probability p[15] is  7.362034450976687e-10 and df[19] is 0.2 , p[15] is 7.362034450976687e-10\n",
      "The 19 and 14\n",
      "The probability p[14] is  1.862643908596246e-08 and df[19] is 0.2 , p[14] is 1.862643908596246e-08\n",
      "The 19 and 13\n",
      "The probability p[13] is  3.3507648322605335e-07 and df[19] is 0.2 , p[13] is 3.3507648322605335e-07\n",
      "The 19 and 12\n",
      "The probability p[12] is  4.4288455942054325e-06 and df[19] is 0.2 , p[12] is 4.4288455942054325e-06\n",
      "The 19 and 11\n",
      "The probability p[11] is  4.3984864930260556e-05 and df[19] is 0.2 , p[11] is 4.3984864930260556e-05\n",
      "The 19 and 10\n",
      "The probability p[10] is  0.00033310847272741 and df[19] is 0.2 , p[10] is 0.00033310847272741\n",
      "The 19 and 9\n",
      "The probability p[9] is  0.0019403981894237253 and df[19] is 0.2 , p[9] is 0.0019403981894237253\n",
      "The 19 and 8\n",
      "The probability p[8] is  0.008722810917996338 and df[19] is 0.2 , p[8] is 0.008722810917996338\n",
      "The 19 and 7\n",
      "The probability p[7] is  0.03020397827432604 and df[19] is 0.2 , p[7] is 0.03020397827432604\n",
      "The 19 and 6\n",
      "The probability p[6] is  0.07995062061868599 and df[19] is 0.2 , p[6] is 0.07995062061868599\n",
      "The 19 and 5\n",
      "The probability p[5] is  0.15943465519059663 and df[19] is 0.2 , p[5] is 0.15943465519059663\n",
      "The 19 and 4\n",
      "The probability p[4] is  0.23375673140508932 and df[19] is 0.2 , p[4] is 0.23375673140508932\n",
      "The 19 and 3\n",
      "The probability p[3] is  0.24219838756396214 and df[19] is 0.2 , p[3] is 0.24219838756396214\n",
      "The 19 and 2\n",
      "The probability p[2] is  0.16587274006884287 and df[19] is 0.2 , p[2] is 0.16587274006884287\n",
      "The 19 and 1\n",
      "The probability p[1] is  0.06620882039852555 and df[19] is 0.2 , p[1] is 0.06620882039852555\n",
      "The p[0] is 0.011328980730116388\n",
      "The 20 and 20\n",
      "The probability p[20] is  3.768547700736001e-19 and df[20] is 0.03 , p[20] is 3.768547700736001e-19\n",
      "The 20 and 19\n",
      "The probability p[19] is  1.0669168519372802e-16 and df[20] is 0.03 , p[19] is 1.0669168519372802e-16\n",
      "The 20 and 18\n",
      "The probability p[18] is  1.3051374313158147e-14 and df[20] is 0.03 , p[18] is 1.3051374313158147e-14\n",
      "The 20 and 17\n",
      "The probability p[17] is  9.148326357305183e-13 and df[20] is 0.03 , p[17] is 9.148326357305183e-13\n",
      "The 20 and 16\n",
      "The probability p[16] is  4.121578760147441e-11 and df[20] is 0.03 , p[16] is 4.121578760147441e-11\n",
      "The 20 and 15\n",
      "The probability p[15] is  1.2729105143236124e-09 and df[20] is 0.03 , p[15] is 1.2729105143236124e-09\n",
      "The 20 and 14\n",
      "The probability p[14] is  2.8119940410165187e-08 and df[20] is 0.03 , p[14] is 2.8119940410165187e-08\n",
      "The 20 and 13\n",
      "The probability p[13] is  4.5788955655543467e-07 and df[20] is 0.03 , p[13] is 4.5788955655543467e-07\n",
      "The 20 and 12\n",
      "The probability p[12] is  5.615526174287086e-06 and df[20] is 0.03 , p[12] is 5.615526174287086e-06\n",
      "The 20 and 11\n",
      "The probability p[11] is  5.265857316417504e-05 and df[20] is 0.03 , p[11] is 5.265857316417504e-05\n",
      "The 20 and 10\n",
      "The probability p[10] is  0.0003813271642282994 and df[20] is 0.03 , p[10] is 0.0003813271642282994\n",
      "The 20 and 9\n",
      "The probability p[9] is  0.0021438705712809036 and df[20] is 0.03 , p[9] is 0.0021438705712809036\n",
      "The 20 and 8\n",
      "The probability p[8] is  0.009367245938686227 and df[20] is 0.03 , p[8] is 0.009367245938686227\n",
      "The 20 and 7\n",
      "The probability p[7] is  0.03169637754465684 and df[20] is 0.03 , p[7] is 0.03169637754465684\n",
      "The 20 and 6\n",
      "The probability p[6] is  0.08233514165584331 and df[20] is 0.03 , p[6] is 0.08233514165584331\n",
      "The 20 and 5\n",
      "The probability p[5] is  0.1616643174770314 and df[20] is 0.03 , p[5] is 0.1616643174770314\n",
      "The 20 and 4\n",
      "The probability p[4] is  0.2340099810898555 and df[20] is 0.03 , p[4] is 0.2340099810898555\n",
      "The 20 and 3\n",
      "The probability p[3] is  0.23990861813910855 and df[20] is 0.03 , p[3] is 0.23990861813910855\n",
      "The 20 and 2\n",
      "The probability p[2] is  0.16288282247873337 and df[20] is 0.03 , p[2] is 0.16288282247873337\n",
      "The 20 and 1\n",
      "The probability p[1] is  0.06456242520847327 and df[20] is 0.03 , p[1] is 0.06456242520847327\n",
      "The p[0] is 0.010989111308212896\n"
     ]
    },
    {
     "data": {
      "text/plain": "array([1.09891113e-02, 6.45624252e-02, 1.62882822e-01, 2.39908618e-01,\n       2.34009981e-01, 1.61664317e-01, 8.23351417e-02, 3.16963775e-02,\n       9.36724594e-03, 2.14387057e-03, 3.81327164e-04, 5.26585732e-05,\n       5.61552617e-06, 4.57889557e-07, 2.81199404e-08, 1.27291051e-09,\n       4.12157876e-11, 9.14832636e-13, 1.30513743e-14, 1.06691685e-16,\n       3.76854770e-19])"
     },
     "execution_count": 26,
     "metadata": {},
     "output_type": "execute_result"
    }
   ],
   "source": [
    "dd = default_distribution(df=df)\n",
    "dd"
   ],
   "metadata": {
    "collapsed": false
   }
  },
  {
   "cell_type": "markdown",
   "source": [
    "### Question 1\n",
    "What is $p^N(3)$?\n",
    "\n",
    "You should round your answer to three decimal places. For example, if you calculate the probability to be .4567 then you should submit an answer of .457."
   ],
   "metadata": {
    "collapsed": false
   }
  },
  {
   "cell_type": "code",
   "execution_count": 27,
   "outputs": [
    {
     "data": {
      "text/plain": "0.23990861813910855"
     },
     "execution_count": 27,
     "metadata": {},
     "output_type": "execute_result"
    }
   ],
   "source": [
    "dd[3]"
   ],
   "metadata": {
    "collapsed": false
   }
  },
  {
   "cell_type": "markdown",
   "source": [
    "### Question 2\n",
    "What is the expected number of losses in the portfolio? (There is a simple way to calculate this that we discussed in one of the video modules. Moreover, you can use this simple way to check that you computed the distribution of the number of losses correctly.)\n",
    "\n",
    "You should round your answer to two decimal places. For example, if you calculate an answer of 2.456 then you should submit an answer of 2.46."
   ],
   "metadata": {
    "collapsed": false
   }
  },
  {
   "cell_type": "code",
   "execution_count": 30,
   "outputs": [
    {
     "data": {
      "text/plain": "3.669"
     },
     "execution_count": 30,
     "metadata": {},
     "output_type": "execute_result"
    }
   ],
   "source": [
    "mu = sum(df)\n",
    "mu"
   ],
   "metadata": {
    "collapsed": false
   }
  },
  {
   "cell_type": "markdown",
   "source": [
    "### Question 3\n",
    "Compute the variance of the number of losses in the portfolio.\n",
    "\n",
    "You should round your answer to two decimal places. For example, if you calculate an answer of 2.456 then you should submit an answer of 2.46."
   ],
   "metadata": {
    "collapsed": false
   }
  },
  {
   "cell_type": "code",
   "execution_count": 33,
   "outputs": [
    {
     "data": {
      "text/plain": "2.535219"
     },
     "execution_count": 33,
     "metadata": {},
     "output_type": "execute_result"
    }
   ],
   "source": [
    "var = sum([ dd[i]* (i - mu)**2 for i in range(len(dd))])\n",
    "var"
   ],
   "metadata": {
    "collapsed": false
   }
  },
  {
   "cell_type": "markdown",
   "source": [
    "### Question 4\n",
    "What is the expected tranche loss in the tranche with lower and upper attachment points of 0 and 2, respectively?\n",
    "\n",
    "You should round your answer to two decimal places. For example, if you calculate an answer of  2.456 then you should submit an answer of 2.46."
   ],
   "metadata": {
    "collapsed": false
   }
  },
  {
   "cell_type": "code",
   "execution_count": 37,
   "outputs": [
    {
     "data": {
      "text/plain": "1.913459352175101"
     },
     "execution_count": 37,
     "metadata": {},
     "output_type": "execute_result"
    }
   ],
   "source": [
    "loss_equity_tranche = 1 * dd[1] + 2*(1 - dd[0] - dd[1])\n",
    "loss_equity_tranche"
   ],
   "metadata": {
    "collapsed": false
   }
  },
  {
   "cell_type": "markdown",
   "source": [
    "### Question 5\n",
    "What is the expected tranche loss in the tranche with lower and upper attachment points of 2 and 4, respectively?\n",
    "\n",
    "You should round your answer to two decimal places. For example, if you calculate an answer of 2.456 then you should submit an answer of 2.46."
   ],
   "metadata": {
    "collapsed": false
   }
  },
  {
   "cell_type": "code",
   "execution_count": 38,
   "outputs": [
    {
     "data": {
      "text/plain": "1.283222663870053"
     },
     "execution_count": 38,
     "metadata": {},
     "output_type": "execute_result"
    }
   ],
   "source": [
    "loss_mezz_tranche =  1* dd[3] + 2 * sum([dd[i] for i in range(4, len(df)+1)])\n",
    "loss_mezz_tranche"
   ],
   "metadata": {
    "collapsed": false
   }
  },
  {
   "cell_type": "code",
   "execution_count": 41,
   "outputs": [
    {
     "data": {
      "text/plain": "0.4723179839548466"
     },
     "execution_count": 41,
     "metadata": {},
     "output_type": "execute_result"
    }
   ],
   "source": [
    "loss_senior_tranche = sum([(i-4)*dd[i] for i in range(5,20)])\n",
    "loss_senior_tranche"
   ],
   "metadata": {
    "collapsed": false
   }
  },
  {
   "cell_type": "code",
   "execution_count": null,
   "outputs": [],
   "source": [],
   "metadata": {
    "collapsed": false
   }
  }
 ],
 "metadata": {
  "kernelspec": {
   "display_name": "Python 3",
   "language": "python",
   "name": "python3"
  },
  "language_info": {
   "codemirror_mode": {
    "name": "ipython",
    "version": 2
   },
   "file_extension": ".py",
   "mimetype": "text/x-python",
   "name": "python",
   "nbconvert_exporter": "python",
   "pygments_lexer": "ipython2",
   "version": "2.7.6"
  }
 },
 "nbformat": 4,
 "nbformat_minor": 0
}
