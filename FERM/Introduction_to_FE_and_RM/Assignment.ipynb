{
 "cells": [
  {
   "cell_type": "markdown",
   "metadata": {},
   "source": [
    "### Question 1\n",
    "\n",
    "(Pricing a forward contract with dividends)\n",
    "\n",
    "The current price of silver is \\\\$206 per ounce. The storage cost is $1 ounce per year, payable quarterly in advance. Assuming a constant annual interest rate of 9\\% compounded quarterly, what is the theoretical forward price of silver for delivery in 9 months?\n",
    "\n",
    "Please submit your answer rounded to the nearest integer - for example, if your answer is 19.8, round it to either 20."
   ]
  },
  {
   "cell_type": "code",
   "execution_count": 2,
   "metadata": {},
   "outputs": [
    {
     "name": "stdout",
     "output_type": "stream",
     "text": [
      "1.0690301406249998\n",
      "[0 1 2]\n",
      "[1.         0.97799511 0.95647444]\n",
      "0.7336173863140465\n",
      "220.953826355064\n",
      "The Forward price of an ounce of Silver in 221.0\n"
     ]
    }
   ],
   "source": [
    "import numpy as np\n",
    "S_0 = 206\n",
    "r = 0.09\n",
    "n = 9/12\n",
    "dividend = 1/4\n",
    "rate = pow(1+(r/4), n*4)\n",
    "print(rate)\n",
    "d_list = np.arange(0, 3, 1)\n",
    "print(d_list)\n",
    "d_rate = 1 / pow(1+(r/4), d_list)\n",
    "print(d_rate)\n",
    "discounted_dividend = (dividend * d_rate).sum()\n",
    "print(discounted_dividend)\n",
    "forward_price = S_0 * rate + discounted_dividend\n",
    "\n",
    "print(forward_price)\n",
    "np.round(forward_price,0)\n",
    "print(f\"The Forward price of an ounce of Silver in {np.round(forward_price,0)}\" )"
   ]
  },
  {
   "cell_type": "markdown",
   "metadata": {},
   "source": [
    "### Question 2\n",
    "\n",
    "(Pricing Call Options)\n",
    "\n",
    "Consider a 1-period binomial model with $R=1.05$, $S_0=50$, $u=1/d=1.08$. What is the value of a European call option on the stock with strike $K=52$, assuming that the stock does not pay dividends?\n",
    "\n",
    "Please submit your answer rounded to two decimal places. So for example, if your answer is \n",
    "5.489 then you should submit an answer of 5.48 or 5.49."
   ]
  },
  {
   "cell_type": "code",
   "execution_count": 3,
   "metadata": {},
   "outputs": [
    {
     "name": "stdout",
     "output_type": "stream",
     "text": [
      "The equation is 54.0 * X + 1.05 * Y = 2.0\n",
      "The equation is 46.29629629629629 * X + 1.05 * Y = 0.0\n",
      "The price of Call Option is 1.53\n"
     ]
    }
   ],
   "source": [
    "K = 52\n",
    "S_0 = 50\n",
    "R = 1.05\n",
    "u = 1.08\n",
    "d = 1/u\n",
    "\n",
    "print(f\"The equation is {S_0*u} * X + {R} * Y = {np.maximum(S_0*u - K, 0)}\")\n",
    "print(f\"The equation is {S_0*d} * X + {R} * Y = {np.maximum(S_0*d - K, 0)}\")\n",
    "a = np.array([[S_0*u, R], [S_0*d, R]])\n",
    "b = np.array([np.maximum(S_0*u - K, 0), np.maximum(S_0*d - K, 0)])\n",
    "x, y = np.linalg.solve(a, b)\n",
    "print(f\"The price of Call Option is {np.round(S_0*x + y, 2)}\")"
   ]
  },
  {
   "cell_type": "code",
   "execution_count": 9,
   "outputs": [
    {
     "name": "stdout",
     "output_type": "stream",
     "text": [
      "The equation is 2 * X + 1.2 * Y = 0\n",
      "The equation is 0.5 * X + 1.2 * Y = 0.5\n",
      "The price of Put Option is 0.22\n",
      "The units of Stocks to replicate is -0.33\n",
      "The units of Cash to replicate is 0.56\n"
     ]
    }
   ],
   "source": [
    "K=1\n",
    "S_0 = 1\n",
    "R = 1.2\n",
    "S_u = 2\n",
    "S_d = 0.5\n",
    "\n",
    "print(f\"The equation is {S_u} * X + {R} * Y = {np.maximum(K - S_u, 0)}\")\n",
    "print(f\"The equation is {S_d} * X + {R} * Y = {np.maximum(K - S_d, 0)}\")\n",
    "a = np.array([[S_u, R], [S_d, R]])\n",
    "b = np.array([np.maximum(K - S_u, 0), np.maximum(K - S_d, 0)])\n",
    "x, y = np.linalg.solve(a, b)\n",
    "print(f\"The price of Put Option is {np.round(S_0*x + y, 2)}\")\n",
    "print(f\"The units of Stocks to replicate is {np.round(x, 2)}\")\n",
    "print(f\"The units of Cash to replicate is {np.round(y, 2)}\")"
   ],
   "metadata": {
    "collapsed": false
   }
  },
  {
   "cell_type": "markdown",
   "metadata": {},
   "source": [
    "### Question 3 \n",
    "\n",
    "(Minimum-variance Hedging)\n",
    "\n",
    "A farmer has a crop of grapefruit juice that will be ready for harvest and sale as 150000 pounds of grapefruit juice in 3 months. He is worried about possible price changes, so he is considering hedging - a financial engineering technique that minimizes future uncertainties in the cash flow. Typically, hedging is carried out using futures contract. However, unfortunately, there is no futures contract for grapefruit juice, but there is a futures contract for orange juice. Still, the farmer might consider using the futures contract for orange juice as a replacement for futures contract for grapefruit juice, in the hope that these two contracts are highly correlated due to the similarity of the underlying products.\n",
    "\n",
    "Currently, the spot prices are \\\\$1.20 per pound for orange juice and $1.50 per pound for grapefruit juice. The standard deviation of the prices of orange juice and grapefruit juice is about 20% per year, and the correlation coefficient between their prices is about 0.7 (highly correlated). What is the minimum variance hedge for farmer, i.e. how many orange juice futures contracts does the farmer need to purchase in total?\n",
    "\n",
    "Hint: let h be the number of orange juice futures contracts that the farmer purchases. Let T be the time when the grapefruit juice will be sold (in 3 months). The cash flow at time T will be two parts: (1) profits from selling the juice (2) cash flow generated by futures contract. Can you write down the explicit form of this cash flow? Notice that this cash flow is a random variable, then we can compute h by minimizing the variance of the cash flow (hence minimum-variance hedging)."
   ]
  },
  {
   "cell_type": "code",
   "execution_count": 5,
   "metadata": {},
   "outputs": [
    {
     "name": "stdout",
     "output_type": "stream",
     "text": [
      "The minimum hedge ratio is -105000.0\n"
     ]
    }
   ],
   "source": [
    "s_o = 1.2\n",
    "s_g = 1.5\n",
    "sigma_o = 0.2\n",
    "sigma_g = 0.2\n",
    "rho = 0.7\n",
    "cov = sigma_g * sigma_o * rho\n",
    "contract = 150000\n",
    "h = -1* (cov / (sigma_o**2))* contract \n",
    "print(f\"The minimum hedge ratio is {np.round(h, 2)}\")"
   ]
  },
  {
   "cell_type": "markdown",
   "metadata": {
    "collapsed": true
   },
   "source": [
    "### Question 4\n",
    "\n",
    "(Paradox of risk-neutral pricing)\n",
    "\n",
    "Consider using a binomial model to price a non-dividend paying security (e.g. a stock) where the true probability of an up-move is $p=0.5$. The initial value of the stock is $S_0 = 100$. Let $P_0$ denote the time $t=0$ price of a European put option on the stock with strike $K$ that expires after some fixed periods. \n",
    "\n",
    "Now suppose that some favorable news about the stock come about. This will cause an immediate change in the price's up-move probability (say to $p = 0.7$. What do you think should happen to $P_0$ according to risk-neutral pricing?"
   ]
  },
  {
   "cell_type": "code",
   "execution_count": 6,
   "metadata": {},
   "outputs": [
    {
     "name": "stdout",
     "output_type": "stream",
     "text": [
      "The P0 price doesn't change in the risk neutral world\n"
     ]
    }
   ],
   "source": [
    "print(f\"The P0 price doesn't change in the risk neutral world\")"
   ]
  },
  {
   "cell_type": "markdown",
   "metadata": {},
   "source": [
    "### Question 5\n",
    "\n",
    "(Replicating strategy for pricing)\n",
    "\n",
    "To price a derivative, we can use risk-neutral pricing. As an alternative yet equivalent method, we can construct price the derivative using replicating strategies.\n",
    "\n",
    "Consider a 1-period binomial model, where we have three nodes $N_{0,0}$, $N_{1,1}$, $N_{1,0}$ . We have a cash account with fixed interest rate r=0.01 - that is, if we have at $N_{0,0}$ cash account with D dollars, we expect $(1+r)D$ at either $N_{1,1}$ or $N_{1,0}$. We also have a stock with price $S_0 = 10$ at $N_{0,0}$, $S_{1,0} = 8$ at $N_{1,0}$ and $S_{1,1}$ = 15 at $N_{1,1}$\n",
    "\n",
    "Now consider an European call option at time t=1 with strike K=12. Can you price the option at $N_{0,0}$ using a replicating strategy, and what is the price?\n",
    "\n",
    "Please submit your answer rounded to only one decimal digit - for example if your answer is 1.28, then submit 1.3. If your answer is 1.12, submit 1.1."
   ]
  },
  {
   "cell_type": "code",
   "execution_count": 7,
   "metadata": {},
   "outputs": [
    {
     "name": "stdout",
     "output_type": "stream",
     "text": [
      "The equation is 15 * X + 1.01 * Y = 3\n",
      "The equation is 8 * X + 1.01 * Y = 0\n",
      "The price of Call Option is 0.9\n"
     ]
    }
   ],
   "source": [
    "K = 12\n",
    "S_0 = 10\n",
    "R = 1.01\n",
    "S_1_0 = 8\n",
    "S_1_1 = 15\n",
    "\n",
    "print(f\"The equation is {S_1_1} * X + {R} * Y = {np.maximum(S_1_1 - K, 0)}\")\n",
    "print(f\"The equation is {S_1_0} * X + {R} * Y = {np.maximum(S_1_0 - K, 0)}\")\n",
    "a = np.array([[S_1_1, R], [S_1_0, R]])\n",
    "b = np.array([np.maximum(S_1_1 - K, 0), np.maximum(S_1_0 - K, 0)])\n",
    "x, y = np.linalg.solve(a, b)\n",
    "print(f\"The price of Call Option is {np.round(S_0*x + y, 1)}\")"
   ]
  },
  {
   "cell_type": "code",
   "execution_count": 7,
   "metadata": {},
   "outputs": [],
   "source": []
  }
 ],
 "metadata": {
  "kernelspec": {
   "display_name": "Python 3",
   "language": "python",
   "name": "python3"
  },
  "language_info": {
   "codemirror_mode": {
    "name": "ipython",
    "version": 3
   },
   "file_extension": ".py",
   "mimetype": "text/x-python",
   "name": "python",
   "nbconvert_exporter": "python",
   "pygments_lexer": "ipython3",
   "version": "3.8.2"
  }
 },
 "nbformat": 4,
 "nbformat_minor": 1
}
