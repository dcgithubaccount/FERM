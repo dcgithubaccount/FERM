{
 "cells": [
  {
   "cell_type": "code",
   "execution_count": 1,
   "metadata": {},
   "outputs": [],
   "source": [
    "import numpy as np\n",
    "import pandas as pd\n",
    "\n",
    "def stock_tree(S, K, T, r, v, N, q=0, s=\"S\"):\n",
    "    deltaT = T / N\n",
    "    u = np.exp(v * np.sqrt(deltaT))\n",
    "    d = 1 / u\n",
    "    p = (np.exp((r - q)* deltaT) - d) / (u - d)\n",
    "    \n",
    "    # Stock tree\n",
    "    \n",
    "    tree  = np.zeros((N + 1, N + 1), dtype = float)\n",
    "    for i in range(0, N + 1):\n",
    "        for j in range(0, i + 1):\n",
    "            tree[i, j] = (S * u ** (j) * d ** (i - j))\n",
    "    \n",
    "    f_tree = np.zeros((N + 1, N + 1), dtype = float)\n",
    "    f_tree[N,] = tree[N,]\n",
    "    for i in range(N - 1, -1, -1): # Recursively calculate Future value at each node (except final).\n",
    "            for j in range(0, i + 1):\n",
    "                f_tree[i, j] = (f_tree[i + 1, j + 1] * p + f_tree[i + 1, j] * (1 - p))\n",
    "    \n",
    "    if s == 'S':\n",
    "        return tree, deltaT, u, d, p, S, K, T, r, v, N, q\n",
    "    else:\n",
    "        return f_tree, deltaT, u, d, p, S, K, T, r, v, N, q\n",
    "    \n",
    "def new_bopm(option_period, model, optype='c', extype='e'):\n",
    "    excercise_comparison = []\n",
    "    tree, deltaT, u, d, p, S, K, T, r, v, N, q = model\n",
    "    exC = np.maximum((tree - K), 0)\n",
    "\n",
    "    exP = np.maximum((K - tree), 0)\n",
    "    exC = exC[:option_period + 1, :option_period + 1]\n",
    "    exP = exP[:option_period + 1, :option_period + 1]\n",
    "    opTree = np.zeros((option_period + 1, option_period + 1), dtype = float)\n",
    "    \n",
    "    if optype == 'c':\n",
    "        opTree[option_period,] = exC[option_period,] # Fix option value at final node (already  computed in the exercise tree).\n",
    "    else:\n",
    "        opTree[option_period,] = exP[option_period,]\n",
    "    if extype == 'e':\n",
    "        for i in range(option_period - 1, -1, -1): # Recursively calculate option value at each node (except final).\n",
    "            for j in range(0, i + 1):\n",
    "                opTree[i, j] = (opTree[i + 1, j + 1] * p + opTree[i + 1, j] * (1 - p)) / np.exp(r * deltaT)\n",
    "\n",
    "        delta = (opTree[1, 1] - opTree[1, 0]) / (tree [1, 1] - tree[1, 0])\n",
    "        \n",
    "        return opTree, p, delta, opTree[0, 0], ''\n",
    "\n",
    "    else:\n",
    "        for i in range(option_period - 1, -1, -1):\n",
    "            for j in range(0, i + 1):\n",
    "                if (optype == 'c'): exPayoff = exC[i, j]\n",
    "                else : exPayoff = exP[i, j]\n",
    "                holdPayoff = (opTree[i + 1, j + 1] * p + opTree[i + 1, j] * (1 - p)) / np.exp(r * deltaT)\n",
    "                if exPayoff > holdPayoff:\n",
    "                    excercise_comparison.append([exPayoff, holdPayoff, i, j])\n",
    "                opTree[i, j] = np.maximum(exPayoff, holdPayoff)\n",
    "\n",
    "        delta = (opTree[1, 1] - opTree[1, 0]) / (tree [1, 1] - tree[1, 0])\n",
    "#         print(excercise_comparison)\n",
    "        if excercise_comparison:\n",
    "            return opTree, p, delta, opTree[0, 0], excercise_comparison[-1]\n",
    "        else:\n",
    "            return opTree, p, delta, opTree[0, 0], ' '    \n",
    "    \n",
    "\n",
    "\n",
    "    \n",
    "def bopm(S, K, T, r, v, N, optype='c', q=0, extype='e', s=\"S\"):\n",
    "    excercise_comparison = []\n",
    "#     deltaT = T / N\n",
    "#     u = np.exp(v * np.sqrt(deltaT))\n",
    "#     d = 1 / u\n",
    "#     p = (np.exp((r - q)* deltaT) - d) / (u - d)\n",
    "    \n",
    "    # Stock tree\n",
    "    if s == \"S\":\n",
    "        tree, deltaT, u, d, p, S, K, T, r, v, N, q = stock_tree(S, K, T, r, v, N, q)\n",
    "    else:\n",
    "        tree, deltaT, u, d, p, S, K, T, r, v, N, q = stock_tree(S, K, T, r, v, N, q, s=\"F\")\n",
    "    \n",
    "#     print(tree)\n",
    "    \n",
    "    exC = np.maximum((tree - K), 0)\n",
    "\n",
    "    exP = np.maximum((K - tree), 0)\n",
    "        \n",
    "    opTree = np.zeros((N + 1, N + 1), dtype = float)\n",
    "    if optype == 'c':\n",
    "        opTree[N,] = exC[N,] # Fix option value at final node (already  computed in the exercise tree).\n",
    "    else:\n",
    "        opTree[N,] = exP[N,]\n",
    "    \n",
    "    if extype == 'e':\n",
    "        for i in range(N - 1, -1, -1): # Recursively calculate option value at each node (except final).\n",
    "            for j in range(0, i + 1):\n",
    "                opTree[i, j] = (opTree[i + 1, j + 1] * p + opTree[i + 1, j] * (1 - p)) / np.exp(r * deltaT)\n",
    "\n",
    "        delta = (opTree[1, 1] - opTree[1, 0]) / (tree [1, 1] - tree[1, 0])\n",
    "        \n",
    "        return opTree, p, delta, opTree[0, 0], ''\n",
    "\n",
    "    else:\n",
    "        for i in range(N - 1, -1, -1):\n",
    "            for j in range(0, i + 1):\n",
    "                if (optype == 'c'): exPayoff = exC[i, j]\n",
    "                else : exPayoff = exP[i, j]\n",
    "                holdPayoff = (opTree[i + 1, j + 1] * p + opTree[i + 1, j] * (1 - p)) / np.exp(r * deltaT)\n",
    "                if exPayoff > holdPayoff:\n",
    "                    excercise_comparison.append([exPayoff, holdPayoff, i, j])\n",
    "                opTree[i, j] = np.maximum(exPayoff, holdPayoff)\n",
    "\n",
    "        delta = (opTree[1, 1] - opTree[1, 0]) / (tree [1, 1] - tree[1, 0])\n",
    "#         print(excercise_comparison)\n",
    "        if excercise_comparison:\n",
    "            return opTree, p, delta, opTree[0, 0], excercise_comparison[-1]\n",
    "        else:\n",
    "            return opTree, p, delta, opTree[0, 0], ' '\n",
    "        "
   ]
  },
  {
   "cell_type": "markdown",
   "metadata": {
    "collapsed": true,
    "pycharm": {
     "is_executing": true
    }
   },
   "source": [
    "### Question 1 \n",
    "\n",
    "Background: You should build a 15-period binomial model whose parameters are calibrated to a Black-Scholes geometric Brownian motion model with: $T = 0.25 years$, $S_0 = 100$, $r = 2\\%$, $\\sigma = 30\\%$ and a dividend yield of $c = 1\\%$. Your binomial Model should use  u=1.0395.... (This has been rounded to four decimal places but you should not do any rounding in your spreadsheet calculations.)\n",
    "\n",
    "Compute the price of an American call option with strike $K = 110$ and Maturity $T = 0.25 years$\n",
    "\n",
    "Round all your answers to 2 decimal places. So if you compute a price of 12.9876 you should submit an answer of 12.99."
   ]
  },
  {
   "cell_type": "code",
   "execution_count": 2,
   "metadata": {},
   "outputs": [
    {
     "data": {
      "text/plain": "2.604"
     },
     "execution_count": 2,
     "metadata": {},
     "output_type": "execute_result"
    }
   ],
   "source": [
    "c_a_option_tree, c_a_probablity, c_a_delta, c_a_option_price, c_a_exc_comp = bopm(S=100, K=110, T=0.25, r=0.02, v=0.3, N=15, optype='c', q=0.01, extype='a')    \n",
    "np.round(c_a_option_price, 3)"
   ]
  },
  {
   "cell_type": "markdown",
   "metadata": {},
   "source": [
    "### Question 2\n",
    "\n",
    "Following the background in Question 1\n",
    "\n",
    "Compute the price of an American put option with strike $K=110$ and maturity $T = 0.25 years$.\n",
    "\n",
    "Round all your answers to 2 decimal places. So if you compute a price of 12.9876 you should submit an answer of 12.99."
   ]
  },
  {
   "cell_type": "code",
   "execution_count": 3,
   "metadata": {},
   "outputs": [
    {
     "name": "stdout",
     "output_type": "stream",
     "text": [
      "The American Put Option price is 12.36\n"
     ]
    }
   ],
   "source": [
    "p_a_option_tree, p_a_probablity, p_a_delta, p_a_option_price, p_a_exc_comp = bopm(S=100, K=110, T=0.25, r=0.02, v=0.3, N=15, optype='p', q=0.01, extype='a')    \n",
    "print(f\"The American Put Option price is {np.round(p_a_option_price, 3)}\")\n"
   ]
  },
  {
   "cell_type": "markdown",
   "metadata": {},
   "source": [
    "### Question 3 \n",
    "\n",
    "Following the background in Question 1\n",
    "\n",
    "Is it ever optimal to early exercise the put option of Question 2?\n",
    "\n",
    "Round all your answers to 2 decimal places. So if you compute a price of 12.9876 you should submit an answer of 12.99."
   ]
  },
  {
   "cell_type": "code",
   "execution_count": 4,
   "metadata": {},
   "outputs": [
    {
     "name": "stdout",
     "output_type": "stream",
     "text": [
      "Yes [27.60530789182259, 27.58237863996562, 5, 0]\n"
     ]
    }
   ],
   "source": [
    "p_e_option_tree, p_e_probablity, p_e_delta, p_e_option_price, p_e_exc_comp = bopm(S=100, K=110, T=0.25, r=0.02, v=0.3, N=15, optype='p', q=0.01, extype='e')    \n",
    "if p_a_exc_comp:\n",
    "    print(\"Yes\", p_a_exc_comp)\n",
    "else:\n",
    "    print(\"No\")"
   ]
  },
  {
   "cell_type": "markdown",
   "metadata": {},
   "source": [
    "### Question 4\n",
    "\n",
    "Following the background in Question 1\n",
    "\n",
    "If your answer to Question 3 is \"Yes\", when is the earliest period at which it might be optimal to early exercise? (If your answer to Question 3 is \"No\", then you should submit an answer of 15 since exercising after 15 periods is not an early exercise.)\n",
    "\n",
    "Round all your answers to 2 decimal places. So if you compute a price of 12.9876 you should submit an answer of 12.99.\n"
   ]
  },
  {
   "cell_type": "code",
   "execution_count": 5,
   "metadata": {},
   "outputs": [
    {
     "name": "stdout",
     "output_type": "stream",
     "text": [
      "The earliest to excercise is [5, 0]\n"
     ]
    }
   ],
   "source": [
    "print(f\"The earliest to excercise is {p_a_exc_comp[2:]}\")\n"
   ]
  },
  {
   "cell_type": "markdown",
   "metadata": {},
   "source": [
    "### Question 5 \n",
    "\n",
    "Following the background in Question 1\n",
    "\n",
    "Do the call and put option prices of Questions 1 and 2 satisfy put-call parity?\n",
    "\n",
    "Round all your answers to 2 decimal places. So if you compute a price of 12.9876 you should submit an answer of 12.99."
   ]
  },
  {
   "cell_type": "code",
   "execution_count": 6,
   "metadata": {},
   "outputs": [
    {
     "name": "stdout",
     "output_type": "stream",
     "text": [
      " The put call parity holds for European style options\n"
     ]
    }
   ],
   "source": [
    "print(f\" The put call parity holds for European style options\")"
   ]
  },
  {
   "cell_type": "markdown",
   "metadata": {
    "pycharm": {
     "is_executing": true
    }
   },
   "source": [
    "### Question 6\n",
    "\n",
    "Following the background in Question 1\n",
    "\n",
    "Compute the fair value of an American call option with strike $K=110$and maturity $n=10$ periods where the option is written on a futures contract that expires after 15 periods. The futures contract is on the same underlying security of the previous questions.\n",
    "\n",
    "Round all your answers to 2 decimal places. So if you compute a price of 12.9876 you should submit an answer of 12.99."
   ]
  },
  {
   "cell_type": "code",
   "execution_count": 7,
   "metadata": {},
   "outputs": [
    {
     "name": "stdout",
     "output_type": "stream",
     "text": [
      "The American Call Option on Futures is 1.66\n"
     ]
    }
   ],
   "source": [
    "t_list =stock_tree(S=100, K=110, T=0.25, r=0.02, v=0.3, N=15, q=0.01, s=\"F\")   \n",
    "\n",
    "f_c_a_option_tree, f_c_a_probablity, f_c_a_delta, f_c_a_option_price, f_c_a_exc_comp = new_bopm(option_period=10, model=t_list, optype='c', extype='a')\n",
    "print(f\"The American Call Option on Futures is {np.round(f_c_a_option_price, 2)}\")"
   ]
  },
  {
   "cell_type": "markdown",
   "metadata": {},
   "source": [
    "### Question 7\n",
    "\n",
    "Following the background in Question 1\n",
    "\n",
    "What is the earliest time period in which you might want to exercise the American futures option of Question 6?\n",
    "\n",
    "Round all your answers to 2 decimal places. So if you compute a price of 12.9876 you should submit an answer of 12.99."
   ]
  },
  {
   "cell_type": "code",
   "execution_count": 8,
   "metadata": {},
   "outputs": [
    {
     "name": "stdout",
     "output_type": "stream",
     "text": [
      "The earliest to excercise is [7, 7]\n"
     ]
    }
   ],
   "source": [
    "print(f\"The earliest to excercise is {f_c_a_exc_comp[2:]}\")"
   ]
  },
  {
   "cell_type": "code",
   "execution_count": 9,
   "metadata": {},
   "outputs": [],
   "source": [
    "s=1\n",
    "u = 2\n",
    "d = 1/2\n",
    "r = 0.2\n",
    "k = 1\n",
    "\n"
   ]
  }
 ],
 "metadata": {
  "kernelspec": {
   "display_name": "Python 3",
   "language": "python",
   "name": "python3"
  },
  "language_info": {
   "codemirror_mode": {
    "name": "ipython",
    "version": 3
   },
   "file_extension": ".py",
   "mimetype": "text/x-python",
   "name": "python",
   "nbconvert_exporter": "python",
   "pygments_lexer": "ipython3",
   "version": "3.8.2"
  }
 },
 "nbformat": 4,
 "nbformat_minor": 1
}
