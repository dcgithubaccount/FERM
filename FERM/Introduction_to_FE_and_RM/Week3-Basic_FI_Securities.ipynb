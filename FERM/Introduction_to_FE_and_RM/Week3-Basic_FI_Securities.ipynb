{
 "cells": [
  {
   "attachments": {
    "image.png": {
     "image/png": "[encoded data removed]"
    }
   },
   "cell_type": "markdown",
   "metadata": {},
   "source": [
    "### Notes on Week 3 - Basic Fixed Income Securities\n",
    "__Present Value__\n",
    "\n",
    "$PV(c,r) = c_{0} + \\frac{c_{1}}{1+r} + ... + \\frac{c_{N}}{(1+r)^N} = \\Sigma_{k=0}^{N} \\frac{c_{k}}{(1+r)^k}$\n",
    "\n",
    "__Different Lending and Borrowing Rates__\n",
    "\n",
    "In this scenario the Present value will have upper bound as Lending rate as $r_L > r_B$\n",
    "\n",
    "Bounds on Prices \n",
    "\n",
    "$PV(c;r_B) <= P <= PV(c;r_L)$\n",
    "\n",
    "__Annuity & Perpetuity__\n",
    "\n",
    "Perpetuity = $\\frac{A}{r}$\n",
    "\n",
    "Annuity = Perpetuity - Perpetuity starting in year n+1 where n is between 0 and infinity\n",
    "\n",
    "Annuity = $\\frac{A}{r} * (1 - \\frac{1}{(1+r)^n})$\n",
    "\n",
    "__Bonds__\n",
    "\n",
    "Yield to Maturity $\\lambda$ is a crude measure to summarise face value, coupon, maturity and quality into a single measure. \n",
    "\n",
    "$P = \\sum_{k=1}^{2T} \\frac{c}{(1 + \\frac{\\lambda}{2})^k} + \\frac{F}{(1 + \\frac{\\lambda}{2})^{2T}}$\n",
    "\n",
    "Where P is the present value of all the coupons and the last return of Face Value. \n",
    "\n",
    "__Price of a Floating Rate Bond__\n",
    "\n",
    "The price of a Floating Rate Bond is equal to its face Value. $P_f = F$\n",
    "\n",
    "__Term structure of interest rates__\n",
    "\n",
    "Interest rates depend on the term or duration of the loan. Why?\n",
    "* Investors prefer their funds to be liquid rather than tied up.\n",
    "* Investors have to be offered a higher rate to lock in funds for a longer period.\n",
    "* Other explanations: expectation of future rates, market segmentation.\n",
    "\n",
    "Spot Rate $s_t$ is the loan maturing in t years\n",
    "\n",
    "A in year t  = $ PV = \\frac{A}{(1+s_t)^t}$ \n",
    "\n",
    "Discount rate $d(0,t) = \\frac{1}{(1+s_t)^t}$\n",
    "\n",
    "Forward Rate $f_{uv}$ interest rate quoted for lending from year u to v  \n",
    "\n",
    "![image.png](attachment:image.png)\n",
    "\n",
    "__Forward Contracts__\n",
    "\n",
    "A forward contract gives the buyer the right, and also the obligation,to purchase\n",
    "* a specified amount of an asset\n",
    "* at a specified time T\n",
    "* at a specified price F (called the forward price) set at time t = 0\n",
    "\n",
    "The Forward price is set in such a way that at t=0 value of contract is 0 $f_0 = 0$. This makes Forward Price F as the discounted value of Current Spot Price\n",
    "\n",
    "$F = \\frac{S_{0}}{d(0,T)}$\n",
    "\n",
    "Foward value $f_t$ for t > 0 what should it be ??\n",
    "\n",
    "* at time 0: $f_0$ = 0\n",
    "* at time T: $f_T = S_T − F$\n",
    "* $F_0$: Forward price at time 0 for delivery at time T\n",
    "* $F_t$: Forward price at time t for delivery at time T\n",
    "\n",
    "| Cash Flow | t = t | t = T |\n",
    "| -- | -- | -- |\n",
    "| Short $F_t$ contract | 0 | $F_t$ - $S_t$ |\n",
    "| Long $F_0$ contract | $-f_t$ | $S_T$ - $F_0$ |\n",
    "| Net Cash Flow | $-f_t$ | $F_t$ - $F_0$ |\n",
    "\n",
    "\n",
    "$f_t = (F_t - F_0)d(t, T)$"
   ]
  },
  {
   "cell_type": "markdown",
   "metadata": {},
   "source": [
    "### Question 1\n",
    "**Lottery payments**\n",
    "\n",
    "A major lottery advertises that it pays the winner \\\\$10 million. However, this prize money is paid at the rate of \\\\$500,000 each year (with the first payment being immediate) for a total of 20 payments. What is the present value of this prize at 10% interest compounded annually?\n",
    "\n",
    "Report your answer in $millions, rounded to two decimal places. For example, if you compute the answer to be 5.7124 million dollars then you should submit an answer of 5.71."
   ]
  },
  {
   "cell_type": "code",
   "execution_count": 1,
   "metadata": {},
   "outputs": [
    {
     "name": "stdout",
     "output_type": "stream",
     "text": [
      "The PV of the Lottery Payment is $4.68 millions\n"
     ]
    }
   ],
   "source": [
    "import numpy as np\n",
    "rate = 0.1\n",
    "pmt = 500000\n",
    "nper = 20 \n",
    "time_points = np.arange(0, 20, 1)\n",
    "# discount_rate = np.exp(-1 * rate * time_points)\n",
    "discount_rate = pow((1+rate), -1*time_points)\n",
    "payments = (pmt * discount_rate) / 1000000\n",
    "print ( f\"The PV of the Lottery Payment is ${round(payments.sum(), 2)} millions\")"
   ]
  },
  {
   "cell_type": "markdown",
   "metadata": {},
   "source": [
    "### Question 2\n",
    "**Sunk Costs (Exercise 2.6 in Luenberger)**\n",
    "\n",
    "A young couple has made a deposit of the first month's rent (equal to $1,000) on a 6-month apartment lease. The deposit is refundable at the end of six months if they stay until the end of the lease.\n",
    "\n",
    " The next day they find a different apartment that they like just as well, but its monthly rent is only $900. And they would again have to put a deposit of \\\\$900 refundable at the end of 6 months. \n",
    "\n",
    "They plan to be in the apartment only 6 months. Should they switch to the new apartment? Assume an (admittedly unrealistic!) interest rate of 12% per month compounded monthly."
   ]
  },
  {
   "cell_type": "code",
   "execution_count": 2,
   "metadata": {},
   "outputs": [
    {
     "name": "stdout",
     "output_type": "stream",
     "text": [
      "Stay In the Property. Cash Value of Deposit 1 is $-493.36887882267945\n"
     ]
    }
   ],
   "source": [
    "rate = 0.12\n",
    "deposit_1 = 1000\n",
    "deposit_2 = 900\n",
    "time = 6 \n",
    "pv_of_deposit_1_in_6_months = deposit_1 * pow((1+rate), -1*6)\n",
    "pv_of_deposit_2_in_6_months = deposit_2 * pow((1+rate), -1*6)\n",
    "# print(pv_of_deposit_1_in_6_months, pv_of_deposit_2_in_6_months)\n",
    "deposit_1_cash_value = -1*deposit_1 + pv_of_deposit_1_in_6_months\n",
    "deposit_2_cash_value = -1* deposit_1 + -1*deposit_2 + pv_of_deposit_2_in_6_months\n",
    "# print(deposit_1_cash_value, deposit_2_cash_value)\n",
    "if deposit_1_cash_value > deposit_2_cash_value:\n",
    "    print(f\"Stay In the Property. Cash Value of Deposit 1 is ${deposit_1_cash_value}\")\n",
    "else:\n",
    "    print(f\"Switch into new Property. Cash Value of Deposit 2 is ${deposit_2_cash_value}\")"
   ]
  },
  {
   "cell_type": "markdown",
   "metadata": {},
   "source": [
    "### Question 3\n",
    "**Relation between spot and discount rates**\n",
    "\n",
    "Suppose the spot rates for 1 and 2 years are \n",
    "$s_{1} = 6.3 \\%$ and $s_{2} = 6.9 \\%$ with annual compounding. Recall that in this course, interest rates are always quoted on an annual basis unless otherwise specified. What is the discount rate \n",
    "$d(0,2)$ ?\n",
    "\n",
    "Please submit your answer rounded to three decimal places. For example, if your answer is 0.4567 then you should submit an answer of 0.457."
   ]
  },
  {
   "cell_type": "code",
   "execution_count": 3,
   "metadata": {},
   "outputs": [
    {
     "name": "stdout",
     "output_type": "stream",
     "text": [
      "The discount rate is 0.875\n"
     ]
    }
   ],
   "source": [
    "s_1 = 6.3/100\n",
    "s_2 = 6.9/100\n",
    "d_0_2 = 1/pow((1+s_2), 2)\n",
    "print(f\"The discount rate is {np.round(d_0_2, 3)}\")"
   ]
  },
  {
   "cell_type": "markdown",
   "metadata": {},
   "source": [
    "### Question 4\n",
    "**Relation between spot and forward rates**\n",
    "\n",
    "Suppose the spot rates for 1 and 2 years are \n",
    "$s_{1} = 6.3 \\%$ and $s_{2} = 6.9 \\%$ with annual compounding. Recall that in this course, interest rates are always quoted on an annual basis unless otherwise specified. What is the forward rate, \n",
    "$f_{1,2}$ assuming annual compounding?\n",
    "\n",
    "Please submit your answer as a percentage rounded to one decimal place. For example, if your answer is 8.789% then you should submit an answer of 8.8."
   ]
  },
  {
   "cell_type": "code",
   "execution_count": 4,
   "metadata": {},
   "outputs": [
    {
     "name": "stdout",
     "output_type": "stream",
     "text": [
      "The f_1_2 forward rate is 7.5\n"
     ]
    }
   ],
   "source": [
    "s_1 = 6.3/100\n",
    "s_2 = 6.9/100\n",
    "\n",
    "f_1_2 = (pow((1+s_2), 2) / (1+s_1)) - 1\n",
    "print(f\"The f_1_2 forward rate is {np.round(f_1_2*100, 2)}\")"
   ]
  },
  {
   "cell_type": "markdown",
   "metadata": {},
   "source": [
    "### Question 5\n",
    "**Forward contract on a stock**\n",
    "\n",
    "The current price of a stock is \\\\$400 per share and it pays no dividend. Assuming a constant interest rate of 8\\% per year compounded quarterly, what is the stock's theoretical forward price for delivery in 9 months? \n",
    "\n",
    " Please submit your answer rounded to two decimal places. For example, if your answer is 567.1234 then you should submit an answer of 567.12"
   ]
  },
  {
   "cell_type": "code",
   "execution_count": 5,
   "metadata": {},
   "outputs": [
    {
     "name": "stdout",
     "output_type": "stream",
     "text": [
      "The forward stock price in 0.75 years is $424.48\n"
     ]
    }
   ],
   "source": [
    "rate = 0.08\n",
    "# n is in years \n",
    "n = 9/12\n",
    "delta_t = 4\n",
    "s_0 = 400\n",
    "forward_stock_price = s_0 * pow((1+rate/delta_t),(n*delta_t))\n",
    "forward_stock_price\n",
    "print(f\"The forward stock price in {n} years is ${round(forward_stock_price, 2)}\")"
   ]
  },
  {
   "cell_type": "markdown",
   "metadata": {},
   "source": [
    "### Question 6\n",
    "**Bounds using different lending and borrowing rate**\n",
    "\n",
    "Suppose the borrowing rate $r_{B}$ =10\\% compounded annually. However, the lending rate (or equivalently, the interest rate on deposits) is only \n",
    "8\\% compounded annually. \n",
    "\n",
    "Compute the difference between the upper and lower bounds on the price of a perpetuity that pays A=10,000$ per year.\n",
    "\n",
    "Please submit your answer rounded to the nearest dollar. If your answer is 23,456.789 then you should submit an answer of 23457."
   ]
  },
  {
   "cell_type": "code",
   "execution_count": 6,
   "metadata": {},
   "outputs": [
    {
     "name": "stdout",
     "output_type": "stream",
     "text": [
      "The upper bound is 125000.0 and lower bound is 100000.0. The difference is 25000.0\n"
     ]
    }
   ],
   "source": [
    "perpetual_amount = 10000\n",
    "r_b = 0.1\n",
    "r_l = 0.08\n",
    "\n",
    "borrowing_bond_price = perpetual_amount / r_b\n",
    "lending_bond_price = perpetual_amount / r_l\n",
    "print(f\"The upper bound is {lending_bond_price} and lower bound is {borrowing_bond_price}. The difference is {np.round((lending_bond_price - borrowing_bond_price), 0)}\" )\n",
    "\n"
   ]
  },
  {
   "cell_type": "markdown",
   "metadata": {},
   "source": [
    "### Question 7\n",
    "**Value of a Forward contract at an intermediate time**\n",
    "\n",
    "Suppose we hold a forward contract on a stock with expiration 6 months from now. We entered into this contract 6 months ago, so when we entered into the contract the expiration was T = 1 year. The stock prices 6 months ago was $S_{0} = 100$, then the stock price is 125 and current Interest rate is $r = 10\\%$ compounded Semi Annually. (This is the same rate that prevailed 6 months ago). What is the current value of our forward contract?\n",
    "\n",
    "Please submit your answer in dollars rounded to the nearest dollar. If your answer is 42.678 then you should submit an answer of 43.\n"
   ]
  },
  {
   "cell_type": "code",
   "execution_count": 7,
   "metadata": {},
   "outputs": [
    {
     "data": {
      "text/plain": [
       "20.0"
      ]
     },
     "execution_count": 7,
     "metadata": {},
     "output_type": "execute_result"
    }
   ],
   "source": [
    "import pandas as pd\n",
    "def discount(t, r):\n",
    "    \"\"\"\n",
    "    Compute the price of a pure discount bond that pays a dollar at time period t\n",
    "    and r is the per-period interest rate\n",
    "    returns a |t| x |r| Series or DataFrame\n",
    "    r can be a float, Series or DataFrame\n",
    "    returns a DataFrame indexed by t\n",
    "    \"\"\"\n",
    "    discounts = pd.DataFrame([(r + 1) ** -i for i in t])\n",
    "    discounts.index = t\n",
    "    return discounts\n",
    "r = 0.1\n",
    "S_0 = 100\n",
    "S_t = 125\n",
    "d_0_2 =1/pow(1+0.1/2, 2)\n",
    "d_1_2 = 1/pow(1+0.1/2, 1)\n",
    "F_0 = S_0/d_0_2\n",
    "F_t = S_t/d_1_2\n",
    "f_t = np.round((F_t - F_0)*d_1_2)\n",
    "f_t"
   ]
  },
  {
   "cell_type": "code",
   "execution_count": 7,
   "metadata": {},
   "outputs": [],
   "source": []
  }
 ],
 "metadata": {
  "kernelspec": {
   "display_name": "Python 3",
   "language": "python",
   "name": "python3"
  },
  "language_info": {
   "codemirror_mode": {
    "name": "ipython",
    "version": 3
   },
   "file_extension": ".py",
   "mimetype": "text/x-python",
   "name": "python",
   "nbconvert_exporter": "python",
   "pygments_lexer": "ipython3",
   "version": "3.8.2"
  }
 },
 "nbformat": 4,
 "nbformat_minor": 1
}
